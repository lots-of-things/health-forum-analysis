{
 "cells": [
  {
   "cell_type": "code",
   "execution_count": 36,
   "metadata": {
    "collapsed": true
   },
   "outputs": [],
   "source": [
    "import pandas as pd\n",
    "import re\n",
    "import seaborn as sns\n",
    "import glob\n",
    "import cloudpickle\n",
    "from matplotlib import pyplot as plt\n",
    "%matplotlib inline\n",
    "import numpy as np"
   ]
  },
  {
   "cell_type": "code",
   "execution_count": 25,
   "metadata": {
    "collapsed": false
   },
   "outputs": [],
   "source": [
    "disease_lookup = cloudpickle.load(open(\"pickles/disease_lookup_trunc.pkl\", \"rb\" ) )\n",
    "disease_list = cloudpickle.load(open(\"pickles/disease_list_trunc.pkl\", \"rb\" ) )\n",
    "\n",
    "disease_list=[{'name':a[0],'clin_ref':a[1],'synonyms':a[2],\\\n",
    "               'wiki_ref':'','clin_freq':0,'wiki_freq':0,'wiki_ref_freq':0,'forum_freq':0,'doctor_freq':0}\\\n",
    "              for a in disease_list]\n",
    "\n",
    "for dis in disease_list:\n",
    "    for k in dis['synonyms']:\n",
    "        if(len(k)<len(dis['name'])):\n",
    "            dis['name']=k"
   ]
  },
  {
   "cell_type": "code",
   "execution_count": 26,
   "metadata": {
    "collapsed": false
   },
   "outputs": [],
   "source": [
    "allFiles = glob.glob(\"diseasedata/nndss/NNDSS_-_Table_II*.csv\")\n",
    "frame = pd.DataFrame()\n",
    "list_ = []\n",
    "for file_ in allFiles:\n",
    "    df = pd.read_csv(file_,index_col=None, header=0)\n",
    "    df.columns = [col.strip() for col in df.columns]\n",
    "    df=df.loc[(df['Reporting Area']=='UNITED STATES') & (df['MMWR Week']==37),:]\n",
    "    c=[col for col in df.columns if \"Cum 2015\"in col and not \"flag\" in col]\n",
    "    v=df[c].values[0]\n",
    "    df_to=pd.DataFrame({'Disease': [col.split(',')[0].split('(')[0].split('\\xc2')[0] for col in c], 'Total cases reported  2015' :v})\n",
    "    list_.append(df_to)"
   ]
  },
  {
   "cell_type": "code",
   "execution_count": 27,
   "metadata": {
    "collapsed": false
   },
   "outputs": [],
   "source": [
    "df_infreq=pd.read_csv(\"diseasedata/nndss/NNDSS_-_Table_I._infrequently_reported_notifiable_diseases.csv\",index_col=None, header=0)\n",
    "list_.append(df_infreq[['Disease','Total cases reported  2015']].dropna())\n",
    "df_reports = pd.concat(list_)\n",
    "df_reports.columns=['Disease','Count']\n",
    "df_reports['Disease']=df_reports['Disease'].apply(lambda x: x.lower())"
   ]
  },
  {
   "cell_type": "code",
   "execution_count": 28,
   "metadata": {
    "collapsed": true
   },
   "outputs": [],
   "source": [
    "from nltk import ngrams\n",
    "\n",
    "def get_toks(txt,ngram_length):\n",
    "    return [item for sublist in \\\n",
    "             [[\" \".join(grams) for grams in ngrams(txt.split(), n)] \\\n",
    "             for n in range(ngram_length)] \\\n",
    "             for item in sublist]\n",
    "\n",
    "def get_dislist_simple(diseases,text):\n",
    "    choptext=dict([[a,0] for a in get_toks(text,4)])\n",
    "    return [k for k in diseases if k in choptext]\n"
   ]
  },
  {
   "cell_type": "code",
   "execution_count": 29,
   "metadata": {
    "collapsed": false
   },
   "outputs": [
    {
     "name": "stdout",
     "output_type": "stream",
     "text": [
      "0\n",
      "1000\n"
     ]
    }
   ],
   "source": [
    "for i,repo in enumerate(df_reports['Disease'].values):\n",
    "    if(i%1000==0):\n",
    "        print i\n",
    "    txt = df_reports.loc[df_reports['Disease']==repo,'Disease'].values[0].lower()\n",
    "    cnt = df_reports.loc[df_reports['Disease']==repo,'Count'].values[0]\n",
    "    alldiags = get_dislist_simple(disease_lookup.keys(),txt)\n",
    "    for k in set([disease_lookup[x] for x in alldiags]):\n",
    "        disease_list[k]['clin_freq']=disease_list[k]['clin_freq']+cnt"
   ]
  },
  {
   "cell_type": "code",
   "execution_count": 30,
   "metadata": {
    "collapsed": false
   },
   "outputs": [],
   "source": [
    "import cloudpickle\n",
    "all_mentions = cloudpickle.load(open(\"pickles/alltext_labels.pkl\", \"rb\" ) )\n",
    "doc_mentions = cloudpickle.load(open(\"pickles/doctortext_labels.pkl\", \"rb\" ) )\n"
   ]
  },
  {
   "cell_type": "code",
   "execution_count": 31,
   "metadata": {
    "collapsed": true
   },
   "outputs": [],
   "source": [
    "allment=all_mentions.sum(axis=0).tolist()[0]\n",
    "docment=doc_mentions.sum(axis=0).tolist()[0]\n",
    "\n",
    "for (i,m) in enumerate(allment):\n",
    "    disease_list[i]['forum_freq']=disease_list[i]['forum_freq']+m \n",
    "for (i,m) in enumerate(docment):\n",
    "    disease_list[i]['doctor_freq']=disease_list[i]['doctor_freq']+m "
   ]
  },
  {
   "cell_type": "code",
   "execution_count": 32,
   "metadata": {
    "collapsed": false
   },
   "outputs": [],
   "source": [
    "df_wiki = pd.read_csv(\"diseasedata/wiki_list.csv\",index_col=None, header=0)\n",
    "df_wiki=df_wiki[['name','ref','views']]\n",
    "df_wiki.columns=['Disease','Ref','Count']\n",
    "df_wiki=df_wiki.dropna()"
   ]
  },
  {
   "cell_type": "code",
   "execution_count": 33,
   "metadata": {
    "collapsed": false
   },
   "outputs": [
    {
     "name": "stdout",
     "output_type": "stream",
     "text": [
      "0\n",
      "1000\n",
      "2000\n",
      "3000\n",
      "4000\n"
     ]
    }
   ],
   "source": [
    "\n",
    "for i,repo in enumerate(df_wiki['Disease'].values):\n",
    "    if(i%1000==0):\n",
    "        print i\n",
    "    txt = df_wiki.loc[df_wiki['Disease']==repo,'Disease'].values[0].lower()\n",
    "    cnt = df_wiki.loc[df_wiki['Disease']==repo,'Count'].values[0]\n",
    "    wiki= df_wiki.loc[df_wiki['Disease']==repo,'Ref'].values[0]\n",
    "    alldiags = get_dislist_simple(disease_lookup.keys(),txt)\n",
    "    for k in set([disease_lookup[x] for x in alldiags]):\n",
    "        disease_list[k]['wiki_freq']=disease_list[k]['wiki_freq']+cnt\n",
    "        if(disease_list[k]['wiki_ref_freq']<cnt):\n",
    "            disease_list[k]['wiki_ref_freq']=cnt\n",
    "            disease_list[k]['wiki_ref']=wiki"
   ]
  },
  {
   "cell_type": "code",
   "execution_count": 34,
   "metadata": {
    "collapsed": true
   },
   "outputs": [],
   "source": [
    "with open(\"pickles/disease_db.pkl\", 'wb') as handle:\n",
    "    cloudpickle.dump(disease_list, handle)"
   ]
  },
  {
   "cell_type": "code",
   "execution_count": 37,
   "metadata": {
    "collapsed": false
   },
   "outputs": [
    {
     "data": {
      "text/plain": [
       "<matplotlib.axes._subplots.AxesSubplot at 0x7efbb8215d90>"
      ]
     },
     "execution_count": 37,
     "metadata": {},
     "output_type": "execute_result"
    },
    {
     "data": {
      "image/png": "[encoded data removed]",
      "text/plain": [
       "<matplotlib.figure.Figure at 0x7efbb8215610>"
      ]
     },
     "metadata": {},
     "output_type": "display_data"
    }
   ],
   "source": [
    "y=np.asarray(all_mentions.todense()).squeeze()\n",
    "\n",
    "import seaborn as sns\n",
    "%matplotlib inline\n",
    "from sklearn.metrics.pairwise import cosine_similarity\n",
    "cond_sim = cosine_similarity(y.T)\n",
    "sns.heatmap(cond_sim)"
   ]
  },
  {
   "cell_type": "code",
   "execution_count": 38,
   "metadata": {
    "collapsed": true
   },
   "outputs": [],
   "source": [
    "with open(\"pickles/disease_similarity.pkl\", 'wb') as handle:\n",
    "    cloudpickle.dump(cond_sim, handle)"
   ]
  },
  {
   "cell_type": "code",
   "execution_count": null,
   "metadata": {
    "collapsed": true
   },
   "outputs": [],
   "source": []
  }
 ],
 "metadata": {
  "kernelspec": {
   "display_name": "Python 2",
   "language": "python",
   "name": "python2"
  },
  "language_info": {
   "codemirror_mode": {
    "name": "ipython",
    "version": 2
   },
   "file_extension": ".py",
   "mimetype": "text/x-python",
   "name": "python",
   "nbconvert_exporter": "python",
   "pygments_lexer": "ipython2",
   "version": "2.7.12"
  }
 },
 "nbformat": 4,
 "nbformat_minor": 0
}
