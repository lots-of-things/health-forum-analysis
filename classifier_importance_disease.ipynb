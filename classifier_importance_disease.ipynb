{
 "cells": [
  {
   "cell_type": "code",
   "execution_count": 1,
   "metadata": {
    "collapsed": true
   },
   "outputs": [],
   "source": [
    "import pandas as pd\n",
    "import seaborn as sns\n",
    "import numpy as np\n",
    "import enchant\n",
    "import cloudpickle\n",
    "%matplotlib inline"
   ]
  },
  {
   "cell_type": "code",
   "execution_count": 2,
   "metadata": {
    "collapsed": false
   },
   "outputs": [],
   "source": [
    "y = cloudpickle.load(open(\"pickles/forum_label.pkl\", \"rb\" ) )"
   ]
  },
  {
   "cell_type": "code",
   "execution_count": 3,
   "metadata": {
    "collapsed": true
   },
   "outputs": [],
   "source": [
    "disease_db = cloudpickle.load(open(\"pickles/disease_db.pkl\", \"rb\" ) )"
   ]
  },
  {
   "cell_type": "code",
   "execution_count": 4,
   "metadata": {
    "collapsed": false
   },
   "outputs": [],
   "source": [
    "tfidf = cloudpickle.load(open(\"pickles/forum_vecrepresent.pkl\", \"rb\" ) )\n",
    "forum_vectorizer = cloudpickle.load(open(\"pickles/forum_vectorizer.pkl\", \"rb\" ) )"
   ]
  },
  {
   "cell_type": "code",
   "execution_count": 5,
   "metadata": {
    "collapsed": false
   },
   "outputs": [
    {
     "name": "stdout",
     "output_type": "stream",
     "text": [
      "(13458, 836)\n",
      "(13458, 72)\n"
     ]
    }
   ],
   "source": [
    "print tfidf.shape\n",
    "print y.shape"
   ]
  },
  {
   "cell_type": "markdown",
   "metadata": {},
   "source": [
    "Just randomly assigning some pregnancies to be 0 cause they are super over represented"
   ]
  },
  {
   "cell_type": "code",
   "execution_count": 6,
   "metadata": {
    "collapsed": false
   },
   "outputs": [],
   "source": [
    "dropi = [i for i,d in enumerate(disease_db) if d['name']=='pregnancy'][0]\n",
    "tozero = y[:,dropi]==1\n",
    "y[tozero,dropi]=1*(np.random.random((tozero.sum(),))<0.1)"
   ]
  },
  {
   "cell_type": "code",
   "execution_count": 7,
   "metadata": {
    "collapsed": false
   },
   "outputs": [
    {
     "name": "stdout",
     "output_type": "stream",
     "text": [
      "849\n",
      "(13458, 836)\n",
      "(13458, 72)\n"
     ]
    }
   ],
   "source": [
    "print y[:,dropi].sum()\n",
    "print tfidf.shape\n",
    "print y.shape"
   ]
  },
  {
   "cell_type": "code",
   "execution_count": 8,
   "metadata": {
    "collapsed": true
   },
   "outputs": [],
   "source": [
    "from sklearn.cross_validation import train_test_split\n",
    "X_train, X_test, y_train, y_test = train_test_split(tfidf, y, test_size=0.1, random_state=42)"
   ]
  },
  {
   "cell_type": "code",
   "execution_count": 29,
   "metadata": {
    "collapsed": false
   },
   "outputs": [
    {
     "name": "stdout",
     "output_type": "stream",
     "text": [
      "gerd\n",
      "acne\n",
      "aids\n",
      "adenomyosis\n",
      "cancer\n",
      "allergies\n",
      "hair loss\n",
      "amenorrhea\n",
      "gas\n",
      "anemia\n",
      "anorgasmia\n",
      "anxiety\n",
      "appendicitis\n",
      "arthritis\n",
      "asthma\n",
      "back pain\n",
      "bacterial vaginosis\n",
      "vaginitis\n",
      "folliculitis\n",
      "cystitis\n",
      "high blood pressure\n",
      "stroke\n",
      "breast cancer\n",
      "breast pain\n",
      "bronchitis\n",
      "burns\n",
      "flu\n",
      "birth defects\n",
      "bleeding disorders\n",
      "blood clot\n",
      "family history\n",
      "breastfeeding\n",
      "candidiasis\n",
      "thrush\n",
      "chlamydia\n",
      "common cold\n",
      "diabetes\n",
      "nutrition\n",
      "ear infection\n",
      "ebv infection\n",
      "pid\n",
      "pneumonia\n",
      "genital herpes\n",
      "genital warts\n",
      "gonorrhea\n",
      "zoster\n",
      "hypertension\n",
      "infertility\n",
      "inflammatory bowel disease\n",
      "molluscum contagiosum\n",
      "mucus\n",
      "outbreaks\n",
      "pad\n",
      "pcp\n",
      "pelvic inflammatory disease\n",
      "pregnancy\n",
      "psoriasis\n",
      "runny nose\n",
      "salt\n",
      "scabies\n",
      "sexually transmitted diseases\n",
      "syphilis\n",
      "trichomoniasis\n",
      "shingles\n",
      "sinus infection\n",
      "sore throat\n",
      "staph\n",
      "strep throat\n",
      "tinea\n",
      "video\n",
      "vitamins\n",
      "yeast infection\n"
     ]
    },
    {
     "name": "stderr",
     "output_type": "stream",
     "text": [
      "/home/will/anaconda/lib/python2.7/site-packages/sklearn/metrics/classification.py:1076: UndefinedMetricWarning: F-score is ill-defined and being set to 0.0 due to no true samples.\n",
      "  'recall', 'true', average, warn_for)\n"
     ]
    }
   ],
   "source": [
    "# from sklearn.naive_bayes import MultinomialNB\n",
    "# clf = MultinomialNB().fit(tfidf_train, y_train)\n",
    "# from sklearn.linear_model import LogisticRegression\n",
    "# from sklearn.multiclass import OneVsRestClassifier\n",
    "from sklearn.metrics import accuracy_score\n",
    "from sklearn.metrics import f1_score\n",
    "\n",
    "feat_name = np.array(forum_vectorizer.get_feature_names())\n",
    "from sklearn.ensemble import RandomForestClassifier\n",
    "for col in range(y_train.shape[1]):\n",
    "    print disease_db[col]['name']\n",
    "    clf = RandomForestClassifier(n_estimators=20).fit(X_train, y_train[:,col])\n",
    "    disease_db[col]['accuracy'] = accuracy_score(clf.predict(X_test), y_test[:,col])\n",
    "    disease_db[col]['f1'] = f1_score(clf.predict(X_test), y_test[:,col])\n",
    "    importances = clf.feature_importances_\n",
    "    indices = np.argsort(importances)[::-1][:10]\n",
    "    disease_db[col]['words'] = ';'.join(feat_name[indices])\n",
    "    del clf"
   ]
  },
  {
   "cell_type": "code",
   "execution_count": 17,
   "metadata": {
    "collapsed": true
   },
   "outputs": [
    {
     "name": "stdout",
     "output_type": "stream",
     "text": [
      "gerd,gerd,0.995542347697,eat;abdomin;bit;problem;ani;goe;wors;wa;left;sever\n",
      "acne,acne,0.986627043091,face;pimpl;skin;hair;effect;wors;pill;use;start;im\n",
      "aids,aids,0.973254086181,std;hiv;sex;ani;thi;bump;infect;day;week;peni\n",
      "adenomyosis,adenomyosis,0.988112927192,pain;pelvic;thi;period;sever;year;bad;feel;start;cramp\n",
      "cancer,cancer,0.979940564636,cancer;period;lump;hpv;breast;pap;left;doctor;famili;abnorm\n",
      "allergies,allergies,0.991084695394,ear;throat;nose;problem;cold;bad;rash;thi;look;medic\n",
      "hair loss,hair loss,0.996285289747,hair;loss;ani;hormon;month;ha;extrem;im pregnant;lose;prescrib\n",
      "amenorrhea,amenorrhea,0.979940564636,period;old;month;wa;havent;thi;period sinc;sinc;year;test\n",
      "gas,gas,0.980683506686,stomach;eat;pass;constip;feel;bloat;pain;abdomin;abdomin pain;like\n",
      "anemia,anemia,0.94279346211,bleed;heavi;blood;period;stop;month;im;day;week;pregnant\n",
      "anorgasmia,anorgasmia,0.993313521545,orgasm;feel;anyth;situat;masturb;wa;love;ani;thi;sex\n",
      "anxiety,anxiety,0.962109955423,erect;depress;masturb;period;ejacul;headach;wa;thi;day;feel\n",
      "appendicitis,appendicitis,0.996285289747,thi;right;abdomin pain;pain;sever;belli;ha;abdomin;time;abdomen\n",
      "arthritis,arthritis,0.993313521545,year;abl;test;time;common;hand;swollen;im;ani idea;suggest\n",
      "asthma,asthma,0.998514115899,someth;4;diseas;time;like;thing;test;abl;throat;problem\n",
      "back pain,back pain,0.956166419019,pain;lower;cramp;period;day;pregnant;neg;hpt;pregnanc;symptom\n",
      "bacterial vaginosis,bacterial vaginosis,0.990341753343,smell;odor;discharg;vagina;strong;coupl;thi;diagnos;itch;im\n",
      "vaginitis,vaginitis,0.979197622585,start;vagin;discharg;sex;effect;brown;start period;boyfriend;week;thi\n",
      "folliculitis,folliculitis,0.988855869242,bump;lump;shave;skin;small;labia;lip;hair;vagina;just\n",
      "cystitis,cystitis,0.988855869242,urin;bladder;uti;pain;pee;strong;thi;advic;right;come\n",
      "high blood pressure,high blood pressure,0.990341753343,pressur;erect;high;problem;healthi;blood;masturb;abl;caus;sex\n",
      "stroke,stroke,0.996285289747,sever;regular;thi;gone;new;birth control;just;headach;seriou;come\n",
      "breast cancer,breast cancer,0.991827637444,breast;cancer;effect;feel;hot;famili;left;sore;stay;recent\n",
      "breast pain,breast pain,0.994056463596,breast;effect;period;pain;abdomin;experienc;thing;day;feel;thi\n",
      "bronchitis,bronchitis,0.996285289747,throat;sever;irrit;someth;ani;best;say;clear;sore;ha\n",
      "burns,burns,0.990341753343,burn;vagina;sex;heal;help;big;pain;skin;shaft;doctor\n",
      "flu,flu,0.990341753343,fever;cold;throat;symptom;hiv;day;wa;bodi;sick;effect\n",
      "birth defects,birth defects,0.995542347697,safe;wa pregnant;medic;risk;pregnanc;babi;effect;know;took;remov\n",
      "bleeding disorders,bleeding disorders,0.994799405646,week;day;bleed;month;juli;3;doctor;blood;everi;regular\n",
      "blood clot,blood clot,0.983655274889,clot;blood;larg;bleed;period;thi;wa;minut;day;control\n",
      "family history,family history,0.990341753343,histori;famili;im scare;test;diagnos;arm;better;doesnt;remov;thi\n",
      "breastfeeding,breastfeeding,0.988855869242,month;stop;week;ago;symptom;pregnant;normal;daughter;babi;period\n",
      "candidiasis,candidiasis,0.997771173848,stuff;discharg;infect;white;pleas;itch;yeast;strang;irrit;thing\n",
      "thrush,thrush,0.988855869242,itchi;vagina;hurt;sex;cream;partner;feel;like;area;test\n",
      "chlamydia,chlamydia,0.988112927192,chlamydia;treat;test posit;period;std;discharg;ha;sexual;urin;wa test\n",
      "common cold,common cold,0.997771173848,cold;throat;increas;common;irrit;week;feel;exposur;contract;itch\n",
      "diabetes,diabetes,0.97176820208,erect;problem;leg;urin;ha;peni;abl;pee;dont;ejacul\n",
      "nutrition,nutrition,1.0,increas;fine;help;babi;white;ani;im just;regard;develop;pregnant\n",
      "ear infection,ear infection,0.996285289747,ear;infect;throat;antibiot;bigger;sound;right;wa;month;medic\n",
      "ebv infection,ebv infection,0.997028231798,hpv;red;wart;greatli;check;gone;area;6 month;told;possibl\n",
      "pid,pid,0.964338781575,pain;brown;thi;sex;period;normal;pelvic;dark;wa;someth\n",
      "pneumonia,pneumonia,0.997771173848,irrit;infect;ani;time;increas;chest;mother;right;constantli;week\n",
      "genital herpes,genital herpes,0.999257057949,genit herp;herp;genit;vagina;outbreak;hiv;infect;bump;sore;onli\n",
      "genital warts,genital warts,0.991827637444,wart;genit;hpv;bump;look;vagina;partner;wa;skin;doctor said\n",
      "gonorrhea,gonorrhea,0.989598811293,chlamydia;oral;bleed;brown;hiv;sexual;sex;test;oral sex;discharg\n",
      "zoster,zoster,0.999257057949,herp;blister;rash;onli;hi;itch;skin;ill;feel like;twice\n",
      "hypertension,hypertension,0.995542347697,problem;prevent;second;arm;ha;bed;erect;sex;dizzi;year\n",
      "infertility,infertility,0.941307578009,tri;conceiv;help;babi;pregnant;year;irregular;want;wa;period\n",
      "inflammatory bowel disease,inflammatory bowel disease,0.995542347697,pain;abdomen;feel;blood;stomach;wors;bad;whi;wake;condom\n",
      "molluscum contagiosum,molluscum contagiosum,0.999257057949,appear;area;pimpl;hi;shaft;wart;week;tell;final;inform\n",
      "mucus,mucus,0.929420505201,ovul;conceiv;tri;fertil;pregnant;day;period;ovari;irregular;thi\n",
      "outbreaks,outbreaks,0.997028231798,outbreak;herp;ha;infect;genit;old male;genit herp;thi;told;2 year\n",
      "pad,pad,0.98514115899,pad;wear;wipe;wa;bleed;heavi;clot;period;afterward;thi\n",
      "pcp,pcp,0.997028231798,new;left;abdomin;food;experienc;1;constip;ear;like;think\n",
      "pelvic inflammatory disease,pelvic inflammatory disease,0.980683506686,sex;pain;abdomen;hurt;smell;thi;month;partner;intercours;stomach\n",
      "pregnancy,pregnancy,0.937592867756,period;pregnant;day;pregnanc;im;week;wa;thi;sex;sinc\n",
      "psoriasis,psoriasis,0.996285289747,skin;ha;like;help;itchi;differ;famili;doesnt;suffer;hi\n",
      "runny nose,runny nose,0.997771173848,nose;increas;thank;thi morn;spread;irrit;past;concern;confus;advis\n",
      "salt,salt,0.993313521545,throat;water;swollen;sound;shower;minut;clear;ive;ear;make\n",
      "scabies,scabies,0.997771173848,itch;start;just;itchi;rash;dont ani;feel;touch;suffer;leg\n",
      "sexually transmitted diseases,sexually transmitted diseases,0.993313521545,peni;intercours;insid;like;caus;time;smell;stop;wa;week\n",
      "syphilis,syphilis,0.995542347697,hiv;oral sex;sex;doctor;std;femal;condom;oral;6;exposur\n",
      "trichomoniasis,trichomoniasis,0.991084695394,smell;odor;wa;discharg;itch;symptom;stuff;thi;come;itchi\n",
      "shingles,shingles,0.999257057949,got;1;week;ha;pain;fatigu;diagnos;wa;blister;spot\n",
      "sinus infection,sinus infection,0.991827637444,infect;headach;morn;ear;thi;antibiot;nose;finish;time;irrit\n",
      "sore throat,sore throat,0.993313521545,throat;sore;hiv;fever;cold;swollen;symptom;day;nose;oral\n",
      "staph,staph,0.994056463596,infect;bump;leg;pop;wont;vagina;year;away;lot;insid\n",
      "strep throat,strep throat,0.998514115899,fever;throat;pack;believ;pretti;away;began;wonder;twice;cultur\n",
      "tinea,tinea,0.998514115899,hi;condit;area;spot;ani;skin;chest;spread;daughter;odor\n",
      "video,video,0.999257057949,sperm;erect;long time;food;treatment;peni;doctor;ejacul;strang;im sure\n",
      "vitamins,vitamins,0.990341753343,wa;lip;know;help;ani;howev;gone;conceiv;recommend;day\n",
      "yeast infection,yeast infection,0.992570579495,yeast;yeast infect;infect;itch;cream;discharg;vagina;white;itchi;sex\n"
     ]
    }
   ],
   "source": [
    "for a in disease_db:\n",
    "    print \"%s,%s,%s,%s\" % (a['name'],a['name'],a['accuracy'],a['words'])"
   ]
  },
  {
   "cell_type": "code",
   "execution_count": 34,
   "metadata": {
    "collapsed": false
   },
   "outputs": [
    {
     "data": {
      "text/plain": [
       "(array([ 0,  1,  2,  3,  4,  5,  6,  7,  8,  9, 10, 11, 12, 13, 14]),\n",
       " <a list of 15 Text xticklabel objects>)"
      ]
     },
     "execution_count": 34,
     "metadata": {},
     "output_type": "execute_result"
    },
    {
     "data": {
      "image/png": "[encoded data removed]",
      "text/plain": [
       "<matplotlib.figure.Figure at 0x7efb92c81050>"
      ]
     },
     "metadata": {},
     "output_type": "display_data"
    }
   ],
   "source": [
    "import matplotlib.pyplot as plt\n",
    "scores = sorted(disease_db, key=lambda x: -x['f1'])\n",
    "scores = scores[:15]\n",
    "sns.barplot(x=[x['name'] for x in scores], y=[x['f1'] for x in scores])\n",
    "plt.ylabel('f1 score')\n",
    "plt.xticks(rotation=90)"
   ]
  },
  {
   "cell_type": "code",
   "execution_count": null,
   "metadata": {
    "collapsed": true
   },
   "outputs": [],
   "source": []
  }
 ],
 "metadata": {
  "kernelspec": {
   "display_name": "Python 2",
   "language": "python",
   "name": "python2"
  },
  "language_info": {
   "codemirror_mode": {
    "name": "ipython",
    "version": 2
   },
   "file_extension": ".py",
   "mimetype": "text/x-python",
   "name": "python",
   "nbconvert_exporter": "python",
   "pygments_lexer": "ipython2",
   "version": "2.7.12"
  }
 },
 "nbformat": 4,
 "nbformat_minor": 0
}
