{
 "cells": [
  {
   "cell_type": "code",
   "execution_count": 1,
   "metadata": {
    "collapsed": true
   },
   "outputs": [],
   "source": [
    "import pandas as pd\n",
    "import seaborn as sns\n",
    "import numpy as np\n",
    "import enchant\n",
    "import cloudpickle\n",
    "%matplotlib inline"
   ]
  },
  {
   "cell_type": "code",
   "execution_count": 3,
   "metadata": {
    "collapsed": false
   },
   "outputs": [],
   "source": [
    "y = cloudpickle.load(open(\"pickles/forum_label.pkl\", \"rb\" ) )"
   ]
  },
  {
   "cell_type": "code",
   "execution_count": 4,
   "metadata": {
    "collapsed": true
   },
   "outputs": [],
   "source": [
    "disease_db = cloudpickle.load(open(\"pickles/disease_db.pkl\", \"rb\" ) )"
   ]
  },
  {
   "cell_type": "code",
   "execution_count": 5,
   "metadata": {
    "collapsed": false
   },
   "outputs": [],
   "source": [
    "tfidf = cloudpickle.load(open(\"pickles/forum_vecrepresent.pkl\", \"rb\" ) )\n",
    "forum_vectorizer = cloudpickle.load(open(\"pickles/forum_vectorizer.pkl\", \"rb\" ) )"
   ]
  },
  {
   "cell_type": "code",
   "execution_count": 6,
   "metadata": {
    "collapsed": false
   },
   "outputs": [
    {
     "name": "stdout",
     "output_type": "stream",
     "text": [
      "(13458, 836)\n",
      "(13458, 72)\n"
     ]
    }
   ],
   "source": [
    "print tfidf.shape\n",
    "print y.shape"
   ]
  },
  {
   "cell_type": "markdown",
   "metadata": {},
   "source": [
    "Just randomly assigning some pregnancies to be 0 cause they are super over represented"
   ]
  },
  {
   "cell_type": "code",
   "execution_count": 6,
   "metadata": {
    "collapsed": false
   },
   "outputs": [],
   "source": [
    "dropi = [i for i,d in enumerate(disease_db) if d['name']=='pregnancy'][0]\n",
    "tozero = y[:,dropi]==1\n",
    "y[tozero,dropi]=1*(np.random.random((tozero.sum(),))<0.1)"
   ]
  },
  {
   "cell_type": "code",
   "execution_count": 7,
   "metadata": {
    "collapsed": false
   },
   "outputs": [
    {
     "name": "stdout",
     "output_type": "stream",
     "text": [
      "1450.0\n",
      "(23796, 836)\n",
      "(23796, 72)\n"
     ]
    }
   ],
   "source": [
    "print y[:,dropi].sum()\n",
    "print tfidf.shape\n",
    "print y.shape"
   ]
  },
  {
   "cell_type": "code",
   "execution_count": 11,
   "metadata": {
    "collapsed": true
   },
   "outputs": [],
   "source": [
    "from sklearn.cross_validation import train_test_split\n",
    "X_train, X_test, y_train, y_test = train_test_split(tfidf, y, test_size=0.1, random_state=42)"
   ]
  },
  {
   "cell_type": "code",
   "execution_count": 37,
   "metadata": {
    "collapsed": false
   },
   "outputs": [
    {
     "name": "stdout",
     "output_type": "stream",
     "text": [
      "gerd\n",
      "acne\n",
      "aids\n",
      "adenomyosis\n",
      "cancer\n",
      "allergies\n",
      "hair loss\n",
      "amenorrhea\n",
      "gas\n",
      "anemia\n",
      "anorgasmia\n",
      "anxiety\n",
      "appendicitis\n",
      "arthritis\n",
      "asthma\n",
      "back pain\n",
      "bacterial vaginosis\n",
      "vaginitis\n",
      "folliculitis\n",
      "cystitis\n",
      "high blood pressure\n",
      "stroke\n",
      "breast cancer\n",
      "breast pain\n",
      "bronchitis\n",
      "burns\n",
      "flu\n",
      "birth defects\n",
      "bleeding disorders\n",
      "blood clot\n",
      "family history\n",
      "breastfeeding\n",
      "candidiasis\n",
      "thrush\n",
      "chlamydia\n",
      "common cold\n",
      "diabetes\n",
      "nutrition\n",
      "ear infection\n",
      "ebv infection\n",
      "pid\n",
      "pneumonia\n",
      "genital herpes\n",
      "genital warts\n",
      "gonorrhea\n",
      "zoster\n",
      "hypertension\n",
      "infertility\n",
      "inflammatory bowel disease\n",
      "molluscum contagiosum\n",
      "mucus\n",
      "outbreaks\n",
      "pad\n",
      "pcp\n",
      "pelvic inflammatory disease\n",
      "pregnancy\n",
      "psoriasis\n",
      "runny nose\n",
      "salt\n",
      "scabies\n",
      "sexually transmitted diseases\n",
      "syphilis\n",
      "trichomoniasis\n",
      "shingles\n",
      "sinus infection\n",
      "sore throat\n",
      "staph\n",
      "strep throat\n",
      "tinea\n",
      "video\n",
      "vitamins\n",
      "yeast infection\n"
     ]
    }
   ],
   "source": [
    "# from sklearn.naive_bayes import MultinomialNB\n",
    "# clf = MultinomialNB().fit(tfidf_train, y_train)\n",
    "# from sklearn.linear_model import LogisticRegression\n",
    "# from sklearn.multiclass import OneVsRestClassifier\n",
    "from sklearn.metrics import accuracy_score\n",
    "\n",
    "feat_name = np.array(forum_vectorizer.get_feature_names())\n",
    "anal_data=[]\n",
    "from sklearn.ensemble import RandomForestClassifier\n",
    "for col in range(y_train.shape[1]):\n",
    "    print disease_db[col]['name']\n",
    "    clf = RandomForestClassifier(n_estimators=20).fit(X_train, y_train[:,col])\n",
    "    disease_db[col]['accuracy'] = accuracy_score(clf.predict(X_test), y_test[:,col])\n",
    "    importances = clf.feature_importances_\n",
    "    indices = np.argsort(importances)[:20]\n",
    "    disease_db[col]['words'] = '\\n'.join(feat_name[indices])\n",
    "    del clf"
   ]
  },
  {
   "cell_type": "code",
   "execution_count": null,
   "metadata": {
    "collapsed": true
   },
   "outputs": [],
   "source": []
  }
 ],
 "metadata": {
  "kernelspec": {
   "display_name": "Python 2",
   "language": "python",
   "name": "python2"
  },
  "language_info": {
   "codemirror_mode": {
    "name": "ipython",
    "version": 2
   },
   "file_extension": ".py",
   "mimetype": "text/x-python",
   "name": "python",
   "nbconvert_exporter": "python",
   "pygments_lexer": "ipython2",
   "version": "2.7.12"
  }
 },
 "nbformat": 4,
 "nbformat_minor": 0
}
