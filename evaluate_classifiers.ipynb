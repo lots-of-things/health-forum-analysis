{
 "cells": [
  {
   "cell_type": "code",
   "execution_count": 1,
   "metadata": {
    "collapsed": true
   },
   "outputs": [],
   "source": [
    "import pandas as pd\n",
    "import seaborn as sns\n",
    "import numpy as np\n",
    "import enchant\n",
    "import cloudpickle\n",
    "import os\n",
    "import matplotlib.pyplot as plt\n",
    "%matplotlib inline"
   ]
  },
  {
   "cell_type": "code",
   "execution_count": 29,
   "metadata": {
    "collapsed": false
   },
   "outputs": [],
   "source": [
    "y = cloudpickle.load(open(\"pickles/forum_label.pkl\", \"rb\" ) )"
   ]
  },
  {
   "cell_type": "code",
   "execution_count": 3,
   "metadata": {
    "collapsed": true
   },
   "outputs": [],
   "source": [
    "disease_db = cloudpickle.load(open(\"pickles/disease_db.pkl\", \"rb\" ) )"
   ]
  },
  {
   "cell_type": "code",
   "execution_count": 4,
   "metadata": {
    "collapsed": false
   },
   "outputs": [],
   "source": [
    "tfidf = cloudpickle.load(open(\"pickles/forum_vecrepresent.pkl\", \"rb\" ) )\n",
    "forum_vectorizer = cloudpickle.load(open(\"pickles/forum_vectorizer.pkl\", \"rb\" ) )"
   ]
  },
  {
   "cell_type": "code",
   "execution_count": 5,
   "metadata": {
    "collapsed": false
   },
   "outputs": [
    {
     "name": "stdout",
     "output_type": "stream",
     "text": [
      "(13458, 72)\n"
     ]
    }
   ],
   "source": [
    "print y.shape"
   ]
  },
  {
   "cell_type": "markdown",
   "metadata": {},
   "source": [
    "Just randomly assigning some pregnancies to be 0 cause they are super over represented"
   ]
  },
  {
   "cell_type": "code",
   "execution_count": 6,
   "metadata": {
    "collapsed": false
   },
   "outputs": [],
   "source": [
    "# dropi = [i for i,d in enumerate(disease_db) if d['name']=='pregnancy'][0]\n",
    "# tozero = y[:,dropi]==1\n",
    "# y[tozero,dropi]=1*(np.random.random((tozero.sum(),))<0.1)"
   ]
  },
  {
   "cell_type": "code",
   "execution_count": 30,
   "metadata": {
    "collapsed": false
   },
   "outputs": [
    {
     "name": "stdout",
     "output_type": "stream",
     "text": [
      "8809\n",
      "(13458, 836)\n",
      "(13458, 72)\n"
     ]
    }
   ],
   "source": [
    "print y[:,dropi].sum()\n",
    "print tfidf.shape\n",
    "print y.shape"
   ]
  },
  {
   "cell_type": "code",
   "execution_count": 32,
   "metadata": {
    "collapsed": true
   },
   "outputs": [],
   "source": [
    "from sklearn.cross_validation import train_test_split\n",
    "X_train, X_test, y_train, y_test = train_test_split(tfidf, y, test_size=0.25, random_state=42)"
   ]
  },
  {
   "cell_type": "code",
   "execution_count": 31,
   "metadata": {
    "collapsed": false
   },
   "outputs": [
    {
     "data": {
      "text/plain": [
       "array([1, 1, 2, ..., 2, 1, 1])"
      ]
     },
     "execution_count": 31,
     "metadata": {},
     "output_type": "execute_result"
    }
   ],
   "source": [
    "y.sum(axis=1)"
   ]
  },
  {
   "cell_type": "markdown",
   "metadata": {},
   "source": [
    "## The following is designed to evaluate whether the classifier predicts the correct labels with the highest probability"
   ]
  },
  {
   "cell_type": "code",
   "execution_count": 49,
   "metadata": {
    "collapsed": true
   },
   "outputs": [],
   "source": [
    "def top_match_score(probs,trues):\n",
    "    ret = 0\n",
    "    for c in range(probs.shape[0]):\n",
    "        inds = np.argsort(probs[c,:])[::-1]\n",
    "        sol = trues[c,:]\n",
    "        spts = np.nonzero(sol)\n",
    "        tret=0\n",
    "        for s in spts:\n",
    "            tret=tret+np.nonzero(inds==s)[0]\n",
    "        div = sol.sum()\n",
    "        div = div*(div+1)/2\n",
    "        ret=ret+tret/div\n",
    "    return ret/probs.shape[0]"
   ]
  },
  {
   "cell_type": "code",
   "execution_count": 52,
   "metadata": {
    "collapsed": false
   },
   "outputs": [
    {
     "name": "stdout",
     "output_type": "stream",
     "text": [
      "10 20\n",
      "CPU times: user 8.2 s, sys: 8 ms, total: 8.2 s\n",
      "Wall time: 8.21 s\n",
      "10 40\n",
      "CPU times: user 13.8 s, sys: 20 ms, total: 13.9 s\n",
      "Wall time: 13.9 s\n",
      "10 60\n",
      "CPU times: user 17.7 s, sys: 28 ms, total: 17.7 s\n",
      "Wall time: 17.8 s\n",
      "10 80\n",
      "CPU times: user 19.4 s, sys: 20 ms, total: 19.4 s\n",
      "Wall time: 19.4 s\n",
      "10 None\n",
      "CPU times: user 23.4 s, sys: 8 ms, total: 23.4 s\n",
      "Wall time: 23.4 s\n",
      "20 20\n",
      "CPU times: user 15.8 s, sys: 0 ns, total: 15.8 s\n",
      "Wall time: 15.8 s\n",
      "20 40\n",
      "CPU times: user 28.2 s, sys: 36 ms, total: 28.2 s\n",
      "Wall time: 28.3 s\n",
      "20 60\n",
      "CPU times: user 38 s, sys: 68 ms, total: 38.1 s\n",
      "Wall time: 38.1 s\n",
      "20 80\n",
      "CPU times: user 39.1 s, sys: 40 ms, total: 39.1 s\n",
      "Wall time: 39.2 s\n",
      "20 None\n",
      "CPU times: user 47.4 s, sys: 48 ms, total: 47.4 s\n",
      "Wall time: 47.5 s\n",
      "40 20\n",
      "CPU times: user 32 s, sys: 4 ms, total: 32 s\n",
      "Wall time: 32.1 s\n",
      "40 40\n",
      "CPU times: user 1min 1s, sys: 52 ms, total: 1min 1s\n",
      "Wall time: 1min 1s\n",
      "40 60\n",
      "CPU times: user 1min 10s, sys: 204 ms, total: 1min 10s\n",
      "Wall time: 1min 10s\n",
      "40 80\n",
      "CPU times: user 1min 19s, sys: 84 ms, total: 1min 19s\n",
      "Wall time: 1min 19s\n",
      "40 None\n",
      "CPU times: user 1min 36s, sys: 112 ms, total: 1min 36s\n",
      "Wall time: 1min 36s\n",
      "100 20\n",
      "CPU times: user 1min 22s, sys: 72 ms, total: 1min 22s\n",
      "Wall time: 1min 23s\n",
      "100 40\n",
      "CPU times: user 2min 17s, sys: 84 ms, total: 2min 17s\n",
      "Wall time: 2min 17s\n",
      "100 60\n",
      "CPU times: user 2min 52s, sys: 148 ms, total: 2min 52s\n",
      "Wall time: 2min 52s\n",
      "100 80\n",
      "CPU times: user 3min 14s, sys: 148 ms, total: 3min 14s\n",
      "Wall time: 3min 14s\n",
      "100 None\n",
      "CPU times: user 3min 53s, sys: 192 ms, total: 3min 53s\n",
      "Wall time: 3min 53s\n"
     ]
    },
    {
     "name": "stderr",
     "output_type": "stream",
     "text": [
      "/home/will/anaconda/lib/python2.7/site-packages/ipykernel/__main__.py:9: DeprecationWarning: elementwise == comparison failed; this will raise an error in the future.\n"
     ]
    }
   ],
   "source": [
    "# from sklearn.naive_bayes import MultinomialNB\n",
    "# clf = MultinomialNB().fit(tfidf_train, y_train)\n",
    "from sklearn.metrics import log_loss\n",
    "from sklearn.metrics import f1_score\n",
    "from sklearn.metrics import accuracy_score\n",
    "from sklearn.metrics import roc_auc_score\n",
    "\n",
    "from sklearn.ensemble import RandomForestClassifier\n",
    "rfscores = []\n",
    "for nest in [10,20,40,100]:\n",
    "    for mdep in [20,40,60,80,None]:\n",
    "        print str(nest)+\" \"+str(mdep)\n",
    "        clf = %time RandomForestClassifier(n_estimators=nest,max_depth=mdep).fit(X_train, y_train)\n",
    "        with open(\"pickles/test_classifier.pkl\", 'wb') as handle:\n",
    "            cloudpickle.dump(clf, handle)\n",
    "        sz = os.stat(\"pickles/test_classifier.pkl\").st_size\n",
    "        predicted = clf.predict_proba(X_test)\n",
    "        prob = np.array([a[:,1] for a in predicted]).T\n",
    "        auc = roc_auc_score(y_test,prob)\n",
    "        ll = log_loss(y_test,prob)\n",
    "        acc = accuracy_score(clf.predict(X_test), y_test)\n",
    "        tms = top_match_score(prob, y_test)\n",
    "        rfscores.append((sz,acc,ll,auc,tms))\n",
    "        del clf\n"
   ]
  },
  {
   "cell_type": "code",
   "execution_count": 53,
   "metadata": {
    "collapsed": false
   },
   "outputs": [
    {
     "name": "stderr",
     "output_type": "stream",
     "text": [
      "/home/will/anaconda/lib/python2.7/site-packages/ipykernel/__main__.py:9: DeprecationWarning: elementwise == comparison failed; this will raise an error in the future.\n"
     ]
    }
   ],
   "source": [
    "from sklearn.linear_model import LogisticRegression\n",
    "from sklearn.multiclass import OneVsRestClassifier\n",
    "clf = OneVsRestClassifier(LogisticRegression()).fit(X_train, y_train)\n",
    "with open(\"pickles/test_classifier.pkl\", 'wb') as handle:\n",
    "    cloudpickle.dump(clf, handle)\n",
    "sz = sz = os.stat(\"pickles/test_classifier.pkl\").st_size\n",
    "prob = clf.predict_proba(X_test)\n",
    "ll = log_loss(y_test,prob)\n",
    "acc = accuracy_score(clf.predict(X_test), y_test)\n",
    "tms = top_match_score(prob, y_test)\n",
    "lrscore=(sz,acc,ll,auc,tms)\n",
    "del clf"
   ]
  },
  {
   "cell_type": "code",
   "execution_count": 64,
   "metadata": {
    "collapsed": false
   },
   "outputs": [
    {
     "data": {
      "text/plain": [
       "(-1000, 1000000000.0)"
      ]
     },
     "execution_count": 64,
     "metadata": {},
     "output_type": "execute_result"
    },
    {
     "data": {
      "image/png": "[encoded data removed]",
      "text/plain": [
       "<matplotlib.figure.Figure at 0x7f245ad07210>"
      ]
     },
     "metadata": {},
     "output_type": "display_data"
    }
   ],
   "source": [
    "plt.scatter(x=[x[0] for x in rfscores],\n",
    "           y=[x[3] for x in rfscores])\n",
    "plt.scatter(x=sz,y=auc,c='r')\n",
    "plt.xlabel('model size (bytes)')\n",
    "plt.ylabel('model accuracy')\n",
    "plt.xlim([-1000,1E9])"
   ]
  },
  {
   "cell_type": "code",
   "execution_count": 54,
   "metadata": {
    "collapsed": false
   },
   "outputs": [
    {
     "name": "stdout",
     "output_type": "stream",
     "text": [
      "CPU times: user 2min 11s, sys: 256 ms, total: 2min 11s\n",
      "Wall time: 2min 15s\n"
     ]
    }
   ],
   "source": [
    "clf = %time RandomForestClassifier(n_estimators=40).fit(X_train, y_train)"
   ]
  },
  {
   "cell_type": "code",
   "execution_count": 55,
   "metadata": {
    "collapsed": false
   },
   "outputs": [],
   "source": [
    "predicted = clf.predict_proba(X_test)\n",
    "val=np.array([a[:,1] for a in predicted]).T"
   ]
  },
  {
   "cell_type": "code",
   "execution_count": null,
   "metadata": {
    "collapsed": true
   },
   "outputs": [],
   "source": [
    "sns.distplot(y.sum(axis=1),400)\n",
    "plt.xlim(0, 50)\n",
    "plt.xlabel('Flesch Kincaid Grade Level')"
   ]
  },
  {
   "cell_type": "code",
   "execution_count": null,
   "metadata": {
    "collapsed": true
   },
   "outputs": [],
   "source": []
  }
 ],
 "metadata": {
  "kernelspec": {
   "display_name": "Python 2",
   "language": "python",
   "name": "python2"
  },
  "language_info": {
   "codemirror_mode": {
    "name": "ipython",
    "version": 2
   },
   "file_extension": ".py",
   "mimetype": "text/x-python",
   "name": "python",
   "nbconvert_exporter": "python",
   "pygments_lexer": "ipython2",
   "version": "2.7.12"
  }
 },
 "nbformat": 4,
 "nbformat_minor": 0
}
