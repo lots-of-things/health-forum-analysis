{
 "cells": [
  {
   "cell_type": "code",
   "execution_count": 16,
   "metadata": {
    "collapsed": true
   },
   "outputs": [],
   "source": [
    "import pandas as pd\n",
    "import seaborn as sns\n",
    "import numpy as np\n",
    "import enchant\n",
    "import cloudpickle\n",
    "import os\n",
    "import matplotlib.pyplot as plt\n",
    "%matplotlib inline"
   ]
  },
  {
   "cell_type": "code",
   "execution_count": 2,
   "metadata": {
    "collapsed": false
   },
   "outputs": [],
   "source": [
    "y = cloudpickle.load(open(\"pickles/forum_label.pkl\", \"rb\" ) )"
   ]
  },
  {
   "cell_type": "code",
   "execution_count": 3,
   "metadata": {
    "collapsed": true
   },
   "outputs": [],
   "source": [
    "disease_db = cloudpickle.load(open(\"pickles/disease_db.pkl\", \"rb\" ) )"
   ]
  },
  {
   "cell_type": "code",
   "execution_count": 4,
   "metadata": {
    "collapsed": false
   },
   "outputs": [],
   "source": [
    "tfidf = cloudpickle.load(open(\"pickles/forum_vecrepresent.pkl\", \"rb\" ) )\n",
    "forum_vectorizer = cloudpickle.load(open(\"pickles/forum_vectorizer.pkl\", \"rb\" ) )"
   ]
  },
  {
   "cell_type": "code",
   "execution_count": 5,
   "metadata": {
    "collapsed": false
   },
   "outputs": [
    {
     "name": "stdout",
     "output_type": "stream",
     "text": [
      "(13458, 72)\n"
     ]
    }
   ],
   "source": [
    "print y.shape"
   ]
  },
  {
   "cell_type": "markdown",
   "metadata": {},
   "source": [
    "Just randomly assigning some pregnancies to be 0 cause they are super over represented"
   ]
  },
  {
   "cell_type": "code",
   "execution_count": 6,
   "metadata": {
    "collapsed": false
   },
   "outputs": [],
   "source": [
    "dropi = [i for i,d in enumerate(disease_db) if d['name']=='pregnancy'][0]\n",
    "tozero = y[:,dropi]==1\n",
    "y[tozero,dropi]=1*(np.random.random((tozero.sum(),))<0.1)"
   ]
  },
  {
   "cell_type": "code",
   "execution_count": 7,
   "metadata": {
    "collapsed": false
   },
   "outputs": [
    {
     "name": "stdout",
     "output_type": "stream",
     "text": [
      "872\n",
      "(13458, 836)\n",
      "(13458, 72)\n"
     ]
    }
   ],
   "source": [
    "print y[:,dropi].sum()\n",
    "print tfidf.shape\n",
    "print y.shape"
   ]
  },
  {
   "cell_type": "code",
   "execution_count": 8,
   "metadata": {
    "collapsed": true
   },
   "outputs": [],
   "source": [
    "from sklearn.cross_validation import train_test_split\n",
    "X_train, X_test, y_train, y_test = train_test_split(tfidf, y, test_size=0.1, random_state=42)"
   ]
  },
  {
   "cell_type": "code",
   "execution_count": 31,
   "metadata": {
    "collapsed": false
   },
   "outputs": [
    {
     "name": "stdout",
     "output_type": "stream",
     "text": [
      "10 20\n",
      "CPU times: user 45.7 s, sys: 52 ms, total: 45.7 s\n",
      "Wall time: 46.5 s\n",
      "10 40\n",
      "CPU times: user 1min 1s, sys: 100 ms, total: 1min 1s\n",
      "Wall time: 1min 1s\n",
      "10 60\n",
      "CPU times: user 1min 7s, sys: 48 ms, total: 1min 8s\n",
      "Wall time: 1min 8s\n",
      "20 20\n",
      "CPU times: user 1min 28s, sys: 44 ms, total: 1min 28s\n",
      "Wall time: 1min 28s\n",
      "20 40\n",
      "CPU times: user 1min 59s, sys: 116 ms, total: 1min 59s\n",
      "Wall time: 1min 59s\n",
      "20 60\n",
      "CPU times: user 2min 12s, sys: 64 ms, total: 2min 12s\n",
      "Wall time: 2min 12s\n"
     ]
    }
   ],
   "source": [
    "# from sklearn.naive_bayes import MultinomialNB\n",
    "# clf = MultinomialNB().fit(tfidf_train, y_train)\n",
    "from sklearn.metrics import log_loss\n",
    "from sklearn.metrics import accuracy_score\n",
    "from sklearn.ensemble import RandomForestClassifier\n",
    "# rfscores = []\n",
    "for nest in [10,20]:\n",
    "    for mdep in [20,40,60]:\n",
    "        print str(nest)+\" \"+str(mdep)\n",
    "        clf = %time OneVsRestClassifier(RandomForestClassifier(n_estimators=nest,max_depth=mdep)).fit(X_train, y_train)\n",
    "        with open(\"pickles/test_classifier.pkl\", 'wb') as handle:\n",
    "            cloudpickle.dump(clf, handle)\n",
    "        sz = os.stat(\"pickles/test_classifier.pkl\").st_size\n",
    "#         predicted = clf.predict_proba(X_test)\n",
    "#         prob = np.array([a[:,1] for a in predicted]).T\n",
    "#         ll = log_loss(y_test,prob)\n",
    "        acc = accuracy_score(clf.predict(X_test), y_test)\n",
    "        rfscores.append((sz,acc,ll))\n",
    "        del clf\n"
   ]
  },
  {
   "cell_type": "code",
   "execution_count": 28,
   "metadata": {
    "collapsed": false
   },
   "outputs": [],
   "source": [
    "from sklearn.linear_model import LogisticRegression\n",
    "from sklearn.multiclass import OneVsRestClassifier\n",
    "clf = OneVsRestClassifier(LogisticRegression()).fit(X_train, y_train)\n",
    "with open(\"pickles/test_classifier.pkl\", 'wb') as handle:\n",
    "    cloudpickle.dump(clf, handle)\n",
    "sz = sz = os.stat(\"pickles/test_classifier.pkl\").st_size\n",
    "prob = clf.predict_proba(X_test)\n",
    "ll = log_loss(y_test,prob)\n",
    "acc = accuracy_score(clf.predict(X_test), y_test)\n",
    "lrscore=(sz,acc,ll)\n",
    "del clf"
   ]
  },
  {
   "cell_type": "code",
   "execution_count": 29,
   "metadata": {
    "collapsed": false
   },
   "outputs": [
    {
     "data": {
      "text/plain": [
       "<matplotlib.text.Text at 0x7efb92f00e10>"
      ]
     },
     "execution_count": 29,
     "metadata": {},
     "output_type": "execute_result"
    },
    {
     "data": {
      "image/png": "[encoded data removed]",
      "text/plain": [
       "<matplotlib.figure.Figure at 0x7efb92c6b850>"
      ]
     },
     "metadata": {},
     "output_type": "display_data"
    }
   ],
   "source": [
    "plt.scatter(x=[x[0] for x in rfscores],\n",
    "           y=[x[1] for x in rfscores])\n",
    "plt.scatter(x=sz,y=acc,c='r')\n",
    "plt.xlabel('model size (bytes)')\n",
    "plt.ylabel('model accuracy')"
   ]
  },
  {
   "cell_type": "code",
   "execution_count": 32,
   "metadata": {
    "collapsed": false
   },
   "outputs": [
    {
     "data": {
      "text/plain": [
       "<matplotlib.text.Text at 0x7efb92b5af10>"
      ]
     },
     "execution_count": 32,
     "metadata": {},
     "output_type": "execute_result"
    },
    {
     "data": {
      "image/png": "[encoded data removed]",
      "text/plain": [
       "<matplotlib.figure.Figure at 0x7efb92e6c390>"
      ]
     },
     "metadata": {},
     "output_type": "display_data"
    }
   ],
   "source": [
    "plt.scatter(x=[x[0] for x in rfscores],\n",
    "           y=[x[1] for x in rfscores])\n",
    "plt.scatter(x=sz,y=acc,c='r')\n",
    "plt.xlabel('model size (bytes)')\n",
    "plt.ylabel('model accuracy')"
   ]
  },
  {
   "cell_type": "code",
   "execution_count": null,
   "metadata": {
    "collapsed": true
   },
   "outputs": [],
   "source": []
  }
 ],
 "metadata": {
  "kernelspec": {
   "display_name": "Python 2",
   "language": "python",
   "name": "python2"
  },
  "language_info": {
   "codemirror_mode": {
    "name": "ipython",
    "version": 2
   },
   "file_extension": ".py",
   "mimetype": "text/x-python",
   "name": "python",
   "nbconvert_exporter": "python",
   "pygments_lexer": "ipython2",
   "version": "2.7.12"
  }
 },
 "nbformat": 4,
 "nbformat_minor": 0
}
