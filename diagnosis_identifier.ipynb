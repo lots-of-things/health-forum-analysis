{
 "cells": [
  {
   "cell_type": "code",
   "execution_count": 15,
   "metadata": {
    "collapsed": false
   },
   "outputs": [],
   "source": [
    "import pandas as pd\n",
    "import re\n",
    "import seaborn as sns\n",
    "import numpy as np\n",
    "from matplotlib import pyplot as plt\n",
    "%matplotlib inline\n"
   ]
  },
  {
   "cell_type": "code",
   "execution_count": 16,
   "metadata": {
    "collapsed": true
   },
   "outputs": [],
   "source": [
    "import cloudpickle\n",
    "disease_lookup = cloudpickle.load(open(\"pickles/disease_lookup.pkl\", \"rb\" ) )\n",
    "disease_list = cloudpickle.load(open(\"pickles/disease_list.pkl\", \"rb\" ) )\n",
    "df_crop = cloudpickle.load(open(\"pickles/cleaned_forum_data.pkl\", \"rb\" ) )\n"
   ]
  },
  {
   "cell_type": "code",
   "execution_count": 17,
   "metadata": {
    "collapsed": false
   },
   "outputs": [
    {
     "name": "stdout",
     "output_type": "stream",
     "text": [
      "0\n",
      "1000\n",
      "2000\n",
      "3000\n",
      "4000\n",
      "5000\n",
      "6000\n",
      "7000\n",
      "8000\n",
      "9000\n",
      "10000\n",
      "11000\n",
      "12000\n",
      "13000\n",
      "14000\n",
      "15000\n",
      "16000\n",
      "17000\n",
      "18000\n",
      "19000\n",
      "20000\n",
      "21000\n",
      "22000\n",
      "23000\n",
      "24000\n",
      "25000\n",
      "26000\n",
      "27000\n",
      "28000\n",
      "29000\n",
      "30000\n",
      "31000\n",
      "32000\n",
      "33000\n",
      "34000\n",
      "35000\n",
      "36000\n",
      "37000\n",
      "38000\n",
      "39000\n",
      "40000\n",
      "41000\n",
      "42000\n",
      "43000\n",
      "44000\n",
      "45000\n",
      "46000\n",
      "47000\n",
      "48000\n",
      "49000\n",
      "50000\n",
      "51000\n",
      "52000\n",
      "53000\n",
      "54000\n",
      "55000\n",
      "56000\n",
      "57000\n",
      "58000\n",
      "59000\n",
      "60000\n",
      "61000\n",
      "62000\n",
      "63000\n"
     ]
    },
    {
     "name": "stderr",
     "output_type": "stream",
     "text": [
      "/home/will/anaconda/lib/python2.7/site-packages/nltk/twitter/__init__.py:20: UserWarning: The twython library has not been installed. Some functionality from the twitter package will not be available.\n",
      "  warnings.warn(\"The twython library has not been installed. \"\n"
     ]
    }
   ],
   "source": [
    "from nltk import ngrams\n",
    "import string\n",
    "from nltk.sentiment.util import mark_negation\n",
    "import scipy.sparse as sps\n",
    "\n",
    "all_lab= sps.lil_matrix((len(df_crop), len(disease_list)))\n",
    "ask_lab= sps.lil_matrix((len(df_crop), len(disease_list)))\n",
    "doc_lab= sps.lil_matrix((len(df_crop), len(disease_list)))\n",
    "dcn_lab= sps.lil_matrix((len(df_crop), len(disease_list)))\n",
    "\n",
    "def get_toks(txt,ngram_length):\n",
    "    return [item for sublist in \\\n",
    "             [[\" \".join(grams) for grams in ngrams(txt.split(), n)] \\\n",
    "             for n in range(ngram_length)] \\\n",
    "             for item in sublist]\n",
    "\n",
    "# fuzzy matching is way too slow (takes roughly 400000x longer)\n",
    "# from fuzzywuzzy import process\n",
    "# def get_dislist(diseases,text_tok):\n",
    "#     toreturn=[]\n",
    "#     for k in diseases:\n",
    "#         match =process.extractOne(k, text_tok)\n",
    "#         if(match and match[1]>90 and 'NEG' not in match[0]):\n",
    "#             toreturn.append(match[0])\n",
    "#     return toreturn\n",
    "\n",
    "# this is the easy way to search, it will miss a lot, but it will work for now\n",
    "def get_dislist_simple(diseases,text):\n",
    "    choptext=dict([[a,0] for a in get_toks(text,4)])\n",
    "    return [k for k in diseases if k in choptext]\n",
    "\n",
    "# def get_dislist_simple(diseases,text):\n",
    "#     return [k for k in diseases if k in text]\n",
    "\n",
    "# loop over all posts to perform the text analysis for labeling\n",
    "for i,post in enumerate(df_crop['post'].values):\n",
    "    if(i%1000==0):\n",
    "        print i\n",
    "    ask = df_crop.loc[df_crop['post']==post,'askertxt'].values[0].lower()\n",
    "    doc = df_crop.loc[df_crop['post']==post,'doctortxt'].values[0].lower()\n",
    "    oth = df_crop.loc[df_crop['post']==post,'othertxt'].values[0].lower()\n",
    "    \n",
    "    asktxt = ask.translate(string.maketrans(string.punctuation, ' '*len(string.punctuation)))\n",
    "    doctxt = doc.translate(string.maketrans(string.punctuation, ' '*len(string.punctuation)))\n",
    "    dcntxt = mark_negation(doc).translate(string.maketrans(string.punctuation, ' '*len(string.punctuation)))\n",
    "    alltxt = (ask+' '+doc+' '+oth).translate(string.maketrans(string.punctuation, ' '*len(string.punctuation)))\n",
    "    \n",
    "    alldiags = get_dislist_simple(disease_lookup.keys(),alltxt)\n",
    "    askdiags = get_dislist_simple(alldiags,asktxt)\n",
    "    docdiags = get_dislist_simple(alldiags,doctxt)\n",
    "    dcndiags = get_dislist_simple(docdiags,dcntxt)\n",
    "    \n",
    "    #better way to solve the problem, but will take roughly a year to finish (aaaahh)\n",
    "#     ask_tok=get_toks(asktxt,3)\n",
    "#     doc_tok=get_toks(doctxt,3)\n",
    "#     dcn_tok=get_toks(dcntxt,3)\n",
    "#     all_tok=get_toks(alltxt,3)\n",
    "    \n",
    "#     alldiags=get_dislist(disease_lookup.keys(),all_tok)\n",
    "#     askdiags=get_dislist(alldiags,ask_tok)\n",
    "#     docdiags=get_dislist(alldiags,doc_tok)\n",
    "#     dcndiags=get_dislist(docdiags,dcn_tok)\n",
    "    \n",
    "    all_lab[i,list(set([disease_lookup[x] for x in alldiags]))]=1\n",
    "    ask_lab[i,list(set([disease_lookup[x] for x in askdiags]))]=1\n",
    "    doc_lab[i,list(set([disease_lookup[x] for x in docdiags]))]=1\n",
    "    dcn_lab[i,list(set([disease_lookup[x] for x in dcndiags]))]=1"
   ]
  },
  {
   "cell_type": "code",
   "execution_count": 3,
   "metadata": {
    "collapsed": true
   },
   "outputs": [],
   "source": [
    "# all_lab = cloudpickle.load(open(\"alltext_labels.pkl\", \"rb\" ) )\n",
    "# doc_lab = cloudpickle.load(open(\"doctortext_labels.pkl\", \"rb\" ) )\n",
    "# dcn_lab = cloudpickle.load(open(\"doctornegtext_labels.pkl\", \"rb\" ) )\n",
    "# ask_lab = cloudpickle.load(open(\"askertext_labels.pkl\", \"rb\" ) )\n"
   ]
  },
  {
   "cell_type": "code",
   "execution_count": 18,
   "metadata": {
    "collapsed": true
   },
   "outputs": [],
   "source": [
    "all_lab = all_lab.asformat('csr')\n",
    "doc_lab = doc_lab.asformat('csr')\n",
    "dcn_lab = dcn_lab.asformat('csr')\n",
    "ask_lab = ask_lab.asformat('csr')"
   ]
  },
  {
   "cell_type": "code",
   "execution_count": 19,
   "metadata": {
    "collapsed": false
   },
   "outputs": [],
   "source": [
    "min_appear=100\n",
    "\n",
    "disease_list_trunc=[disease_list[i] for i in np.where(all_lab.sum(axis=0)>min_appear)[1].tolist()]\n",
    "disease_lookup_trunc={}\n",
    "for i,dis in enumerate(disease_list_trunc):\n",
    "    for s in dis[2]:\n",
    "        disease_lookup_trunc[s]=i\n",
    "\n",
    "doc_lab = doc_lab[:,np.array(all_lab.sum(axis=0)>min_appear).flatten()]\n",
    "dcn_lab = dcn_lab[:,np.array(all_lab.sum(axis=0)>min_appear).flatten()]\n",
    "ask_lab = ask_lab[:,np.array(all_lab.sum(axis=0)>min_appear).flatten()]\n",
    "all_lab = all_lab[:,np.array(all_lab.sum(axis=0)>min_appear).flatten()]"
   ]
  },
  {
   "cell_type": "code",
   "execution_count": 20,
   "metadata": {
    "collapsed": false
   },
   "outputs": [
    {
     "data": {
      "text/plain": [
       "(63846, 72)"
      ]
     },
     "execution_count": 20,
     "metadata": {},
     "output_type": "execute_result"
    }
   ],
   "source": [
    "doc_lab.shape"
   ]
  },
  {
   "cell_type": "markdown",
   "metadata": {},
   "source": [
    "# Saving everything to the production ready state\n",
    "only need to add stats and the classification"
   ]
  },
  {
   "cell_type": "code",
   "execution_count": 21,
   "metadata": {
    "collapsed": true
   },
   "outputs": [],
   "source": [
    "import cloudpickle\n",
    "with open(\"pickles/alltext_labels.pkl\", 'wb') as handle:\n",
    "    cloudpickle.dump(all_lab, handle)\n",
    "with open(\"pickles/doctortext_labels.pkl\", 'wb') as handle:\n",
    "    cloudpickle.dump(doc_lab, handle)\n",
    "with open(\"pickles/doctornegtext_labels.pkl\", 'wb') as handle:\n",
    "    cloudpickle.dump(dcn_lab, handle)\n",
    "with open(\"pickles/askertext_labels.pkl\", 'wb') as handle:\n",
    "    cloudpickle.dump(ask_lab, handle)\n",
    "with open(\"pickles/disease_list_trunc.pkl\", 'wb') as handle:\n",
    "    cloudpickle.dump(disease_list_trunc, handle)\n",
    "with open(\"pickles/disease_lookup_trunc.pkl\", 'wb') as handle:\n",
    "    cloudpickle.dump(disease_lookup_trunc, handle)"
   ]
  },
  {
   "cell_type": "code",
   "execution_count": null,
   "metadata": {
    "collapsed": true
   },
   "outputs": [],
   "source": []
  }
 ],
 "metadata": {
  "kernelspec": {
   "display_name": "Python 2",
   "language": "python",
   "name": "python2"
  },
  "language_info": {
   "codemirror_mode": {
    "name": "ipython",
    "version": 2
   },
   "file_extension": ".py",
   "mimetype": "text/x-python",
   "name": "python",
   "nbconvert_exporter": "python",
   "pygments_lexer": "ipython2",
   "version": "2.7.12"
  }
 },
 "nbformat": 4,
 "nbformat_minor": 0
}
