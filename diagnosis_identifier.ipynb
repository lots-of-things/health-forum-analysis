{
 "cells": [
  {
   "cell_type": "code",
   "execution_count": 82,
   "metadata": {
    "collapsed": true
   },
   "outputs": [],
   "source": [
    "import pandas as pd\n",
    "import re\n",
    "import seaborn as sns\n",
    "from matplotlib import pyplot as plt\n",
    "%matplotlib inline"
   ]
  },
  {
   "cell_type": "code",
   "execution_count": 83,
   "metadata": {
    "collapsed": false
   },
   "outputs": [],
   "source": [
    "skinFiles = ['skin/skin_data_'+str(i+1)+'.csv' for i in range(7)]\n",
    "list_ = []\n",
    "for file_ in skinFiles:\n",
    "    df = pd.read_csv(file_, index_col=None, header=0)\n",
    "    df['subject']='dermatology'\n",
    "    list_.append(df)"
   ]
  },
  {
   "cell_type": "code",
   "execution_count": 84,
   "metadata": {
    "collapsed": true
   },
   "outputs": [],
   "source": [
    "df = pd.read_csv('sex/amipregnant_data_1.csv', index_col=None, header=0)\n",
    "df['subject']='am-i-pregnant'\n",
    "list_.append(df)\n",
    "\n",
    "df = pd.read_csv('sex/birthcontrolmen_data_1.csv', index_col=None, header=0)\n",
    "df['subject']='birth-control-men'\n",
    "list_.append(df)\n",
    "\n",
    "df = pd.read_csv('sex/birthcontrolwomen_data_1.csv', index_col=None, header=0)\n",
    "df['subject']='birth-control-women'\n",
    "list_.append(df)\n",
    "\n",
    "df = pd.read_csv('sex/hivaids_data_1.csv', index_col=None, header=0)\n",
    "df['subject']='hiv-aids'\n",
    "list_.append(df)\n",
    "\n",
    "df = pd.read_csv('sex/ibs_data_1.csv', index_col=None, header=0)\n",
    "df['subject']='irritable-bowel-syndrome'\n",
    "list_.append(df)\n",
    "\n",
    "df = pd.read_csv('sex/menstruationwomen_data_1.csv', index_col=None, header=0)\n",
    "df['subject']='menstruation'\n",
    "list_.append(df)\n",
    "\n",
    "df = pd.read_csv('sex/penismen_data_1.csv', index_col=None, header=0)\n",
    "df['subject']='birth-control-men'\n",
    "list_.append(df)\n",
    "\n",
    "df = pd.read_csv('sex/sexualhealthmen_data_1.csv', index_col=None, header=0)\n",
    "df['subject']='penis'\n",
    "list_.append(df)\n",
    "\n",
    "df = pd.read_csv('sex/sexualhealthwomen_data_1.csv', index_col=None, header=0)\n",
    "df['subject']='sexual-health-men'\n",
    "list_.append(df)\n",
    "\n",
    "df = pd.read_csv('sex/stress_data_1.csv', index_col=None, header=0)\n",
    "df['subject']='sexual-health-women'\n",
    "list_.append(df)\n",
    "\n",
    "df = pd.read_csv('sex/vaginalwomen_data_1.csv', index_col=None, header=0)\n",
    "df['subject']='vagina'\n",
    "list_.append(df)"
   ]
  },
  {
   "cell_type": "code",
   "execution_count": 85,
   "metadata": {
    "collapsed": true
   },
   "outputs": [],
   "source": [
    "df = pd.read_csv('sex/doctorslounge_data_1.csv', index_col=None, header=0)\n",
    "list_.append(df)"
   ]
  },
  {
   "cell_type": "code",
   "execution_count": 86,
   "metadata": {
    "collapsed": true
   },
   "outputs": [],
   "source": [
    "df=pd.concat(list_,ignore_index=True)\n",
    "df=df.drop(df.columns[0],1)"
   ]
  },
  {
   "cell_type": "code",
   "execution_count": 87,
   "metadata": {
    "collapsed": false
   },
   "outputs": [],
   "source": [
    "diseases = pd.read_csv(\"disease_list.csv\",index_col=None, header=None)\n",
    "diseases = diseases[1].str.strip().str.replace(' +',' ').str.lower()\n",
    "d_list = diseases.loc[:373].tolist()\n",
    "\n",
    "diseases = pd.read_csv(\"disease_list_cdc.csv\",index_col=0, header=0)\n",
    "diseases = diseases['name'].str.strip().str.replace(' +',' ').str.lower()\n",
    "d_list=d_list+diseases.tolist()\n",
    "\n",
    "#d_list=d_list+[words for segments in d_list for words in segments.split()]\n",
    "pd_dis=pd.DataFrame(d_list).drop_duplicates(0)\n",
    "d_list = pd_dis[0].tolist()"
   ]
  },
  {
   "cell_type": "code",
   "execution_count": 88,
   "metadata": {
    "collapsed": false
   },
   "outputs": [],
   "source": [
    "#txt = df.loc[df['response_type']=='doctor','response'].str.lower().tolist()\n",
    "#df['response_time']=pd.to_datetime(df['response_time'].str.replace('replied ',''))"
   ]
  },
  {
   "cell_type": "code",
   "execution_count": null,
   "metadata": {
    "collapsed": false
   },
   "outputs": [
    {
     "data": {
      "text/plain": [
       "(12126, 7)"
      ]
     },
     "execution_count": 89,
     "metadata": {},
     "output_type": "execute_result"
    }
   ],
   "source": [
    "df.shape"
   ]
  },
  {
   "cell_type": "code",
   "execution_count": null,
   "metadata": {
    "collapsed": false
   },
   "outputs": [],
   "source": [
    "ti=0\n",
    "for post in df['post'].unique():\n",
    "    if(ti%100==0):\n",
    "        print ti\n",
    "    ti=ti+1\n",
    "    subdf = df['post']==post\n",
    "    txt = df.loc[subdf & (df['response_type']=='doctor'),'response']\n",
    "    if(not txt.empty):\n",
    "        txt2 = df.loc[subdf & (df['response_type']=='asker'),'response']\n",
    "        ask_time = df.loc[subdf & (df['response_type']=='asker'),'response_time']\n",
    "        res_time = df.loc[subdf & (df['response_type']=='doctor'),'response_time']\n",
    "        diag = pd_dis.loc[[re.search(r'\\b'+word+r'\\b', txt.str.lower().tolist()[0])>0 for word in d_list],0].tolist()\n",
    "        sdiag= pd_dis.loc[[re.search(r'\\b'+word+r'\\b', txt2.str.lower().tolist()[0])>0 for word in d_list],0].tolist()\n",
    "        df.loc[subdf,'diagnosis_count'] = len(diag)\n",
    "        df.loc[subdf,'selfdiagnosis_count'] = len(sdiag)\n",
    "        df.loc[subdf,'label']=', '.join(diag)\n",
    "        for w in diag:\n",
    "            if 'diag_'+w in df.columns:\n",
    "                df.loc[subdf,'diag_'+w]=df.loc[subdf,'diag_'+w]+1\n",
    "            else:\n",
    "                df['diag_'+w]=0\n",
    "                df.loc[subdf,'diag_'+w]=1\n",
    "        for w in sdiag:\n",
    "            if 'namedis_'+w in df.columns:\n",
    "                df.loc[subdf,'namedis_'+w]=df.loc[subdf,'namedis_'+w]+1\n",
    "            else:\n",
    "                df['namedis_'+w]=0\n",
    "                df.loc[subdf,'namedis_'+w]=1\n",
    "        df.loc[subdf & (df['response_type']=='asker'),'lag']=res_time.tolist()[0]\n",
    "    else:\n",
    "        df=df.loc[[not i for i in subdf.tolist()],:]\n",
    "df['lag']=df['lag']-df['response_time']"
   ]
  },
  {
   "cell_type": "code",
   "execution_count": null,
   "metadata": {
    "collapsed": false
   },
   "outputs": [],
   "source": [
    "df = df.loc[df['response_type']=='asker',:]\n",
    "df.to_csv(\"compiled_data_toclassify.csv\")"
   ]
  },
  {
   "cell_type": "code",
   "execution_count": null,
   "metadata": {
    "collapsed": false
   },
   "outputs": [],
   "source": [
    "g = sns.jointplot(x='selfdiagnosis_count', y='diagnosis_count', data=df, kind=\"hex\", color=\"m\")\n",
    "g.plot_joint(plt.scatter, c=\"k\", s=30, linewidth=1, marker=\"x\")\n",
    "g.ax_joint.collections[0].set_alpha(0)"
   ]
  },
  {
   "cell_type": "code",
   "execution_count": null,
   "metadata": {
    "collapsed": false
   },
   "outputs": [],
   "source": [
    "sns.distplot(df['lag'].apply(lambda x: float(x.days)))"
   ]
  },
  {
   "cell_type": "code",
   "execution_count": null,
   "metadata": {
    "collapsed": true
   },
   "outputs": [],
   "source": []
  }
 ],
 "metadata": {
  "kernelspec": {
   "display_name": "Python 2",
   "language": "python",
   "name": "python2"
  },
  "language_info": {
   "codemirror_mode": {
    "name": "ipython",
    "version": 2
   },
   "file_extension": ".py",
   "mimetype": "text/x-python",
   "name": "python",
   "nbconvert_exporter": "python",
   "pygments_lexer": "ipython2",
   "version": "2.7.12"
  }
 },
 "nbformat": 4,
 "nbformat_minor": 0
}
