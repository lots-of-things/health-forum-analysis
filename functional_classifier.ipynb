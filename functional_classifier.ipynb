{
 "cells": [
  {
   "cell_type": "code",
   "execution_count": 1,
   "metadata": {
    "collapsed": true
   },
   "outputs": [],
   "source": [
    "import pandas as pd\n",
    "import seaborn as sns\n",
    "import numpy as np\n",
    "import enchant\n",
    "import cloudpickle\n",
    "%matplotlib inline"
   ]
  },
  {
   "cell_type": "code",
   "execution_count": 2,
   "metadata": {
    "collapsed": false
   },
   "outputs": [],
   "source": [
    "y_t = cloudpickle.load(open(\"pickles/forum_labels.pkl\", \"rb\" ) )"
   ]
  },
  {
   "cell_type": "code",
   "execution_count": 3,
   "metadata": {
    "collapsed": true
   },
   "outputs": [],
   "source": [
    "disease_db = cloudpickle.load(open(\"pickles/disease_db.pkl\", \"rb\" ) )"
   ]
  },
  {
   "cell_type": "code",
   "execution_count": 2,
   "metadata": {
    "collapsed": false
   },
   "outputs": [],
   "source": [
    "tfidf_t = cloudpickle.load(open(\"pickles/forum_vecrepresent.pkl\", \"rb\" ) )\n",
    "forum_vectorizer = cloudpickle.load(open(\"pickles/forum_vectorizer.pkl\", \"rb\" ) )"
   ]
  },
  {
   "cell_type": "code",
   "execution_count": 5,
   "metadata": {
    "collapsed": false
   },
   "outputs": [
    {
     "name": "stdout",
     "output_type": "stream",
     "text": [
      "(63846, 836)\n",
      "(63846, 72)\n"
     ]
    }
   ],
   "source": [
    "print tfidf_t.shape\n",
    "print y_t.shape"
   ]
  },
  {
   "cell_type": "markdown",
   "metadata": {},
   "source": [
    "Just randomly assigning some pregnancies to be 0 cause they are super over represented"
   ]
  },
  {
   "cell_type": "code",
   "execution_count": 6,
   "metadata": {
    "collapsed": false
   },
   "outputs": [],
   "source": [
    "dropi = [i for i,d in enumerate(disease_db) if d['name']=='pregnancy'][0]\n",
    "tozero = y[:,dropi]==1\n",
    "y[tozero,dropi]=1*(np.random.random((tozero.sum(),))<0.1)"
   ]
  },
  {
   "cell_type": "code",
   "execution_count": 7,
   "metadata": {
    "collapsed": false
   },
   "outputs": [
    {
     "name": "stdout",
     "output_type": "stream",
     "text": [
      "1450.0\n",
      "(23796, 836)\n",
      "(23796, 72)\n"
     ]
    }
   ],
   "source": [
    "print y[:,dropi].sum()\n",
    "print tfidf.shape\n",
    "print y.shape"
   ]
  },
  {
   "cell_type": "code",
   "execution_count": 8,
   "metadata": {
    "collapsed": true
   },
   "outputs": [],
   "source": [
    "from sklearn.cross_validation import train_test_split\n",
    "X_train, X_test, y_train, y_test = train_test_split(tfidf, y, test_size=0.1, random_state=42)"
   ]
  },
  {
   "cell_type": "code",
   "execution_count": 9,
   "metadata": {
    "collapsed": false
   },
   "outputs": [
    {
     "data": {
      "text/plain": [
       "<matplotlib.axes._subplots.AxesSubplot at 0x7ff1ed841290>"
      ]
     },
     "execution_count": 9,
     "metadata": {},
     "output_type": "execute_result"
    },
    {
     "data": {
      "image/png": "[encoded data removed]",
      "text/plain": [
       "<matplotlib.figure.Figure at 0x7ff1b26f7e90>"
      ]
     },
     "metadata": {},
     "output_type": "display_data"
    }
   ],
   "source": [
    "from sklearn.metrics.pairwise import cosine_similarity\n",
    "sns.heatmap(cosine_similarity(tfidf[:50,:]))"
   ]
  },
  {
   "cell_type": "code",
   "execution_count": 91,
   "metadata": {
    "collapsed": false
   },
   "outputs": [],
   "source": [
    "# from sklearn.naive_bayes import MultinomialNB\n",
    "# clf = MultinomialNB().fit(tfidf_train, y_train)\n",
    "# from sklearn.linear_model import LogisticRegression\n",
    "# from sklearn.multiclass import OneVsRestClassifier\n",
    "from sklearn.ensemble import RandomForestClassifier\n",
    "clf = RandomForestClassifier(n_estimators=12,max_depth=60).fit(X_train, y_train)\n",
    "\n",
    "predicted = clf.predict_proba(X_test)"
   ]
  },
  {
   "cell_type": "code",
   "execution_count": 92,
   "metadata": {
    "collapsed": false
   },
   "outputs": [
    {
     "name": "stdout",
     "output_type": "stream",
     "text": [
      "(2380, 72)\n",
      "(2380, 72)\n"
     ]
    }
   ],
   "source": [
    "prob = np.array([a[:,1] for a in predicted]).T\n",
    "print prob.shape\n",
    "print y_test.shape"
   ]
  },
  {
   "cell_type": "code",
   "execution_count": 93,
   "metadata": {
    "collapsed": false
   },
   "outputs": [
    {
     "name": "stdout",
     "output_type": "stream",
     "text": [
      "3.68012191479\n"
     ]
    }
   ],
   "source": [
    "from sklearn.metrics import log_loss\n",
    "print log_loss(y_test,prob)"
   ]
  },
  {
   "cell_type": "code",
   "execution_count": 94,
   "metadata": {
    "collapsed": false
   },
   "outputs": [
    {
     "name": "stdout",
     "output_type": "stream",
     "text": [
      "0.438235294118\n"
     ]
    }
   ],
   "source": [
    "from sklearn.metrics import accuracy_score\n",
    "print accuracy_score(clf.predict(X_test), y_test)"
   ]
  },
  {
   "cell_type": "code",
   "execution_count": 95,
   "metadata": {
    "collapsed": true
   },
   "outputs": [],
   "source": [
    "with open(\"pickles/forum_classifier.pkl\", 'wb') as handle:\n",
    "    cloudpickle.dump(clf, handle)"
   ]
  },
  {
   "cell_type": "markdown",
   "metadata": {},
   "source": [
    "# Now test this guy on new text"
   ]
  },
  {
   "cell_type": "code",
   "execution_count": 102,
   "metadata": {
    "collapsed": false
   },
   "outputs": [],
   "source": [
    "text = \"My stomach hurts\"\n",
    "vec = forum_vectorizer.transform([text])\n",
    "predicted = clf.predict_proba(vec)\n",
    "prob = np.array([a[:,1] for a in predicted]).T.tolist()[0]"
   ]
  },
  {
   "cell_type": "code",
   "execution_count": 103,
   "metadata": {
    "collapsed": false
   },
   "outputs": [
    {
     "data": {
      "text/plain": [
       "[('pid', 0.1298086293363895),\n",
       " ('pelvic inflammatory disease', 0.10521324397333513),\n",
       " ('anxiety', 0.05752545488065825),\n",
       " ('gas', 0.05012824637550601),\n",
       " ('cancer', 0.035054079495735364),\n",
       " ('anemia', 0.03290683899435971),\n",
       " ('mucus', 0.026192517872400203),\n",
       " ('pregnancy', 0.02552289495522043),\n",
       " ('inflammatory bowel disease', 0.02255728540389136),\n",
       " ('diabetes', 0.022126285934459904)]"
      ]
     },
     "execution_count": 103,
     "metadata": {},
     "output_type": "execute_result"
    }
   ],
   "source": [
    "sorted([(disease_db[i]['name'],p) for i,p in enumerate(prob)],key=lambda x: -x[1])[:10]"
   ]
  },
  {
   "cell_type": "code",
   "execution_count": 17,
   "metadata": {
    "collapsed": false
   },
   "outputs": [],
   "source": [
    "vv=forum_vectorizer.transform([\"I have a skin irritation on the side\\\n",
    "of my private part. Initially it looked like a mosquito bite bite \\\n",
    "(a small bumb). Itt now seems to be redish and circular. \\\n",
    "I have tried lamisil cream but t still persists. I have not \\\n",
    "been intimate for more than two years. Is this a STI and what \\\n",
    "over the counter medication can I use to cure this? This irritation \\\n",
    "has been there for more than two weeks. I do not have any pain when urinating.\\\n",
    "It is summer where I am now and hot.\"])"
   ]
  },
  {
   "cell_type": "code",
   "execution_count": 14,
   "metadata": {
    "collapsed": false
   },
   "outputs": [
    {
     "data": {
      "text/plain": [
       "[398, 432, 444, 445, 652, 656]"
      ]
     },
     "execution_count": 14,
     "metadata": {},
     "output_type": "execute_result"
    }
   ],
   "source": [
    "np.nonzero(np.array(vv.todense()))[1].tolist()"
   ]
  },
  {
   "cell_type": "code",
   "execution_count": 18,
   "metadata": {
    "collapsed": false
   },
   "outputs": [
    {
     "data": {
      "text/plain": [
       "array([u'ani', u'cream', u'cure', u'ha', u'hot', u'irrit', u'like',\n",
       "       u'look', u'look like', u'medic', u'pain', u'skin', u'small', u'thi',\n",
       "       u'tri', u'use', u'week', u'year'], \n",
       "      dtype='<U18')"
      ]
     },
     "execution_count": 18,
     "metadata": {},
     "output_type": "execute_result"
    }
   ],
   "source": [
    "np.array(forum_vectorizer.get_feature_names())[np.nonzero(np.array(vv.todense()))[1].tolist()]"
   ]
  },
  {
   "cell_type": "code",
   "execution_count": null,
   "metadata": {
    "collapsed": true
   },
   "outputs": [],
   "source": []
  }
 ],
 "metadata": {
  "kernelspec": {
   "display_name": "Python 2",
   "language": "python",
   "name": "python2"
  },
  "language_info": {
   "codemirror_mode": {
    "name": "ipython",
    "version": 2
   },
   "file_extension": ".py",
   "mimetype": "text/x-python",
   "name": "python",
   "nbconvert_exporter": "python",
   "pygments_lexer": "ipython2",
   "version": "2.7.12"
  }
 },
 "nbformat": 4,
 "nbformat_minor": 0
}
