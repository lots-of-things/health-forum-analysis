{
 "cells": [
  {
   "cell_type": "code",
   "execution_count": 1,
   "metadata": {
    "collapsed": false
   },
   "outputs": [],
   "source": [
    "import numpy as np\n",
    "import pandas as pd\n",
    "import nltk\n",
    "import re\n",
    "import os\n",
    "import codecs\n",
    "from sklearn import feature_extraction"
   ]
  },
  {
   "cell_type": "code",
   "execution_count": 2,
   "metadata": {
    "collapsed": true
   },
   "outputs": [],
   "source": [
    "df = pd.read_csv(\"compiled_data_toclassify.csv\",index_col=None, header=0, nrows=5000)\n",
    "df=df.drop(df.columns[0],1)"
   ]
  },
  {
   "cell_type": "code",
   "execution_count": 3,
   "metadata": {
    "collapsed": false
   },
   "outputs": [],
   "source": [
    "slicit=(df['response_type']=='asker') \n",
    "cols = [col for col in df.columns if 'diag_' in col]\n",
    "col_name = np.array([col.split('_')[1] for col in df.columns if 'diag_' in col])\n",
    "diag = (df.loc[slicit,cols].as_matrix()>0)"
   ]
  },
  {
   "cell_type": "code",
   "execution_count": 4,
   "metadata": {
    "collapsed": false
   },
   "outputs": [],
   "source": [
    "synopses = df.loc[slicit,'response'].tolist()\n",
    "titles = df.loc[slicit,'label'].tolist()"
   ]
  },
  {
   "cell_type": "code",
   "execution_count": 5,
   "metadata": {
    "collapsed": false
   },
   "outputs": [
    {
     "name": "stdout",
     "output_type": "stream",
     "text": [
      "['eczema', nan, 'hemangiomas', 'warts, genital warts', nan, nan, 'antihistamines, eczema', nan, 'contact dermatitis', 'intertrigo']\n"
     ]
    }
   ],
   "source": [
    "print titles[:10] #first 10 titles"
   ]
  },
  {
   "cell_type": "code",
   "execution_count": 6,
   "metadata": {
    "collapsed": true
   },
   "outputs": [],
   "source": [
    "# load nltk's SnowballStemmer as variabled 'stemmer'\n",
    "from nltk.stem.snowball import SnowballStemmer\n",
    "stemmer = SnowballStemmer(\"english\")"
   ]
  },
  {
   "cell_type": "code",
   "execution_count": 7,
   "metadata": {
    "collapsed": true
   },
   "outputs": [],
   "source": [
    "def tokenize_and_stem(text):\n",
    "    # first tokenize by sentence, then by word to ensure that punctuation is caught as it's own token\n",
    "    tokens = [word for sent in nltk.sent_tokenize(text) for word in nltk.word_tokenize(sent)]\n",
    "    filtered_tokens = []\n",
    "    # filter out any tokens not containing letters (e.g., numeric tokens, raw punctuation)\n",
    "    for token in tokens:\n",
    "        if re.search('[a-zA-Z]', token):\n",
    "            filtered_tokens.append(token)\n",
    "    stems = [stemmer.stem(t) for t in filtered_tokens]\n",
    "    return stems\n",
    "\n"
   ]
  },
  {
   "cell_type": "code",
   "execution_count": 8,
   "metadata": {
    "collapsed": false
   },
   "outputs": [
    {
     "name": "stdout",
     "output_type": "stream",
     "text": [
      "CPU times: user 58.2 s, sys: 276 ms, total: 58.4 s\n",
      "Wall time: 58.4 s\n",
      "(5000, 58)\n"
     ]
    }
   ],
   "source": [
    "from sklearn.feature_extraction.text import TfidfVectorizer\n",
    "\n",
    "#define vectorizer parameters\n",
    "tfidf_vectorizer = TfidfVectorizer(max_df=0.8, max_features=200000,\n",
    "                                 min_df=0.1, stop_words='english',\n",
    "                                 use_idf=True, tokenizer=tokenize_and_stem, ngram_range=(1,3))\n",
    "\n",
    "%time tfidf_matrix = tfidf_vectorizer.fit_transform(synopses) #fit the vectorizer to synopses\n",
    "\n",
    "print(tfidf_matrix.shape)"
   ]
  },
  {
   "cell_type": "code",
   "execution_count": 9,
   "metadata": {
    "collapsed": true
   },
   "outputs": [],
   "source": [
    "terms = tfidf_vectorizer.get_feature_names()"
   ]
  },
  {
   "cell_type": "code",
   "execution_count": 10,
   "metadata": {
    "collapsed": true
   },
   "outputs": [],
   "source": [
    "from sklearn.metrics.pairwise import cosine_similarity\n",
    "dist = 1 - cosine_similarity(tfidf_matrix)"
   ]
  },
  {
   "cell_type": "code",
   "execution_count": 11,
   "metadata": {
    "collapsed": false
   },
   "outputs": [
    {
     "name": "stdout",
     "output_type": "stream",
     "text": [
      "CPU times: user 8.66 s, sys: 4 ms, total: 8.66 s\n",
      "Wall time: 8.9 s\n"
     ]
    }
   ],
   "source": [
    "from sklearn.cluster import KMeans\n",
    "\n",
    "num_clusters = 8\n",
    "\n",
    "km = KMeans(n_clusters=num_clusters)\n",
    "\n",
    "%time km.fit(tfidf_matrix)\n",
    "\n",
    "clusters = km.labels_.tolist()"
   ]
  },
  {
   "cell_type": "code",
   "execution_count": 12,
   "metadata": {
    "collapsed": false
   },
   "outputs": [],
   "source": [
    "#from sklearn.externals import joblib\n",
    "\n",
    "#uncomment the below to save your model \n",
    "#since I've already run my model I am loading from the pickle\n",
    "\n",
    "#joblib.dump(km,  'doc_cluster.pkl')\n",
    "\n",
    "#km = joblib.load('doc_cluster.pkl')\n",
    "clusters = km.labels_.tolist()"
   ]
  },
  {
   "cell_type": "code",
   "execution_count": 13,
   "metadata": {
    "collapsed": false
   },
   "outputs": [],
   "source": [
    "films = { 'title': titles, 'synopsis': synopses, 'cluster': clusters }\n",
    "\n",
    "frame = pd.DataFrame(films, index = [clusters] , columns = ['title', 'synopsis', 'cluster'])"
   ]
  },
  {
   "cell_type": "code",
   "execution_count": 14,
   "metadata": {
    "collapsed": false
   },
   "outputs": [
    {
     "data": {
      "text/plain": [
       "6    1295\n",
       "2     975\n",
       "0     739\n",
       "3     456\n",
       "1     432\n",
       "4     388\n",
       "7     370\n",
       "5     345\n",
       "Name: cluster, dtype: int64"
      ]
     },
     "execution_count": 14,
     "metadata": {},
     "output_type": "execute_result"
    }
   ],
   "source": [
    "frame.cluster.value_counts()"
   ]
  },
  {
   "cell_type": "code",
   "execution_count": 15,
   "metadata": {
    "collapsed": false
   },
   "outputs": [],
   "source": [
    "from collections import Counter\n"
   ]
  },
  {
   "cell_type": "code",
   "execution_count": 16,
   "metadata": {
    "collapsed": false
   },
   "outputs": [
    {
     "name": "stdout",
     "output_type": "stream",
     "text": [
      "Top terms per cluster:\n",
      "\n",
      "Cluster 0 words:\n",
      " 'm,\n",
      " n't,\n",
      " 's,\n",
      " ve,\n",
      " day,\n",
      " like,\n",
      "\n",
      "\n",
      "Cluster 0 titles:\n",
      " fungus infections= 26.5\n",
      " seborrheic dermatitis= 23.7\n",
      " chronic fatigue syndrome= 12.0\n",
      " outbreaks= 8.21428571429\n",
      " ringworm= 6.44444444444\n",
      " stasis dermatitis= 6.0\n",
      " vitiligo= 6.0\n",
      " kaposis sarcoma= 6.0\n",
      " shingles= 5.0\n",
      " kawasaki disease= 5.0\n",
      " asthma= 4.0\n",
      " doxycycline= 4.0\n",
      " leukoplakia= 4.0\n",
      " angular cheilitis= 3.5\n",
      " colorectal= 3.5\n",
      " mrsa= 3.33333333333\n",
      " tuberculosis= 3.14285714286\n",
      " epidermal cyst= 3.0\n",
      " body lice= 3.0\n",
      " atopic dermatitis= 3.0\n",
      " yeast infection= 2.484375\n",
      " staph= 2.4375\n",
      " rosacea= 2.0\n",
      " fungal diseases= 2.0\n",
      " chickenpox= 2.0\n",
      "\n",
      "\n",
      "Cluster 1 words:\n",
      " test,\n",
      " negat,\n",
      " day,\n",
      " month,\n",
      " week,\n",
      " blood,\n",
      "\n",
      "\n",
      "Cluster 1 titles:\n",
      " sinus infection= 79.0\n",
      " vaccine safety= 19.0\n",
      " chicken pox= 13.25\n",
      " outbreaks= 8.21428571429\n",
      " herpes zoster= 5.33333333333\n",
      " cmv= 3.33333333333\n",
      " toxoplasmosis= 2.0\n",
      " hair loss= 1.66666666667\n",
      " ear infection= 1.5\n",
      " arthritis= 1.44444444444\n",
      " tuberculosis= 1.28571428571\n",
      " flu= 1.21739130435\n",
      " trichomoniasis= 1.1\n",
      " scabies= 1.0\n",
      " imiquimod= 1.0\n",
      " acquired immunodeficiency syndrome= 1.0\n",
      " hiv/aids= 1.0\n",
      " lichen simplex chronicus= 1.0\n",
      " trichomonas infection= 1.0\n",
      " candidiasis= 0.75\n",
      " seborrheic dermatitis= 0.7\n",
      " ibd= 0.666666666667\n",
      " vaccines= 0.6\n",
      " atopic dermatitis= 0.5\n",
      " infertility= 0.470588235294\n",
      "\n",
      "\n",
      "Cluster 2 words:\n",
      " period,\n",
      " day,\n",
      " month,\n",
      " bleed,\n",
      " start,\n",
      " pregnant,\n",
      "\n",
      "\n",
      "Cluster 2 titles:\n",
      " septicemia= 22.0\n",
      " methotrexate= 7.0\n",
      " ovarian cancer= 4.0\n",
      " runny nose= 3.5\n",
      " chlamydia= 3.24657534247\n",
      " heart disease= 1.66666666667\n",
      " contact dermatitis= 1.01923076923\n",
      " breastfeeding= 1.0\n",
      " ear infection= 1.0\n",
      " sclerotherapy= 1.0\n",
      " sore throat= 1.0\n",
      " viral hemorrhagic fevers= 1.0\n",
      " trichomoniasis= 0.95\n",
      " boils= 0.7\n",
      " infertility= 0.529411764706\n",
      " food poisoning= 0.5\n",
      " genital warts= 0.47619047619\n",
      " aids= 0.416666666667\n",
      " flu= 0.391304347826\n",
      " biopsy= 0.377358490566\n",
      " candida infection= 0.333333333333\n",
      " sinus infection= 0.333333333333\n",
      " bleeding disorders= 0.315789473684\n",
      " doxycycline= 0.25\n",
      " thrush= 0.25\n",
      "\n",
      "\n",
      "Cluster 3 words:\n",
      " sex,\n",
      " day,\n",
      " time,\n",
      " pregnant,\n",
      " did,\n",
      " befor,\n",
      "\n",
      "\n",
      "Cluster 3 titles:\n",
      " hpv vaccination= 48.0\n",
      " vaccination= 9.5\n",
      " angiomas= 9.0\n",
      " syphilis= 8.46428571429\n",
      " common cold= 6.76470588235\n",
      " measles= 6.0\n",
      " skin tags= 5.5\n",
      " erythrasma= 5.0\n",
      " salt= 5.0\n",
      " granuloma annulare= 4.0\n",
      " balanitis= 2.54545454545\n",
      " chicken pox= 2.5\n",
      " vaccines= 1.4\n",
      " herpes zoster= 1.11111111111\n",
      " influenza= 1.0\n",
      " tetanus= 1.0\n",
      " malaria= 1.0\n",
      " folliculitis= 0.679487179487\n",
      " vitamins= 0.666666666667\n",
      " lichen sclerosus= 0.666666666667\n",
      " xerosis= 0.666666666667\n",
      " tinea= 0.65\n",
      " allergic contact dermatitis= 0.6\n",
      " hypertension= 0.583333333333\n",
      " meningitis= 0.5\n",
      "\n",
      "\n",
      "Cluster 4 words:\n",
      " peni,\n",
      " like,\n",
      " ani,\n",
      " sex,\n",
      " problem,\n",
      " help,\n",
      "\n",
      "\n",
      "Cluster 4 titles:\n",
      " contact dermatitis= 4.55769230769\n",
      " vulnerable= 3.16666666667\n",
      " nummular eczema= 3.0\n",
      " cellulitis= 2.25\n",
      " candidiasis= 2.20833333333\n",
      " hypertension= 1.66666666667\n",
      " tretinoin= 1.66666666667\n",
      " hyperpigmentation= 1.625\n",
      " hydroquinone= 1.5\n",
      " human immunodeficiency virus= 1.0\n",
      " tinea versicolor= 1.0\n",
      " erythema nodosum= 1.0\n",
      " sexually transmitted diseases= 1.0\n",
      " pediculosis= 1.0\n",
      " cmv= 1.0\n",
      " high blood pressure= 0.7\n",
      " ringworm= 0.666666666667\n",
      " molluscum contagiosum= 0.5\n",
      " liposuction= 0.5\n",
      " chancroid= 0.333333333333\n",
      " lichen planus= 0.333333333333\n",
      " yeast infection= 0.3125\n",
      " folliculitis= 0.282051282051\n",
      " thrush= 0.25\n",
      " peripheral vascular disease= 0.25\n",
      "\n",
      "\n",
      "Cluster 5 words:\n",
      " pain,\n",
      " day,\n",
      " week,\n",
      " time,\n",
      " feel,\n",
      " month,\n",
      "\n",
      "\n",
      "Cluster 5 titles:\n",
      " hair removal= 47.4\n",
      " heart disease= 19.1666666667\n",
      " osteoarthritis= 16.0\n",
      " aortic dissection= 12.0\n",
      " rheumatoid arthritis= 9.0\n",
      " histoplasmosis= 6.66666666667\n",
      " pulmonary embolism= 6.0\n",
      " fibromyalgia= 6.0\n",
      " scleroderma= 6.0\n",
      " chicken pox= 5.0\n",
      " vulvovaginal candidiasis= 4.0\n",
      " asthma= 3.8\n",
      " clotting disorders= 3.0\n",
      " bleeding disorders= 2.52631578947\n",
      " fluconazole= 2.33333333333\n",
      " ts= 2.0\n",
      " melanoma= 2.0\n",
      " deep vein thrombosis= 2.0\n",
      " terbinafine= 2.0\n",
      " inflammatory bowel disease= 1.96296296296\n",
      " balanitis= 1.81818181818\n",
      " dvt= 1.5\n",
      " breastfeeding= 1.0\n",
      " ticks= 1.0\n",
      " botox= 1.0\n",
      "\n",
      "\n",
      "Cluster 6 words:\n",
      " year,\n",
      " ani,\n",
      " like,\n",
      " help,\n",
      " just,\n",
      " use,\n",
      "\n",
      "\n",
      "Cluster 6 titles:\n",
      " lichen nitidus= 52.0\n",
      " ear infection= 39.75\n",
      " heart disease= 39.5\n",
      " vitiligo= 38.3333333333\n",
      " lice= 26.0\n",
      " sarcoidosis= 20.0\n",
      " angiokeratoma= 20.0\n",
      " autism= 14.0\n",
      " intertrigo= 13.25\n",
      " mucus= 12.7708333333\n",
      " bronchitis= 11.3333333333\n",
      " runny nose= 10.0\n",
      " colorectal= 10.0\n",
      " cryptosporidiosis= 8.0\n",
      " pyogenic granuloma= 8.0\n",
      " ace= 8.0\n",
      " hirsutism= 7.0\n",
      " meningitis= 6.5\n",
      " histoplasmosis= 6.33333333333\n",
      " shingles= 5.5\n",
      " conjunctivitis= 5.33333333333\n",
      " shigella infection= 5.0\n",
      " chickenpox= 5.0\n",
      " herpes zoster= 4.66666666667\n",
      " common cold= 4.29411764706\n",
      "\n",
      "\n",
      "Cluster 7 words:\n",
      " feel,\n",
      " like,\n",
      " n't,\n",
      " time,\n",
      " just,\n",
      " day,\n",
      "\n",
      "\n",
      "Cluster 7 titles:\n",
      " shingles= 59.25\n",
      " cfs= 22.0\n",
      " blood clot= 16.0\n",
      " chickenpox= 13.25\n",
      " tretinoin= 6.33333333333\n",
      " infertility= 3.38235294118\n",
      " md= 2.82352941176\n",
      " dry skin= 2.5\n",
      " ear infection= 2.5\n",
      " sore throat= 2.15384615385\n",
      " high blood pressure= 2.0\n",
      " pityriasis rosea= 2.0\n",
      " hair loss= 1.33333333333\n",
      " fordyce spots= 1.25\n",
      " scabies= 1.0\n",
      " infectious mononucleosis= 1.0\n",
      " varicella= 1.0\n",
      " sinus infection= 1.0\n",
      " rosacea= 1.0\n",
      " arthritis= 1.0\n",
      " carpal tunnel syndrome= 1.0\n",
      " fungus infections= 1.0\n",
      " chronic fatigue syndrome= 0.75\n",
      " vitamins= 0.666666666667\n",
      " zoster= 0.666666666667\n",
      "\n",
      "\n"
     ]
    }
   ],
   "source": [
    "print(\"Top terms per cluster:\")\n",
    "print\n",
    "#sort cluster centers by proximity to centroid\n",
    "order_centroids = km.cluster_centers_.argsort()[:, ::-1] \n",
    "cluster_names={}\n",
    "l=[item for item in frame['title'].str.split(', ').values.tolist() if isinstance(item,list) ]\n",
    "to_count= [item for sublist in l for item in sublist]\n",
    "counter = Counter(to_count)\n",
    "names = counter.keys()\n",
    "counts = np.array(counter.values())\n",
    "freq = counts / np.linalg.norm(counts)\n",
    "all_freq = dict(zip(names, freq))\n",
    "for i in range(num_clusters):\n",
    "    print(\"Cluster %d words:\" % i)\n",
    "    \n",
    "    words=''\n",
    "    for ind in order_centroids[i, :6]: #replace 6 with n words per cluster\n",
    "        new_word=terms[ind]\n",
    "        words=words+new_word+', '\n",
    "        print(' %s,' % new_word)\n",
    "    cluster_names[i]=words\n",
    "    print #add whitespace\n",
    "    print #add whitespace\n",
    "    print(\"Cluster %d titles:\" % i)\n",
    "    l=[item for item in frame.ix[i]['title'].str.split(', ').values.tolist() if isinstance(item,list) ]\n",
    "    to_count= [item for sublist in l for item in sublist]\n",
    "    counter = Counter(to_count)\n",
    "    counted=counter.most_common(10)\n",
    "    names = counter.keys()\n",
    "    freq = counts / np.linalg.norm(counts)\n",
    "    clust_freq=dict(zip(names, freq))\n",
    "    clust_norm={ k:clust_freq[k] / all_freq[k] for k in clust_freq }\n",
    "    import operator\n",
    "    sorted_x = sorted(clust_norm.items(), key=operator.itemgetter(1), reverse=True)\n",
    "    for c in sorted_x[:25]:\n",
    "        print(' %s= %s' % c)\n",
    "    print #add whitespace\n",
    "    print #add whitespace"
   ]
  },
  {
   "cell_type": "code",
   "execution_count": 17,
   "metadata": {
    "collapsed": false
   },
   "outputs": [
    {
     "data": {
      "text/plain": [
       "[('shingles', 59.250000000000007),\n",
       " ('cfs', 22.0),\n",
       " ('blood clot', 16.0),\n",
       " ('chickenpox', 13.25),\n",
       " ('tretinoin', 6.3333333333333339),\n",
       " ('infertility', 3.3823529411764706),\n",
       " ('md', 2.8235294117647056),\n",
       " ('dry skin', 2.5),\n",
       " ('ear infection', 2.5),\n",
       " ('sore throat', 2.1538461538461537),\n",
       " ('high blood pressure', 2.0),\n",
       " ('pityriasis rosea', 2.0),\n",
       " ('hair loss', 1.3333333333333333),\n",
       " ('fordyce spots', 1.25),\n",
       " ('scabies', 1.0),\n",
       " ('infectious mononucleosis', 1.0),\n",
       " ('varicella', 1.0),\n",
       " ('sinus infection', 1.0),\n",
       " ('rosacea', 1.0),\n",
       " ('arthritis', 1.0),\n",
       " ('carpal tunnel syndrome', 1.0),\n",
       " ('fungus infections', 1.0),\n",
       " ('chronic fatigue syndrome', 0.75),\n",
       " ('vitamins', 0.66666666666666663),\n",
       " ('zoster', 0.66666666666666663),\n",
       " ('tinea', 0.64999999999999991),\n",
       " ('molluscum contagiosum', 0.5),\n",
       " ('keratosis pilaris', 0.5),\n",
       " ('thrombosis', 0.39999999999999997),\n",
       " ('common cold', 0.3529411764705882),\n",
       " ('biopsy', 0.339622641509434),\n",
       " ('giardiasis', 0.33333333333333331),\n",
       " ('flu', 0.2608695652173913),\n",
       " ('food poisoning', 0.25),\n",
       " ('sodium', 0.25),\n",
       " ('peripheral vascular disease', 0.25),\n",
       " ('inflammatory bowel disease', 0.22222222222222224),\n",
       " ('stroke', 0.19999999999999998),\n",
       " ('lupus', 0.19999999999999998),\n",
       " ('heart disease', 0.16666666666666666),\n",
       " ('trichomoniasis', 0.14999999999999999),\n",
       " ('pcp', 0.14285714285714285),\n",
       " ('psoriasis', 0.1176470588235294),\n",
       " ('sexually transmitted diseases', 0.1111111111111111),\n",
       " ('herpes zoster', 0.1111111111111111),\n",
       " ('ringworm', 0.1111111111111111),\n",
       " ('mental health', 0.099999999999999992),\n",
       " ('hives', 0.099999999999999992),\n",
       " ('crohns disease', 0.099999999999999992),\n",
       " ('nutrition', 0.090909090909090898),\n",
       " ('balanitis', 0.090909090909090898),\n",
       " ('warts', 0.089743589743589744),\n",
       " ('hypertension', 0.083333333333333329),\n",
       " ('candidiasis', 0.083333333333333329),\n",
       " ('chlamydia', 0.082191780821917804),\n",
       " ('antihistamines', 0.076923076923076913),\n",
       " ('outbreaks', 0.071428571428571425),\n",
       " ('cervical cancer', 0.071428571428571425),\n",
       " ('yeast infection', 0.0625),\n",
       " ('gas', 0.057692307692307696),\n",
       " ('eczema', 0.057142857142857134),\n",
       " ('ulcerative colitis', 0.049999999999999996),\n",
       " ('pelvic inflammatory disease', 0.049999999999999996),\n",
       " ('sebaceous cyst', 0.048780487804878044),\n",
       " ('genital warts', 0.047619047619047616),\n",
       " ('bacterial vaginosis', 0.035714285714285712),\n",
       " ('stds', 0.034782608695652167),\n",
       " ('cancer', 0.034482758620689655),\n",
       " ('cysts', 0.02953586497890295),\n",
       " ('aids', 0.020833333333333332),\n",
       " ('contact dermatitis', 0.019230769230769232),\n",
       " ('herpes', 0.018867924528301886),\n",
       " ('diabetes', 0.016666666666666666),\n",
       " ('folliculitis', 0.01282051282051282),\n",
       " ('mucus', 0.010416666666666666),\n",
       " ('pid', 0.0086206896551724137),\n",
       " ('pregnancy', 0.0040783034257748782)]"
      ]
     },
     "execution_count": 17,
     "metadata": {},
     "output_type": "execute_result"
    }
   ],
   "source": [
    "sorted_x"
   ]
  },
  {
   "cell_type": "code",
   "execution_count": 18,
   "metadata": {
    "collapsed": false
   },
   "outputs": [],
   "source": [
    "import os  # for os.path.basename\n",
    "\n",
    "import matplotlib.pyplot as plt\n",
    "import matplotlib as mpl\n",
    "\n",
    "from sklearn.manifold import MDS\n",
    "\n",
    "MDS()\n",
    "\n",
    "# convert two components as we're plotting points in a two-dimensional plane\n",
    "# \"precomputed\" because we provide a distance matrix\n",
    "# we will also specify `random_state` so the plot is reproducible.\n",
    "mds = MDS(n_components=2, dissimilarity=\"precomputed\", random_state=1)\n",
    "\n",
    "pos = mds.fit_transform(dist)  # shape (n_components, n_samples)\n",
    "\n",
    "xs, ys = pos[:, 0], pos[:, 1]"
   ]
  },
  {
   "cell_type": "code",
   "execution_count": null,
   "metadata": {
    "collapsed": false
   },
   "outputs": [],
   "source": [
    "\n",
    "\n",
    "#set up colors per clusters using a dict\n",
    "cluster_colors = {0: '#1b9e77', 1: '#d95f02', 2: '#7570b3', 3: '#e7298a', 4: '#66a61e'}\n",
    "\n",
    "    \n",
    "#set up cluster names using a dict\n",
    "cluster_names\n",
    "\n"
   ]
  },
  {
   "cell_type": "code",
   "execution_count": null,
   "metadata": {
    "collapsed": false
   },
   "outputs": [],
   "source": [
    "#some ipython magic to show the matplotlib plots inline\n",
    "%matplotlib inline \n",
    "\n",
    "#create data frame that has the result of the MDS plus the cluster numbers and titles\n",
    "df = pd.DataFrame(dict(x=xs, y=ys, label=clusters, title=titles)) \n",
    "\n",
    "#group by cluster\n",
    "groups = df.groupby('label')\n",
    "\n",
    "\n",
    "# set up plot\n",
    "fig, ax = plt.subplots(figsize=(17, 9)) # set size\n",
    "ax.margins(0.05) # Optional, just adds 5% padding to the autoscaling\n",
    "\n",
    "#iterate through groups to layer the plot\n",
    "#note that I use the cluster_name and cluster_color dicts with the 'name' lookup to return the appropriate color/label\n",
    "for name, group in groups:\n",
    "    ax.plot(group.x, group.y, marker='o', linestyle='', ms=12, \n",
    "            label=cluster_names[name], color=cluster_colors[name], \n",
    "            mec='none')\n",
    "    ax.set_aspect('auto')\n",
    "    ax.tick_params(\\\n",
    "        axis= 'x',          # changes apply to the x-axis\n",
    "        which='both',      # both major and minor ticks are affected\n",
    "        bottom='off',      # ticks along the bottom edge are off\n",
    "        top='off',         # ticks along the top edge are off\n",
    "        labelbottom='off')\n",
    "    ax.tick_params(\\\n",
    "        axis= 'y',         # changes apply to the y-axis\n",
    "        which='both',      # both major and minor ticks are affected\n",
    "        left='off',      # ticks along the bottom edge are off\n",
    "        top='off',         # ticks along the top edge are off\n",
    "        labelleft='off')\n",
    "    \n",
    "ax.legend(numpoints=1)  #show legend with only 1 point\n",
    "\n",
    "#add label in x,y position with the label as the film title\n",
    "for i in range(len(df)):\n",
    "    ax.text(df.ix[i]['x'], df.ix[i]['y'], df.ix[i]['title'], size=8)  \n",
    "\n",
    "    \n",
    "    \n",
    "plt.show() #show the plot\n",
    "\n",
    "#uncomment the below to save the plot if need be\n",
    "#plt.savefig('clusters_small_noaxes.png', dpi=200)"
   ]
  }
 ],
 "metadata": {
  "kernelspec": {
   "display_name": "Python 2",
   "language": "python",
   "name": "python2"
  },
  "language_info": {
   "codemirror_mode": {
    "name": "ipython",
    "version": 2
   },
   "file_extension": ".py",
   "mimetype": "text/x-python",
   "name": "python",
   "nbconvert_exporter": "python",
   "pygments_lexer": "ipython2",
   "version": "2.7.12"
  }
 },
 "nbformat": 4,
 "nbformat_minor": 0
}
