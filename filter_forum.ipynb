{
 "cells": [
  {
   "cell_type": "code",
   "execution_count": 1,
   "metadata": {
    "collapsed": true
   },
   "outputs": [],
   "source": [
    "import pandas as pd\n",
    "import seaborn as sns\n",
    "import numpy as np\n",
    "import enchant\n",
    "import cloudpickle\n",
    "import matplotlib.pyplot as plt\n",
    "%matplotlib inline"
   ]
  },
  {
   "cell_type": "code",
   "execution_count": 2,
   "metadata": {
    "collapsed": true
   },
   "outputs": [],
   "source": [
    "df = cloudpickle.load(open(\"pickles/cleaned_forum_data.pkl\", \"rb\" ) )\n",
    "\n",
    "\n",
    "asktxt = df['askertxt'].as_matrix()\n",
    "doctxt = df['doctortxt'].as_matrix()"
   ]
  },
  {
   "cell_type": "code",
   "execution_count": 3,
   "metadata": {
    "collapsed": true
   },
   "outputs": [],
   "source": [
    "disease_db=cloudpickle.load(open(\"pickles/disease_db.pkl\", \"rb\" ) )\n",
    "\n",
    "diag = cloudpickle.load(open(\"pickles/doctortext_labels.pkl\", \"rb\" ) )\n",
    "antidiag = cloudpickle.load(open(\"pickles/askertext_labels.pkl\", \"rb\" ) )\n",
    "y_1=np.asarray(diag.todense()).squeeze() \n",
    "y_2=np.asarray(antidiag.todense()).squeeze() \n",
    "y_t = 1*((y_1+y_2)>0)"
   ]
  },
  {
   "cell_type": "code",
   "execution_count": 4,
   "metadata": {
    "collapsed": true
   },
   "outputs": [],
   "source": [
    "forum_vectorizer = cloudpickle.load(open(\"pickles/forum_vectorizer.pkl\", \"rb\" ) )"
   ]
  },
  {
   "cell_type": "code",
   "execution_count": 5,
   "metadata": {
    "collapsed": false
   },
   "outputs": [],
   "source": [
    "tfidf_t = forum_vectorizer.transform(asktxt)"
   ]
  },
  {
   "cell_type": "code",
   "execution_count": 6,
   "metadata": {
    "collapsed": false
   },
   "outputs": [
    {
     "name": "stdout",
     "output_type": "stream",
     "text": [
      "0\n",
      "1000\n",
      "2000\n",
      "3000\n",
      "4000\n",
      "5000\n",
      "6000\n",
      "7000\n",
      "8000\n",
      "9000\n",
      "10000\n",
      "11000\n",
      "12000\n",
      "13000\n",
      "14000\n",
      "15000\n",
      "16000\n",
      "17000\n",
      "18000\n",
      "19000\n",
      "20000\n",
      "21000\n",
      "22000\n",
      "23000\n",
      "24000\n",
      "25000\n",
      "26000\n",
      "27000\n",
      "28000\n",
      "29000\n",
      "30000\n",
      "31000\n",
      "32000\n",
      "33000\n",
      "34000\n",
      "35000\n",
      "36000\n",
      "37000\n",
      "38000\n",
      "39000\n",
      "40000\n",
      "41000\n",
      "42000\n",
      "43000\n",
      "44000\n",
      "45000\n",
      "46000\n",
      "47000\n",
      "48000\n",
      "49000\n",
      "50000\n",
      "51000\n",
      "52000\n",
      "53000\n",
      "54000\n",
      "55000\n",
      "56000\n",
      "57000\n",
      "58000\n",
      "59000\n",
      "60000\n",
      "61000\n",
      "62000\n",
      "63000\n"
     ]
    }
   ],
   "source": [
    "df['label']=''\n",
    "for i in range(y_t.shape[0]):\n",
    "    if(i%1000==0):\n",
    "        print i\n",
    "    dg = y_t[i,:]\n",
    "    names = [disease_db[k]['name'] for k in np.nonzero(dg)[0]]\n",
    "    df.loc[i,'label']=';'.join(names)"
   ]
  },
  {
   "cell_type": "code",
   "execution_count": 7,
   "metadata": {
    "collapsed": false
   },
   "outputs": [],
   "source": [
    "vec_keep = (y_t.sum(axis=1)>0) & (df['doctorgrd']>10) & (df['doctorgrd']<20) & (df['askergrd']>5) & (df['askergrd']<20) \n",
    "tfidf = tfidf_t[np.nonzero(vec_keep)[0],:]\n",
    "y = y_t[np.nonzero(vec_keep)[0],:]\n",
    "forum_db=df.loc[vec_keep,:]"
   ]
  },
  {
   "cell_type": "code",
   "execution_count": 8,
   "metadata": {
    "collapsed": false
   },
   "outputs": [
    {
     "name": "stdout",
     "output_type": "stream",
     "text": [
      "(13458, 12)\n"
     ]
    },
    {
     "data": {
      "text/plain": [
       "<matplotlib.text.Text at 0x7efb98ac2c50>"
      ]
     },
     "execution_count": 8,
     "metadata": {},
     "output_type": "execute_result"
    },
    {
     "data": {
      "image/png": "[encoded data removed]",
      "text/plain": [
       "<matplotlib.figure.Figure at 0x7efb98bd53d0>"
      ]
     },
     "metadata": {},
     "output_type": "display_data"
    }
   ],
   "source": [
    "print forum_db.shape\n",
    "sns.distplot(forum_db['askergrd'],40)\n",
    "sns.distplot(forum_db['doctorgrd'],40)\n",
    "plt.xlim(0, 20)\n",
    "plt.xlabel('Flesch Kincaid Grade Level')"
   ]
  },
  {
   "cell_type": "code",
   "execution_count": 9,
   "metadata": {
    "collapsed": false
   },
   "outputs": [
    {
     "data": {
      "text/plain": [
       "(13458, 72)"
      ]
     },
     "execution_count": 9,
     "metadata": {},
     "output_type": "execute_result"
    }
   ],
   "source": [
    "y.shape"
   ]
  },
  {
   "cell_type": "code",
   "execution_count": 10,
   "metadata": {
    "collapsed": true
   },
   "outputs": [],
   "source": [
    "with open(\"pickles/forum_vecrepresent.pkl\", 'wb') as handle:\n",
    "    cloudpickle.dump(tfidf, handle)\n",
    "with open(\"pickles/forum_db.pkl\", 'wb') as handle:\n",
    "    cloudpickle.dump(forum_db, handle)\n",
    "with open(\"pickles/forum_label.pkl\", 'wb') as handle:\n",
    "    cloudpickle.dump(y, handle)"
   ]
  },
  {
   "cell_type": "code",
   "execution_count": 11,
   "metadata": {
    "collapsed": false
   },
   "outputs": [
    {
     "name": "stderr",
     "output_type": "stream",
     "text": [
      "/home/will/anaconda/lib/python2.7/site-packages/ipykernel/__main__.py:4: SettingWithCopyWarning: \n",
      "A value is trying to be set on a copy of a slice from a DataFrame.\n",
      "Try using .loc[row_indexer,col_indexer] = value instead\n",
      "\n",
      "See the caveats in the documentation: http://pandas.pydata.org/pandas-docs/stable/indexing.html#indexing-view-versus-copy\n"
     ]
    }
   ],
   "source": [
    "text = 'I have a rash on my belly'\n",
    "vec = forum_vectorizer.transform([text])\n",
    "sim = tfidf.dot(vec.transpose())\n",
    "forum_db['sims'] = sim\n"
   ]
  },
  {
   "cell_type": "code",
   "execution_count": 12,
   "metadata": {
    "collapsed": false
   },
   "outputs": [
    {
     "name": "stdout",
     "output_type": "stream",
     "text": [
      "CPU times: user 24 ms, sys: 0 ns, total: 24 ms\n",
      "Wall time: 23.7 ms\n",
      "CPU times: user 4 ms, sys: 0 ns, total: 4 ms\n",
      "Wall time: 4.95 ms\n",
      "CPU times: user 8 ms, sys: 0 ns, total: 8 ms\n",
      "Wall time: 47.3 ms\n",
      "CPU times: user 4 ms, sys: 0 ns, total: 4 ms\n",
      "Wall time: 3.66 ms\n"
     ]
    }
   ],
   "source": [
    "filt=''\n",
    "count=10\n",
    "filt_t = [(filt in l) for l in forum_db['label']]\n",
    "filt_i = np.nonzero(filt_t)[0]\n",
    "temp_db =%time forum_db.loc[filt_t,:]\n",
    "temp_vecr = tfidf[filt_i,:]\n",
    "sim =%time temp_vecr.dot(vec.transpose())\n",
    "temp_db['sims']=pd.to_numeric(np.array(sim.todense()).flatten())\n",
    "# sorty =%time temp_db.sort_values('sims',ascending=False)[['post','askertxt']]\n",
    "truncy =%time temp_db.nlargest(count,columns=['sims'])\n",
    "outy =%time truncy.T.to_dict().values()"
   ]
  },
  {
   "cell_type": "code",
   "execution_count": null,
   "metadata": {
    "collapsed": false
   },
   "outputs": [],
   "source": []
  },
  {
   "cell_type": "code",
   "execution_count": null,
   "metadata": {
    "collapsed": true
   },
   "outputs": [],
   "source": []
  }
 ],
 "metadata": {
  "kernelspec": {
   "display_name": "Python 2",
   "language": "python",
   "name": "python2"
  },
  "language_info": {
   "codemirror_mode": {
    "name": "ipython",
    "version": 2
   },
   "file_extension": ".py",
   "mimetype": "text/x-python",
   "name": "python",
   "nbconvert_exporter": "python",
   "pygments_lexer": "ipython2",
   "version": "2.7.12"
  }
 },
 "nbformat": 4,
 "nbformat_minor": 0
}
