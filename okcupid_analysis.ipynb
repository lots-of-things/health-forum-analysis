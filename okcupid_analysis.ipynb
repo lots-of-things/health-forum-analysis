{
 "cells": [
  {
   "cell_type": "code",
   "execution_count": 2,
   "metadata": {
    "collapsed": true
   },
   "outputs": [],
   "source": [
    "import pandas as pd"
   ]
  },
  {
   "cell_type": "code",
   "execution_count": 5,
   "metadata": {
    "collapsed": false
   },
   "outputs": [],
   "source": [
    "df = pd.read_csv(\"profiles.csv\",index_col=None)"
   ]
  },
  {
   "cell_type": "code",
   "execution_count": 27,
   "metadata": {
    "collapsed": false
   },
   "outputs": [
    {
     "data": {
      "text/html": [
       "<div>\n",
       "<table border=\"1\" class=\"dataframe\">\n",
       "  <thead>\n",
       "    <tr style=\"text-align: right;\">\n",
       "      <th></th>\n",
       "      <th>age</th>\n",
       "      <th>body_type</th>\n",
       "      <th>diet</th>\n",
       "      <th>drinks</th>\n",
       "      <th>drugs</th>\n",
       "      <th>education</th>\n",
       "      <th>essay0</th>\n",
       "      <th>essay1</th>\n",
       "      <th>essay2</th>\n",
       "      <th>essay3</th>\n",
       "      <th>...</th>\n",
       "      <th>last_online</th>\n",
       "      <th>location</th>\n",
       "      <th>offspring</th>\n",
       "      <th>pets</th>\n",
       "      <th>religion</th>\n",
       "      <th>sex</th>\n",
       "      <th>sign</th>\n",
       "      <th>smokes</th>\n",
       "      <th>speaks</th>\n",
       "      <th>status</th>\n",
       "    </tr>\n",
       "    <tr>\n",
       "      <th>orientation</th>\n",
       "      <th></th>\n",
       "      <th></th>\n",
       "      <th></th>\n",
       "      <th></th>\n",
       "      <th></th>\n",
       "      <th></th>\n",
       "      <th></th>\n",
       "      <th></th>\n",
       "      <th></th>\n",
       "      <th></th>\n",
       "      <th></th>\n",
       "      <th></th>\n",
       "      <th></th>\n",
       "      <th></th>\n",
       "      <th></th>\n",
       "      <th></th>\n",
       "      <th></th>\n",
       "      <th></th>\n",
       "      <th></th>\n",
       "      <th></th>\n",
       "      <th></th>\n",
       "    </tr>\n",
       "  </thead>\n",
       "  <tbody>\n",
       "    <tr>\n",
       "      <th>bisexual</th>\n",
       "      <td>2767</td>\n",
       "      <td>2439</td>\n",
       "      <td>1717</td>\n",
       "      <td>2625</td>\n",
       "      <td>2009</td>\n",
       "      <td>2443</td>\n",
       "      <td>2599</td>\n",
       "      <td>2544</td>\n",
       "      <td>2478</td>\n",
       "      <td>2410</td>\n",
       "      <td>...</td>\n",
       "      <td>2767</td>\n",
       "      <td>2767</td>\n",
       "      <td>1213</td>\n",
       "      <td>2148</td>\n",
       "      <td>2071</td>\n",
       "      <td>2767</td>\n",
       "      <td>2367</td>\n",
       "      <td>2545</td>\n",
       "      <td>2765</td>\n",
       "      <td>2767</td>\n",
       "    </tr>\n",
       "    <tr>\n",
       "      <th>gay</th>\n",
       "      <td>5573</td>\n",
       "      <td>5044</td>\n",
       "      <td>2786</td>\n",
       "      <td>5329</td>\n",
       "      <td>4310</td>\n",
       "      <td>4909</td>\n",
       "      <td>5188</td>\n",
       "      <td>4978</td>\n",
       "      <td>4830</td>\n",
       "      <td>4673</td>\n",
       "      <td>...</td>\n",
       "      <td>5573</td>\n",
       "      <td>5573</td>\n",
       "      <td>1566</td>\n",
       "      <td>3814</td>\n",
       "      <td>3623</td>\n",
       "      <td>5573</td>\n",
       "      <td>4973</td>\n",
       "      <td>5102</td>\n",
       "      <td>5567</td>\n",
       "      <td>5573</td>\n",
       "    </tr>\n",
       "    <tr>\n",
       "      <th>straight</th>\n",
       "      <td>51606</td>\n",
       "      <td>47167</td>\n",
       "      <td>31048</td>\n",
       "      <td>49007</td>\n",
       "      <td>39547</td>\n",
       "      <td>45966</td>\n",
       "      <td>46674</td>\n",
       "      <td>44853</td>\n",
       "      <td>43000</td>\n",
       "      <td>41387</td>\n",
       "      <td>...</td>\n",
       "      <td>51606</td>\n",
       "      <td>51606</td>\n",
       "      <td>21606</td>\n",
       "      <td>34063</td>\n",
       "      <td>34026</td>\n",
       "      <td>51606</td>\n",
       "      <td>41550</td>\n",
       "      <td>46787</td>\n",
       "      <td>51564</td>\n",
       "      <td>51606</td>\n",
       "    </tr>\n",
       "  </tbody>\n",
       "</table>\n",
       "<p>3 rows × 30 columns</p>\n",
       "</div>"
      ],
      "text/plain": [
       "               age  body_type   diet  drinks  drugs  education  essay0  \\\n",
       "orientation                                                              \n",
       "bisexual      2767       2439   1717    2625   2009       2443    2599   \n",
       "gay           5573       5044   2786    5329   4310       4909    5188   \n",
       "straight     51606      47167  31048   49007  39547      45966   46674   \n",
       "\n",
       "             essay1  essay2  essay3   ...    last_online  location  offspring  \\\n",
       "orientation                           ...                                       \n",
       "bisexual       2544    2478    2410   ...           2767      2767       1213   \n",
       "gay            4978    4830    4673   ...           5573      5573       1566   \n",
       "straight      44853   43000   41387   ...          51606     51606      21606   \n",
       "\n",
       "              pets  religion    sex   sign  smokes  speaks  status  \n",
       "orientation                                                         \n",
       "bisexual      2148      2071   2767   2367    2545    2765    2767  \n",
       "gay           3814      3623   5573   4973    5102    5567    5573  \n",
       "straight     34063     34026  51606  41550   46787   51564   51606  \n",
       "\n",
       "[3 rows x 30 columns]"
      ]
     },
     "execution_count": 27,
     "metadata": {},
     "output_type": "execute_result"
    }
   ],
   "source": [
    "df.groupby('orientation').count()"
   ]
  },
  {
   "cell_type": "code",
   "execution_count": null,
   "metadata": {
    "collapsed": true
   },
   "outputs": [],
   "source": []
  }
 ],
 "metadata": {
  "kernelspec": {
   "display_name": "Python 2",
   "language": "python",
   "name": "python2"
  },
  "language_info": {
   "codemirror_mode": {
    "name": "ipython",
    "version": 2
   },
   "file_extension": ".py",
   "mimetype": "text/x-python",
   "name": "python",
   "nbconvert_exporter": "python",
   "pygments_lexer": "ipython2",
   "version": "2.7.12"
  }
 },
 "nbformat": 4,
 "nbformat_minor": 0
}
