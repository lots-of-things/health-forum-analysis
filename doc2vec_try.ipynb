{
 "cells": [
  {
   "cell_type": "markdown",
   "metadata": {},
   "source": [
    "# gensim doc2vec & IMDB sentiment dataset"
   ]
  },
  {
   "cell_type": "markdown",
   "metadata": {},
   "source": [
    "TODO: section on introduction & motivation\n",
    "\n",
    "TODO: prerequisites + dependencies (statsmodels, patsy, ?)"
   ]
  },
  {
   "cell_type": "markdown",
   "metadata": {},
   "source": [
    "## Load corpus"
   ]
  },
  {
   "cell_type": "markdown",
   "metadata": {},
   "source": [
    "Fetch and prep exactly as in Mikolov's go.sh shell script. (Note this cell tests for existence of required files, so steps won't repeat once the final summary file (`aclImdb/alldata-id.txt`) is available alongside this notebook.)"
   ]
  },
  {
   "cell_type": "code",
   "execution_count": 3,
   "metadata": {
    "collapsed": false
   },
   "outputs": [],
   "source": [
    "import locale\n",
    "import glob\n",
    "import os.path\n",
    "import requests\n",
    "import tarfile\n",
    "import pandas as pd\n",
    "\n",
    "dirname = 'aclImdb'\n",
    "filename = 'aclImdb_v1.tar.gz'\n",
    "locale.setlocale(locale.LC_ALL, 'C')\n",
    "\n",
    "\n",
    "# Convert text to lower-case and strip punctuation/symbols from words\n",
    "def normalize_text(text):\n",
    "    norm_text = text.lower()\n",
    "\n",
    "    # Replace breaks with spaces\n",
    "    norm_text = norm_text.replace('<br />', ' ')\n",
    "\n",
    "    # Pad punctuation with spaces on both sides\n",
    "    for char in ['.', '\"', ',', '(', ')', '!', '?', ';', ':']:\n",
    "        norm_text = norm_text.replace(char, ' ' + char + ' ')\n",
    "\n",
    "    return norm_text\n",
    "\n"
   ]
  },
  {
   "cell_type": "code",
   "execution_count": 6,
   "metadata": {
    "collapsed": false
   },
   "outputs": [],
   "source": [
    "df = pd.read_csv(\"compiled_data_toclassify.csv\",index_col=None, header=0)\n",
    "df=df.drop(df.columns[0],1)\n",
    "\n",
    "df = df.loc[df['response_type']=='asker', (df!=0).any(0)]\n",
    "txt = df['response'].as_matrix()\n",
    "cols = [col for col in df.columns if 'diag_' in col]\n",
    "diag = 1*(df[cols].as_matrix()>0)"
   ]
  },
  {
   "cell_type": "code",
   "execution_count": 18,
   "metadata": {
    "collapsed": false
   },
   "outputs": [
    {
     "name": "stdout",
     "output_type": "stream",
     "text": [
      "5692 docs: 1423 train-sentiment, 1423 test-sentiment\n"
     ]
    }
   ],
   "source": [
    "import gensim\n",
    "from gensim.models.doc2vec import TaggedDocument\n",
    "from collections import namedtuple\n",
    "\n",
    "SentimentDocument = namedtuple('SentimentDocument', 'words tags split sentiment')\n",
    "\n",
    "alldocs = []  # will hold all docs in original order\n",
    "for line_no, line in enumerate(txt):\n",
    "    tokens = gensim.utils.to_unicode(line).split()\n",
    "    words = tokens\n",
    "    tags = [line_no] # `tags = [tokens[0]]` would also work at extra memory cost\n",
    "    split = ['train','test','extra','extra'][line_no//(len(txt)/4)]  # 25k train, 25k test, 25k extra\n",
    "    sentiment = diag[line_no,14] # [12.5K pos, 12.5K neg]*2 then unknown\n",
    "    alldocs.append(SentimentDocument(words, tags, split, sentiment))\n",
    "\n",
    "train_docs = [doc for doc in alldocs if doc.split == 'train']\n",
    "test_docs = [doc for doc in alldocs if doc.split == 'test']\n",
    "doc_list = alldocs[:]  # for reshuffling per pass\n",
    "\n",
    "print('%d docs: %d train-sentiment, %d test-sentiment' % (len(doc_list), len(train_docs), len(test_docs)))"
   ]
  },
  {
   "cell_type": "markdown",
   "metadata": {},
   "source": [
    "## Set-up Doc2Vec Training & Evaluation Models"
   ]
  },
  {
   "cell_type": "markdown",
   "metadata": {},
   "source": [
    "Approximating experiment of Le & Mikolov [\"Distributed Representations of Sentences and Documents\"](http://cs.stanford.edu/~quocle/paragraph_vector.pdf), also with guidance from Mikolov's [example go.sh](https://groups.google.com/d/msg/word2vec-toolkit/Q49FIrNOQRo/J6KG8mUj45sJ):\n",
    "\n",
    "`./word2vec -train ../alldata-id.txt -output vectors.txt -cbow 0 -size 100 -window 10 -negative 5 -hs 0 -sample 1e-4 -threads 40 -binary 0 -iter 20 -min-count 1 -sentence-vectors 1`\n",
    "\n",
    "Parameter choices below vary:\n",
    "\n",
    "* 100-dimensional vectors, as the 400d vectors of the paper don't seem to offer much benefit on this task\n",
    "* similarly, frequent word subsampling seems to decrease sentiment-prediction accuracy, so it's left out\n",
    "* `cbow=0` means skip-gram which is equivalent to the paper's 'PV-DBOW' mode, matched in gensim with `dm=0`\n",
    "* added to that DBOW model are two DM models, one which averages context vectors (`dm_mean`) and one which concatenates them (`dm_concat`, resulting in a much larger, slower, more data-hungry model)\n",
    "* a `min_count=2` saves quite a bit of model memory, discarding only words that appear in a single doc (and are thus no more expressive than the unique-to-each doc vectors themselves)"
   ]
  },
  {
   "cell_type": "code",
   "execution_count": 25,
   "metadata": {
    "collapsed": false
   },
   "outputs": [
    {
     "name": "stdout",
     "output_type": "stream",
     "text": [
      "Doc2Vec(dm/c,d100,n5,w5,mc2,t4)\n",
      "Doc2Vec(dbow,d100,n5,mc2,t4)\n",
      "Doc2Vec(dm/m,d100,n5,w10,mc2,t4)\n"
     ]
    }
   ],
   "source": [
    "from gensim.models import Doc2Vec\n",
    "import gensim.models.doc2vec\n",
    "from collections import OrderedDict\n",
    "import multiprocessing\n",
    "\n",
    "cores = multiprocessing.cpu_count()\n",
    "assert gensim.models.doc2vec.FAST_VERSION > -1, \"this will be painfully slow otherwise\"\n",
    "\n",
    "simple_models = [\n",
    "    # PV-DM w/concatenation - window=5 (both sides) approximates paper's 10-word total window size\n",
    "    Doc2Vec(dm=1, dm_concat=1, size=100, window=5, negative=5, hs=0, min_count=2, workers=cores),\n",
    "    # PV-DBOW \n",
    "    Doc2Vec(dm=0, size=100, negative=5, hs=0, min_count=2, workers=cores),\n",
    "    # PV-DM w/average\n",
    "    Doc2Vec(dm=1, dm_mean=1, size=100, window=10, negative=5, hs=0, min_count=2, workers=cores),\n",
    "]\n",
    "\n",
    "# speed setup by sharing results of 1st model's vocabulary scan\n",
    "simple_models[0].build_vocab(alldocs)  # PV-DM/concat requires one special NULL word so it serves as template\n",
    "print(simple_models[0])\n",
    "for model in simple_models[1:]:\n",
    "    model.reset_from(simple_models[0])\n",
    "    print(model)\n",
    "\n",
    "models_by_name = OrderedDict((str(model), model) for model in simple_models)"
   ]
  },
  {
   "cell_type": "markdown",
   "metadata": {},
   "source": [
    "Following the paper, we also evaluate models in pairs. These wrappers return the concatenation of the vectors from each model. (Only the singular models are trained.)"
   ]
  },
  {
   "cell_type": "markdown",
   "metadata": {},
   "source": [
    "## Predictive Evaluation Methods"
   ]
  },
  {
   "cell_type": "markdown",
   "metadata": {},
   "source": [
    "Helper methods for evaluating error rate."
   ]
  },
  {
   "cell_type": "code",
   "execution_count": 36,
   "metadata": {
    "collapsed": false
   },
   "outputs": [],
   "source": [
    "import numpy as np\n",
    "import statsmodels.api as sm\n",
    "from random import sample\n",
    "\n",
    "# for timing\n",
    "from contextlib import contextmanager\n",
    "from timeit import default_timer\n",
    "import time \n",
    "\n",
    "@contextmanager\n",
    "def elapsed_timer():\n",
    "    start = default_timer()\n",
    "    elapser = lambda: default_timer() - start\n",
    "    yield lambda: elapser()\n",
    "    end = default_timer()\n",
    "    elapser = lambda: end-start\n",
    "    \n",
    "def logistic_predictor_from_data(train_targets, train_regressors):\n",
    "    logit = sm.Logit(train_targets, train_regressors)\n",
    "    predictor = logit.fit(method='bfgs')\n",
    "    #print(predictor.summary())\n",
    "    return predictor\n",
    "\n",
    "def error_rate_for_model(test_model, train_set, test_set, infer=False, infer_steps=3, infer_alpha=0.1, infer_subsample=0.1):\n",
    "    \"\"\"Report error rate on test_doc sentiments, using supplied model and train_docs\"\"\"\n",
    "\n",
    "    train_targets, train_regressors = zip(*[(doc.sentiment, test_model.docvecs[doc.tags[0]]) for doc in train_set])\n",
    "    train_regressors = sm.add_constant(train_regressors)\n",
    "    predictor = logistic_predictor_from_data(train_targets, train_regressors)\n",
    "\n",
    "    test_data = test_set\n",
    "    if infer:\n",
    "        if infer_subsample < 1.0:\n",
    "            test_data = sample(test_data, int(infer_subsample * len(test_data)))\n",
    "        test_regressors = [test_model.infer_vector(doc.words, steps=infer_steps, alpha=infer_alpha) for doc in test_data]\n",
    "    else:\n",
    "        test_regressors = [test_model.docvecs[doc.tags[0]] for doc in test_docs]\n",
    "    test_regressors = sm.add_constant(test_regressors)\n",
    "    \n",
    "    # predict & evaluate\n",
    "    test_predictions = predictor.predict(test_regressors)\n",
    "    corrects = sum(np.rint(test_predictions) == [doc.sentiment for doc in test_data])\n",
    "    errors = len(test_predictions) - corrects\n",
    "    error_rate = float(errors) / len(test_predictions)\n",
    "    return (error_rate, errors, len(test_predictions), predictor)\n"
   ]
  },
  {
   "cell_type": "markdown",
   "metadata": {},
   "source": [
    "## Bulk Training"
   ]
  },
  {
   "cell_type": "markdown",
   "metadata": {},
   "source": [
    "Using explicit multiple-pass, alpha-reduction approach as sketched in [gensim doc2vec blog post](http://radimrehurek.com/2014/12/doc2vec-tutorial/) – with added shuffling of corpus on each pass.\n",
    "\n",
    "Note that vector training is occurring on *all* documents of the dataset, which includes all TRAIN/TEST/DEV docs.\n",
    "\n",
    "Evaluation of each model's sentiment-predictive power is repeated after each pass, as an error rate (lower is better), to see the rates-of-relative-improvement. The base numbers reuse the TRAIN and TEST vectors stored in the models for the logistic regression, while the _inferred_ results use newly-inferred TEST vectors. \n",
    "\n",
    "(On a 4-core 2.6Ghz Intel Core i7, these 20 passes training and evaluating 3 main models takes about an hour.)"
   ]
  },
  {
   "cell_type": "code",
   "execution_count": 37,
   "metadata": {
    "collapsed": false
   },
   "outputs": [],
   "source": [
    "from collections import defaultdict\n",
    "best_error = defaultdict(lambda :1.0)  # to selectively-print only best errors achieved"
   ]
  },
  {
   "cell_type": "code",
   "execution_count": 39,
   "metadata": {
    "collapsed": false
   },
   "outputs": [
    {
     "name": "stdout",
     "output_type": "stream",
     "text": [
      "START 2016-09-26 14:52:35.807063\n",
      "Warning: Maximum number of iterations has been exceeded.\n",
      "         Current function value: 0.086451\n",
      "         Iterations: 35\n",
      "         Function evaluations: 36\n",
      "         Gradient evaluations: 36\n",
      "*0.003514 : 1 passes : Doc2Vec(dm/c,d100,n5,w5,mc2,t4) 15.3s 0.4s\n",
      "Warning: Maximum number of iterations has been exceeded."
     ]
    },
    {
     "name": "stderr",
     "output_type": "stream",
     "text": [
      "/home/will/anaconda/lib/python2.7/site-packages/statsmodels/base/model.py:466: ConvergenceWarning: Maximum Likelihood optimization failed to converge. Check mle_retvals\n",
      "  \"Check mle_retvals\", ConvergenceWarning)\n",
      "/home/will/anaconda/lib/python2.7/site-packages/statsmodels/base/model.py:466: ConvergenceWarning: Maximum Likelihood optimization failed to converge. Check mle_retvals\n",
      "  \"Check mle_retvals\", ConvergenceWarning)\n"
     ]
    },
    {
     "name": "stdout",
     "output_type": "stream",
     "text": [
      "\n",
      "         Current function value: 0.086451\n",
      "         Iterations: 35\n",
      "         Function evaluations: 36\n",
      "         Gradient evaluations: 36\n",
      "*0.000000 : 1 passes : Doc2Vec(dm/c,d100,n5,w5,mc2,t4)_inferred 15.3s 0.8s\n",
      "Warning: Maximum number of iterations has been exceeded.\n",
      "         Current function value: 0.035297\n",
      "         Iterations: 35\n",
      "         Function evaluations: 36\n",
      "         Gradient evaluations: 36\n",
      "*0.016163 : 1 passes : Doc2Vec(dbow,d100,n5,mc2,t4) 5.5s 0.3s\n",
      "Warning: Maximum number of iterations has been exceeded."
     ]
    },
    {
     "name": "stderr",
     "output_type": "stream",
     "text": [
      "/home/will/anaconda/lib/python2.7/site-packages/statsmodels/base/model.py:466: ConvergenceWarning: Maximum Likelihood optimization failed to converge. Check mle_retvals\n",
      "  \"Check mle_retvals\", ConvergenceWarning)\n",
      "/home/will/anaconda/lib/python2.7/site-packages/statsmodels/base/model.py:466: ConvergenceWarning: Maximum Likelihood optimization failed to converge. Check mle_retvals\n",
      "  \"Check mle_retvals\", ConvergenceWarning)\n"
     ]
    },
    {
     "name": "stdout",
     "output_type": "stream",
     "text": [
      "\n",
      "         Current function value: 0.035297\n",
      "         Iterations: 35\n",
      "         Function evaluations: 36\n",
      "         Gradient evaluations: 36\n",
      "*0.007042 : 1 passes : Doc2Vec(dbow,d100,n5,mc2,t4)_inferred 5.5s 0.4s\n",
      "Warning: Maximum number of iterations has been exceeded.\n",
      "         Current function value: 0.063490\n",
      "         Iterations: 35\n",
      "         Function evaluations: 39\n",
      "         Gradient evaluations: 39\n",
      "*0.004919 : 1 passes : Doc2Vec(dm/m,d100,n5,w10,mc2,t4) 9.5s 0.3s\n",
      "Warning: Maximum number of iterations has been exceeded."
     ]
    },
    {
     "name": "stderr",
     "output_type": "stream",
     "text": [
      "/home/will/anaconda/lib/python2.7/site-packages/statsmodels/base/model.py:466: ConvergenceWarning: Maximum Likelihood optimization failed to converge. Check mle_retvals\n",
      "  \"Check mle_retvals\", ConvergenceWarning)\n",
      "/home/will/anaconda/lib/python2.7/site-packages/statsmodels/base/model.py:466: ConvergenceWarning: Maximum Likelihood optimization failed to converge. Check mle_retvals\n",
      "  \"Check mle_retvals\", ConvergenceWarning)\n"
     ]
    },
    {
     "name": "stdout",
     "output_type": "stream",
     "text": [
      "\n",
      "         Current function value: 0.063490\n",
      "         Iterations: 35\n",
      "         Function evaluations: 39\n",
      "         Gradient evaluations: 39\n",
      "*0.014085 : 1 passes : Doc2Vec(dm/m,d100,n5,w10,mc2,t4)_inferred 9.5s 0.6s\n",
      "completed pass 1 at alpha 0.025000\n",
      "Warning: Maximum number of iterations has been exceeded.\n",
      "         Current function value: 0.084170\n",
      "         Iterations: 35\n",
      "         Function evaluations: 38\n",
      "         Gradient evaluations: 38\n",
      "*0.003514 : 2 passes : Doc2Vec(dm/c,d100,n5,w5,mc2,t4) 15.1s 0.2s\n",
      "Warning: Maximum number of iterations has been exceeded."
     ]
    },
    {
     "name": "stderr",
     "output_type": "stream",
     "text": [
      "/home/will/anaconda/lib/python2.7/site-packages/statsmodels/base/model.py:466: ConvergenceWarning: Maximum Likelihood optimization failed to converge. Check mle_retvals\n",
      "  \"Check mle_retvals\", ConvergenceWarning)\n",
      "/home/will/anaconda/lib/python2.7/site-packages/statsmodels/base/model.py:466: ConvergenceWarning: Maximum Likelihood optimization failed to converge. Check mle_retvals\n",
      "  \"Check mle_retvals\", ConvergenceWarning)\n"
     ]
    },
    {
     "name": "stdout",
     "output_type": "stream",
     "text": [
      "\n",
      "         Current function value: 0.027971\n",
      "         Iterations: 35\n",
      "         Function evaluations: 40\n",
      "         Gradient evaluations: 40\n",
      " 0.023190 : 2 passes : Doc2Vec(dbow,d100,n5,mc2,t4) 5.7s 0.3s\n",
      "Warning: Maximum number of iterations has been exceeded.\n",
      "         Current function value: 0.060596\n",
      "         Iterations: 35\n",
      "         Function evaluations: 39\n",
      "         Gradient evaluations: 39\n",
      " 0.007730 : 2 passes : Doc2Vec(dm/m,d100,n5,w10,mc2,t4) 8.6s 0.4s\n",
      "completed pass 2 at alpha 0.023800\n",
      "Warning: Maximum number of iterations has been exceeded."
     ]
    },
    {
     "name": "stderr",
     "output_type": "stream",
     "text": [
      "/home/will/anaconda/lib/python2.7/site-packages/statsmodels/base/model.py:466: ConvergenceWarning: Maximum Likelihood optimization failed to converge. Check mle_retvals\n",
      "  \"Check mle_retvals\", ConvergenceWarning)\n",
      "/home/will/anaconda/lib/python2.7/site-packages/statsmodels/base/model.py:466: ConvergenceWarning: Maximum Likelihood optimization failed to converge. Check mle_retvals\n",
      "  \"Check mle_retvals\", ConvergenceWarning)\n"
     ]
    },
    {
     "name": "stdout",
     "output_type": "stream",
     "text": [
      "\n",
      "         Current function value: 0.084379\n",
      "         Iterations: 35\n",
      "         Function evaluations: 36\n",
      "         Gradient evaluations: 36\n",
      "*0.003514 : 3 passes : Doc2Vec(dm/c,d100,n5,w5,mc2,t4) 13.7s 0.2s\n",
      "Warning: Maximum number of iterations has been exceeded.\n",
      "         Current function value: 0.032239\n",
      "         Iterations: 35\n",
      "         Function evaluations: 37\n",
      "         Gradient evaluations: 37\n",
      " 0.023893 : 3 passes : Doc2Vec(dbow,d100,n5,mc2,t4) 6.1s 0.3s\n",
      "Warning: Maximum number of iterations has been exceeded."
     ]
    },
    {
     "name": "stderr",
     "output_type": "stream",
     "text": [
      "/home/will/anaconda/lib/python2.7/site-packages/statsmodels/base/model.py:466: ConvergenceWarning: Maximum Likelihood optimization failed to converge. Check mle_retvals\n",
      "  \"Check mle_retvals\", ConvergenceWarning)\n",
      "/home/will/anaconda/lib/python2.7/site-packages/statsmodels/base/model.py:466: ConvergenceWarning: Maximum Likelihood optimization failed to converge. Check mle_retvals\n",
      "  \"Check mle_retvals\", ConvergenceWarning)\n"
     ]
    },
    {
     "name": "stdout",
     "output_type": "stream",
     "text": [
      "\n",
      "         Current function value: 0.055943\n",
      "         Iterations: 35\n",
      "         Function evaluations: 40\n",
      "         Gradient evaluations: 40\n",
      " 0.008433 : 3 passes : Doc2Vec(dm/m,d100,n5,w10,mc2,t4) 9.1s 0.3s\n",
      "completed pass 3 at alpha 0.022600\n",
      "Warning: Maximum number of iterations has been exceeded.\n",
      "         Current function value: 0.083235\n",
      "         Iterations: 35\n",
      "         Function evaluations: 36\n",
      "         Gradient evaluations: 36\n",
      "*0.003514 : 4 passes : Doc2Vec(dm/c,d100,n5,w5,mc2,t4) 14.3s 0.3s\n",
      "Warning: Maximum number of iterations has been exceeded."
     ]
    },
    {
     "name": "stderr",
     "output_type": "stream",
     "text": [
      "/home/will/anaconda/lib/python2.7/site-packages/statsmodels/base/model.py:466: ConvergenceWarning: Maximum Likelihood optimization failed to converge. Check mle_retvals\n",
      "  \"Check mle_retvals\", ConvergenceWarning)\n",
      "/home/will/anaconda/lib/python2.7/site-packages/statsmodels/base/model.py:466: ConvergenceWarning: Maximum Likelihood optimization failed to converge. Check mle_retvals\n",
      "  \"Check mle_retvals\", ConvergenceWarning)\n"
     ]
    },
    {
     "name": "stdout",
     "output_type": "stream",
     "text": [
      "\n",
      "         Current function value: 0.031158\n",
      "         Iterations: 35\n",
      "         Function evaluations: 37\n",
      "         Gradient evaluations: 37\n",
      " 0.028812 : 4 passes : Doc2Vec(dbow,d100,n5,mc2,t4) 5.5s 0.2s\n",
      "Warning: Maximum number of iterations has been exceeded.\n",
      "         Current function value: 0.050490\n",
      "         Iterations: 35\n",
      "         Function evaluations: 42\n",
      "         Gradient evaluations: 42\n",
      " 0.013352 : 4 passes : Doc2Vec(dm/m,d100,n5,w10,mc2,t4) 9.5s 0.4s\n",
      "completed pass 4 at alpha 0.021400\n",
      "Warning: Maximum number of iterations has been exceeded."
     ]
    },
    {
     "name": "stderr",
     "output_type": "stream",
     "text": [
      "/home/will/anaconda/lib/python2.7/site-packages/statsmodels/base/model.py:466: ConvergenceWarning: Maximum Likelihood optimization failed to converge. Check mle_retvals\n",
      "  \"Check mle_retvals\", ConvergenceWarning)\n",
      "/home/will/anaconda/lib/python2.7/site-packages/statsmodels/base/model.py:466: ConvergenceWarning: Maximum Likelihood optimization failed to converge. Check mle_retvals\n",
      "  \"Check mle_retvals\", ConvergenceWarning)\n"
     ]
    },
    {
     "name": "stdout",
     "output_type": "stream",
     "text": [
      "\n",
      "         Current function value: 0.081472\n",
      "         Iterations: 35\n",
      "         Function evaluations: 37\n",
      "         Gradient evaluations: 37\n",
      "*0.003514 : 5 passes : Doc2Vec(dm/c,d100,n5,w5,mc2,t4) 14.0s 0.2s\n",
      "Warning: Maximum number of iterations has been exceeded.\n",
      "         Current function value: 0.081472\n",
      "         Iterations: 35\n",
      "         Function evaluations: 37\n",
      "         Gradient evaluations: 37\n",
      " 0.007042 : 5 passes : Doc2Vec(dm/c,d100,n5,w5,mc2,t4)_inferred 14.0s 0.8s\n",
      "Warning: Maximum number of iterations has been exceeded."
     ]
    },
    {
     "name": "stderr",
     "output_type": "stream",
     "text": [
      "/home/will/anaconda/lib/python2.7/site-packages/statsmodels/base/model.py:466: ConvergenceWarning: Maximum Likelihood optimization failed to converge. Check mle_retvals\n",
      "  \"Check mle_retvals\", ConvergenceWarning)\n",
      "/home/will/anaconda/lib/python2.7/site-packages/statsmodels/base/model.py:466: ConvergenceWarning: Maximum Likelihood optimization failed to converge. Check mle_retvals\n",
      "  \"Check mle_retvals\", ConvergenceWarning)\n"
     ]
    },
    {
     "name": "stdout",
     "output_type": "stream",
     "text": [
      "\n",
      "         Current function value: 0.025673\n",
      "         Iterations: 35\n",
      "         Function evaluations: 38\n",
      "         Gradient evaluations: 38\n",
      " 0.025299 : 5 passes : Doc2Vec(dbow,d100,n5,mc2,t4) 5.4s 0.3s\n",
      "Warning: Maximum number of iterations has been exceeded.\n",
      "         Current function value: 0.025673\n",
      "         Iterations: 35\n",
      "         Function evaluations: 38\n",
      "         Gradient evaluations: 38\n",
      " 0.014085 : 5 passes : Doc2Vec(dbow,d100,n5,mc2,t4)_inferred 5.4s 0.4s\n",
      "Warning: Maximum number of iterations has been exceeded."
     ]
    },
    {
     "name": "stderr",
     "output_type": "stream",
     "text": [
      "/home/will/anaconda/lib/python2.7/site-packages/statsmodels/base/model.py:466: ConvergenceWarning: Maximum Likelihood optimization failed to converge. Check mle_retvals\n",
      "  \"Check mle_retvals\", ConvergenceWarning)\n",
      "/home/will/anaconda/lib/python2.7/site-packages/statsmodels/base/model.py:466: ConvergenceWarning: Maximum Likelihood optimization failed to converge. Check mle_retvals\n",
      "  \"Check mle_retvals\", ConvergenceWarning)\n"
     ]
    },
    {
     "name": "stdout",
     "output_type": "stream",
     "text": [
      "\n",
      "         Current function value: 0.050749\n",
      "         Iterations: 35\n",
      "         Function evaluations: 41\n",
      "         Gradient evaluations: 41\n",
      " 0.011947 : 5 passes : Doc2Vec(dm/m,d100,n5,w10,mc2,t4) 8.3s 0.3s\n",
      "Warning: Maximum number of iterations has been exceeded.\n",
      "         Current function value: 0.050749\n",
      "         Iterations: 35\n",
      "         Function evaluations: 41\n",
      "         Gradient evaluations: 41\n",
      "*0.007042 : 5 passes : Doc2Vec(dm/m,d100,n5,w10,mc2,t4)_inferred 8.3s 0.6s\n",
      "completed pass 5 at alpha 0.020200\n",
      "Warning: Maximum number of iterations has been exceeded."
     ]
    },
    {
     "name": "stderr",
     "output_type": "stream",
     "text": [
      "/home/will/anaconda/lib/python2.7/site-packages/statsmodels/base/model.py:466: ConvergenceWarning: Maximum Likelihood optimization failed to converge. Check mle_retvals\n",
      "  \"Check mle_retvals\", ConvergenceWarning)\n",
      "/home/will/anaconda/lib/python2.7/site-packages/statsmodels/base/model.py:466: ConvergenceWarning: Maximum Likelihood optimization failed to converge. Check mle_retvals\n",
      "  \"Check mle_retvals\", ConvergenceWarning)\n"
     ]
    },
    {
     "name": "stdout",
     "output_type": "stream",
     "text": [
      "\n",
      "         Current function value: 0.081301\n",
      "         Iterations: 35\n",
      "         Function evaluations: 37\n",
      "         Gradient evaluations: 37\n",
      "*0.003514 : 6 passes : Doc2Vec(dm/c,d100,n5,w5,mc2,t4) 14.8s 0.3s\n",
      "Warning: Maximum number of iterations has been exceeded.\n",
      "         Current function value: 0.027116\n",
      "         Iterations: 35\n",
      "         Function evaluations: 39\n",
      "         Gradient evaluations: 39\n",
      " 0.023190 : 6 passes : Doc2Vec(dbow,d100,n5,mc2,t4) 5.9s 0.3s\n",
      "Warning: Maximum number of iterations has been exceeded."
     ]
    },
    {
     "name": "stderr",
     "output_type": "stream",
     "text": [
      "/home/will/anaconda/lib/python2.7/site-packages/statsmodels/base/model.py:466: ConvergenceWarning: Maximum Likelihood optimization failed to converge. Check mle_retvals\n",
      "  \"Check mle_retvals\", ConvergenceWarning)\n",
      "/home/will/anaconda/lib/python2.7/site-packages/statsmodels/base/model.py:466: ConvergenceWarning: Maximum Likelihood optimization failed to converge. Check mle_retvals\n",
      "  \"Check mle_retvals\", ConvergenceWarning)\n"
     ]
    },
    {
     "name": "stdout",
     "output_type": "stream",
     "text": [
      "\n",
      "         Current function value: 0.047744\n",
      "         Iterations: 35\n",
      "         Function evaluations: 43\n",
      "         Gradient evaluations: 43\n",
      " 0.014055 : 6 passes : Doc2Vec(dm/m,d100,n5,w10,mc2,t4) 9.5s 0.4s\n",
      "completed pass 6 at alpha 0.019000\n",
      "Warning: Maximum number of iterations has been exceeded.\n",
      "         Current function value: 0.081099\n",
      "         Iterations: 35\n",
      "         Function evaluations: 36\n",
      "         Gradient evaluations: 36\n",
      "*0.003514 : 7 passes : Doc2Vec(dm/c,d100,n5,w5,mc2,t4) 14.7s 0.2s\n",
      "Warning: Maximum number of iterations has been exceeded."
     ]
    },
    {
     "name": "stderr",
     "output_type": "stream",
     "text": [
      "/home/will/anaconda/lib/python2.7/site-packages/statsmodels/base/model.py:466: ConvergenceWarning: Maximum Likelihood optimization failed to converge. Check mle_retvals\n",
      "  \"Check mle_retvals\", ConvergenceWarning)\n",
      "/home/will/anaconda/lib/python2.7/site-packages/statsmodels/base/model.py:466: ConvergenceWarning: Maximum Likelihood optimization failed to converge. Check mle_retvals\n",
      "  \"Check mle_retvals\", ConvergenceWarning)\n"
     ]
    },
    {
     "name": "stdout",
     "output_type": "stream",
     "text": [
      "\n",
      "         Current function value: 0.024714\n",
      "         Iterations: 35\n",
      "         Function evaluations: 39\n",
      "         Gradient evaluations: 39\n",
      " 0.030218 : 7 passes : Doc2Vec(dbow,d100,n5,mc2,t4) 6.1s 0.3s\n",
      "Warning: Maximum number of iterations has been exceeded.\n",
      "         Current function value: 0.046800\n",
      "         Iterations: 35\n",
      "         Function evaluations: 42\n",
      "         Gradient evaluations: 42\n",
      " 0.014055 : 7 passes : Doc2Vec(dm/m,d100,n5,w10,mc2,t4) 9.2s 0.3s\n",
      "completed pass 7 at alpha 0.017800\n",
      "Warning: Maximum number of iterations has been exceeded."
     ]
    },
    {
     "name": "stderr",
     "output_type": "stream",
     "text": [
      "/home/will/anaconda/lib/python2.7/site-packages/statsmodels/base/model.py:466: ConvergenceWarning: Maximum Likelihood optimization failed to converge. Check mle_retvals\n",
      "  \"Check mle_retvals\", ConvergenceWarning)\n",
      "/home/will/anaconda/lib/python2.7/site-packages/statsmodels/base/model.py:466: ConvergenceWarning: Maximum Likelihood optimization failed to converge. Check mle_retvals\n",
      "  \"Check mle_retvals\", ConvergenceWarning)\n"
     ]
    },
    {
     "name": "stdout",
     "output_type": "stream",
     "text": [
      "\n",
      "         Current function value: 0.081522\n",
      "         Iterations: 35\n",
      "         Function evaluations: 36\n",
      "         Gradient evaluations: 36\n",
      "*0.003514 : 8 passes : Doc2Vec(dm/c,d100,n5,w5,mc2,t4) 14.8s 0.3s\n",
      "Warning: Maximum number of iterations has been exceeded.\n",
      "         Current function value: 0.028792\n",
      "         Iterations: 35\n",
      "         Function evaluations: 37\n",
      "         Gradient evaluations: 37\n",
      " 0.020379 : 8 passes : Doc2Vec(dbow,d100,n5,mc2,t4) 6.0s 0.3s\n",
      "Warning: Maximum number of iterations has been exceeded."
     ]
    },
    {
     "name": "stderr",
     "output_type": "stream",
     "text": [
      "/home/will/anaconda/lib/python2.7/site-packages/statsmodels/base/model.py:466: ConvergenceWarning: Maximum Likelihood optimization failed to converge. Check mle_retvals\n",
      "  \"Check mle_retvals\", ConvergenceWarning)\n",
      "/home/will/anaconda/lib/python2.7/site-packages/statsmodels/base/model.py:466: ConvergenceWarning: Maximum Likelihood optimization failed to converge. Check mle_retvals\n",
      "  \"Check mle_retvals\", ConvergenceWarning)\n"
     ]
    },
    {
     "name": "stdout",
     "output_type": "stream",
     "text": [
      "\n",
      "         Current function value: 0.046141\n",
      "         Iterations: 35\n",
      "         Function evaluations: 42\n",
      "         Gradient evaluations: 42\n",
      " 0.011244 : 8 passes : Doc2Vec(dm/m,d100,n5,w10,mc2,t4) 9.8s 0.2s\n",
      "completed pass 8 at alpha 0.016600\n",
      "Warning: Maximum number of iterations has been exceeded.\n",
      "         Current function value: 0.079449\n",
      "         Iterations: 35\n",
      "         Function evaluations: 36\n",
      "         Gradient evaluations: 36\n",
      "*0.003514 : 9 passes : Doc2Vec(dm/c,d100,n5,w5,mc2,t4) 13.2s 0.2s\n",
      "Warning: Maximum number of iterations has been exceeded."
     ]
    },
    {
     "name": "stderr",
     "output_type": "stream",
     "text": [
      "/home/will/anaconda/lib/python2.7/site-packages/statsmodels/base/model.py:466: ConvergenceWarning: Maximum Likelihood optimization failed to converge. Check mle_retvals\n",
      "  \"Check mle_retvals\", ConvergenceWarning)\n",
      "/home/will/anaconda/lib/python2.7/site-packages/statsmodels/base/model.py:466: ConvergenceWarning: Maximum Likelihood optimization failed to converge. Check mle_retvals\n",
      "  \"Check mle_retvals\", ConvergenceWarning)\n"
     ]
    },
    {
     "name": "stdout",
     "output_type": "stream",
     "text": [
      "\n",
      "         Current function value: 0.029077\n",
      "         Iterations: 35\n",
      "         Function evaluations: 37\n",
      "         Gradient evaluations: 37\n",
      " 0.021785 : 9 passes : Doc2Vec(dbow,d100,n5,mc2,t4) 5.6s 0.3s\n",
      "Warning: Maximum number of iterations has been exceeded.\n",
      "         Current function value: 0.046610\n",
      "         Iterations: 35\n",
      "         Function evaluations: 42\n",
      "         Gradient evaluations: 42\n",
      " 0.012649 : 9 passes : Doc2Vec(dm/m,d100,n5,w10,mc2,t4) 8.4s 0.2s\n",
      "completed pass 9 at alpha 0.015400\n",
      "Warning: Maximum number of iterations has been exceeded."
     ]
    },
    {
     "name": "stderr",
     "output_type": "stream",
     "text": [
      "/home/will/anaconda/lib/python2.7/site-packages/statsmodels/base/model.py:466: ConvergenceWarning: Maximum Likelihood optimization failed to converge. Check mle_retvals\n",
      "  \"Check mle_retvals\", ConvergenceWarning)\n",
      "/home/will/anaconda/lib/python2.7/site-packages/statsmodels/base/model.py:466: ConvergenceWarning: Maximum Likelihood optimization failed to converge. Check mle_retvals\n",
      "  \"Check mle_retvals\", ConvergenceWarning)\n"
     ]
    },
    {
     "name": "stdout",
     "output_type": "stream",
     "text": [
      "\n",
      "         Current function value: 0.079087\n",
      "         Iterations: 35\n",
      "         Function evaluations: 36\n",
      "         Gradient evaluations: 36\n",
      "*0.003514 : 10 passes : Doc2Vec(dm/c,d100,n5,w5,mc2,t4) 13.5s 0.2s\n",
      "Warning: Maximum number of iterations has been exceeded.\n",
      "         Current function value: 0.079087\n",
      "         Iterations: 35\n",
      "         Function evaluations: 36\n",
      "         Gradient evaluations: 36\n",
      " 0.000000 : 10 passes : Doc2Vec(dm/c,d100,n5,w5,mc2,t4)_inferred 13.5s 0.7s\n",
      "Warning: Maximum number of iterations has been exceeded."
     ]
    },
    {
     "name": "stderr",
     "output_type": "stream",
     "text": [
      "/home/will/anaconda/lib/python2.7/site-packages/statsmodels/base/model.py:466: ConvergenceWarning: Maximum Likelihood optimization failed to converge. Check mle_retvals\n",
      "  \"Check mle_retvals\", ConvergenceWarning)\n",
      "/home/will/anaconda/lib/python2.7/site-packages/statsmodels/base/model.py:466: ConvergenceWarning: Maximum Likelihood optimization failed to converge. Check mle_retvals\n",
      "  \"Check mle_retvals\", ConvergenceWarning)\n"
     ]
    },
    {
     "name": "stdout",
     "output_type": "stream",
     "text": [
      "\n",
      "         Current function value: 0.028692\n",
      "         Iterations: 35\n",
      "         Function evaluations: 37\n",
      "         Gradient evaluations: 37\n",
      " 0.020379 : 10 passes : Doc2Vec(dbow,d100,n5,mc2,t4) 5.6s 0.3s\n",
      "Warning: Maximum number of iterations has been exceeded.\n",
      "         Current function value: 0.028692\n",
      "         Iterations: 35\n",
      "         Function evaluations: 37\n",
      "         Gradient evaluations: 37\n",
      " 0.014085 : 10 passes : Doc2Vec(dbow,d100,n5,mc2,t4)_inferred 5.6s 0.5s\n",
      "Warning: Maximum number of iterations has been exceeded."
     ]
    },
    {
     "name": "stderr",
     "output_type": "stream",
     "text": [
      "/home/will/anaconda/lib/python2.7/site-packages/statsmodels/base/model.py:466: ConvergenceWarning: Maximum Likelihood optimization failed to converge. Check mle_retvals\n",
      "  \"Check mle_retvals\", ConvergenceWarning)\n",
      "/home/will/anaconda/lib/python2.7/site-packages/statsmodels/base/model.py:466: ConvergenceWarning: Maximum Likelihood optimization failed to converge. Check mle_retvals\n",
      "  \"Check mle_retvals\", ConvergenceWarning)\n"
     ]
    },
    {
     "name": "stdout",
     "output_type": "stream",
     "text": [
      "\n",
      "         Current function value: 0.045625\n",
      "         Iterations: 35\n",
      "         Function evaluations: 41\n",
      "         Gradient evaluations: 41\n",
      " 0.013352 : 10 passes : Doc2Vec(dm/m,d100,n5,w10,mc2,t4) 8.4s 0.3s\n",
      "Warning: Maximum number of iterations has been exceeded.\n",
      "         Current function value: 0.045625\n",
      "         Iterations: 35\n",
      "         Function evaluations: 41\n",
      "         Gradient evaluations: 41\n",
      " 0.014085 : 10 passes : Doc2Vec(dm/m,d100,n5,w10,mc2,t4)_inferred 8.4s 0.7s\n",
      "completed pass 10 at alpha 0.014200\n",
      "Warning: Maximum number of iterations has been exceeded."
     ]
    },
    {
     "name": "stderr",
     "output_type": "stream",
     "text": [
      "/home/will/anaconda/lib/python2.7/site-packages/statsmodels/base/model.py:466: ConvergenceWarning: Maximum Likelihood optimization failed to converge. Check mle_retvals\n",
      "  \"Check mle_retvals\", ConvergenceWarning)\n",
      "/home/will/anaconda/lib/python2.7/site-packages/statsmodels/base/model.py:466: ConvergenceWarning: Maximum Likelihood optimization failed to converge. Check mle_retvals\n",
      "  \"Check mle_retvals\", ConvergenceWarning)\n"
     ]
    },
    {
     "name": "stdout",
     "output_type": "stream",
     "text": [
      "\n",
      "         Current function value: 0.078824\n",
      "         Iterations: 35\n",
      "         Function evaluations: 36\n",
      "         Gradient evaluations: 36\n",
      "*0.003514 : 11 passes : Doc2Vec(dm/c,d100,n5,w5,mc2,t4) 14.1s 0.2s\n",
      "Warning: Maximum number of iterations has been exceeded.\n",
      "         Current function value: 0.029090\n",
      "         Iterations: 35\n",
      "         Function evaluations: 37\n",
      "         Gradient evaluations: 37\n",
      " 0.023893 : 11 passes : Doc2Vec(dbow,d100,n5,mc2,t4) 5.6s 0.3s\n",
      "Warning: Maximum number of iterations has been exceeded."
     ]
    },
    {
     "name": "stderr",
     "output_type": "stream",
     "text": [
      "/home/will/anaconda/lib/python2.7/site-packages/statsmodels/base/model.py:466: ConvergenceWarning: Maximum Likelihood optimization failed to converge. Check mle_retvals\n",
      "  \"Check mle_retvals\", ConvergenceWarning)\n",
      "/home/will/anaconda/lib/python2.7/site-packages/statsmodels/base/model.py:466: ConvergenceWarning: Maximum Likelihood optimization failed to converge. Check mle_retvals\n",
      "  \"Check mle_retvals\", ConvergenceWarning)\n"
     ]
    },
    {
     "name": "stdout",
     "output_type": "stream",
     "text": [
      "\n",
      "         Current function value: 0.045584\n",
      "         Iterations: 35\n",
      "         Function evaluations: 41\n",
      "         Gradient evaluations: 41\n",
      " 0.014055 : 11 passes : Doc2Vec(dm/m,d100,n5,w10,mc2,t4) 8.3s 0.3s\n",
      "completed pass 11 at alpha 0.013000\n",
      "Warning: Maximum number of iterations has been exceeded.\n",
      "         Current function value: 0.078798\n",
      "         Iterations: 35\n",
      "         Function evaluations: 36\n",
      "         Gradient evaluations: 36\n",
      "*0.003514 : 12 passes : Doc2Vec(dm/c,d100,n5,w5,mc2,t4) 13.9s 0.3s\n",
      "Warning: Maximum number of iterations has been exceeded."
     ]
    },
    {
     "name": "stderr",
     "output_type": "stream",
     "text": [
      "/home/will/anaconda/lib/python2.7/site-packages/statsmodels/base/model.py:466: ConvergenceWarning: Maximum Likelihood optimization failed to converge. Check mle_retvals\n",
      "  \"Check mle_retvals\", ConvergenceWarning)\n",
      "/home/will/anaconda/lib/python2.7/site-packages/statsmodels/base/model.py:466: ConvergenceWarning: Maximum Likelihood optimization failed to converge. Check mle_retvals\n",
      "  \"Check mle_retvals\", ConvergenceWarning)\n"
     ]
    },
    {
     "name": "stdout",
     "output_type": "stream",
     "text": [
      "\n",
      "         Current function value: 0.028946\n",
      "         Iterations: 35\n",
      "         Function evaluations: 37\n",
      "         Gradient evaluations: 37\n",
      " 0.021785 : 12 passes : Doc2Vec(dbow,d100,n5,mc2,t4) 5.5s 0.3s\n",
      "Warning: Maximum number of iterations has been exceeded.\n",
      "         Current function value: 0.045357\n",
      "         Iterations: 35\n",
      "         Function evaluations: 41\n",
      "         Gradient evaluations: 41\n",
      " 0.011947 : 12 passes : Doc2Vec(dm/m,d100,n5,w10,mc2,t4) 8.2s 0.2s\n",
      "completed pass 12 at alpha 0.011800\n",
      "Warning: Maximum number of iterations has been exceeded."
     ]
    },
    {
     "name": "stderr",
     "output_type": "stream",
     "text": [
      "/home/will/anaconda/lib/python2.7/site-packages/statsmodels/base/model.py:466: ConvergenceWarning: Maximum Likelihood optimization failed to converge. Check mle_retvals\n",
      "  \"Check mle_retvals\", ConvergenceWarning)\n",
      "/home/will/anaconda/lib/python2.7/site-packages/statsmodels/base/model.py:466: ConvergenceWarning: Maximum Likelihood optimization failed to converge. Check mle_retvals\n",
      "  \"Check mle_retvals\", ConvergenceWarning)\n"
     ]
    },
    {
     "name": "stdout",
     "output_type": "stream",
     "text": [
      "\n",
      "         Current function value: 0.079508\n",
      "         Iterations: 35\n",
      "         Function evaluations: 36\n",
      "         Gradient evaluations: 36\n",
      "*0.003514 : 13 passes : Doc2Vec(dm/c,d100,n5,w5,mc2,t4) 13.9s 0.3s\n",
      "Warning: Maximum number of iterations has been exceeded.\n",
      "         Current function value: 0.027802\n",
      "         Iterations: 35\n",
      "         Function evaluations: 38\n",
      "         Gradient evaluations: 38\n",
      " 0.027407 : 13 passes : Doc2Vec(dbow,d100,n5,mc2,t4) 5.9s 0.3s\n",
      "Warning: Maximum number of iterations has been exceeded."
     ]
    },
    {
     "name": "stderr",
     "output_type": "stream",
     "text": [
      "/home/will/anaconda/lib/python2.7/site-packages/statsmodels/base/model.py:466: ConvergenceWarning: Maximum Likelihood optimization failed to converge. Check mle_retvals\n",
      "  \"Check mle_retvals\", ConvergenceWarning)\n",
      "/home/will/anaconda/lib/python2.7/site-packages/statsmodels/base/model.py:466: ConvergenceWarning: Maximum Likelihood optimization failed to converge. Check mle_retvals\n",
      "  \"Check mle_retvals\", ConvergenceWarning)\n"
     ]
    },
    {
     "name": "stdout",
     "output_type": "stream",
     "text": [
      "\n",
      "         Current function value: 0.044872\n",
      "         Iterations: 35\n",
      "         Function evaluations: 42\n",
      "         Gradient evaluations: 42\n",
      " 0.010541 : 13 passes : Doc2Vec(dm/m,d100,n5,w10,mc2,t4) 8.5s 0.3s\n",
      "completed pass 13 at alpha 0.010600\n",
      "Warning: Maximum number of iterations has been exceeded.\n",
      "         Current function value: 0.079436\n",
      "         Iterations: 35\n",
      "         Function evaluations: 36\n",
      "         Gradient evaluations: 36\n",
      "*0.003514 : 14 passes : Doc2Vec(dm/c,d100,n5,w5,mc2,t4) 13.4s 0.3s\n",
      "Warning: Maximum number of iterations has been exceeded."
     ]
    },
    {
     "name": "stderr",
     "output_type": "stream",
     "text": [
      "/home/will/anaconda/lib/python2.7/site-packages/statsmodels/base/model.py:466: ConvergenceWarning: Maximum Likelihood optimization failed to converge. Check mle_retvals\n",
      "  \"Check mle_retvals\", ConvergenceWarning)\n",
      "/home/will/anaconda/lib/python2.7/site-packages/statsmodels/base/model.py:466: ConvergenceWarning: Maximum Likelihood optimization failed to converge. Check mle_retvals\n",
      "  \"Check mle_retvals\", ConvergenceWarning)\n"
     ]
    },
    {
     "name": "stdout",
     "output_type": "stream",
     "text": [
      "\n",
      "         Current function value: 0.029386\n",
      "         Iterations: 35\n",
      "         Function evaluations: 38\n",
      "         Gradient evaluations: 38\n",
      " 0.023190 : 14 passes : Doc2Vec(dbow,d100,n5,mc2,t4) 5.5s 0.3s\n",
      "Warning: Maximum number of iterations has been exceeded.\n",
      "         Current function value: 0.044476\n",
      "         Iterations: 35\n",
      "         Function evaluations: 41\n",
      "         Gradient evaluations: 41\n",
      " 0.010541 : 14 passes : Doc2Vec(dm/m,d100,n5,w10,mc2,t4) 8.3s 0.2s\n",
      "completed pass 14 at alpha 0.009400\n",
      "Warning: Maximum number of iterations has been exceeded."
     ]
    },
    {
     "name": "stderr",
     "output_type": "stream",
     "text": [
      "/home/will/anaconda/lib/python2.7/site-packages/statsmodels/base/model.py:466: ConvergenceWarning: Maximum Likelihood optimization failed to converge. Check mle_retvals\n",
      "  \"Check mle_retvals\", ConvergenceWarning)\n",
      "/home/will/anaconda/lib/python2.7/site-packages/statsmodels/base/model.py:466: ConvergenceWarning: Maximum Likelihood optimization failed to converge. Check mle_retvals\n",
      "  \"Check mle_retvals\", ConvergenceWarning)\n"
     ]
    },
    {
     "name": "stdout",
     "output_type": "stream",
     "text": [
      "\n",
      "         Current function value: 0.079456\n",
      "         Iterations: 35\n",
      "         Function evaluations: 36\n",
      "         Gradient evaluations: 36\n",
      "*0.003514 : 15 passes : Doc2Vec(dm/c,d100,n5,w5,mc2,t4) 14.2s 0.2s\n",
      "Warning: Maximum number of iterations has been exceeded.\n",
      "         Current function value: 0.079456\n",
      "         Iterations: 35\n",
      "         Function evaluations: 36\n",
      "         Gradient evaluations: 36\n",
      " 0.007042 : 15 passes : Doc2Vec(dm/c,d100,n5,w5,mc2,t4)_inferred 14.2s 0.7s\n",
      "Warning: Maximum number of iterations has been exceeded."
     ]
    },
    {
     "name": "stderr",
     "output_type": "stream",
     "text": [
      "/home/will/anaconda/lib/python2.7/site-packages/statsmodels/base/model.py:466: ConvergenceWarning: Maximum Likelihood optimization failed to converge. Check mle_retvals\n",
      "  \"Check mle_retvals\", ConvergenceWarning)\n",
      "/home/will/anaconda/lib/python2.7/site-packages/statsmodels/base/model.py:466: ConvergenceWarning: Maximum Likelihood optimization failed to converge. Check mle_retvals\n",
      "  \"Check mle_retvals\", ConvergenceWarning)\n"
     ]
    },
    {
     "name": "stdout",
     "output_type": "stream",
     "text": [
      "\n",
      "         Current function value: 0.028678\n",
      "         Iterations: 35\n",
      "         Function evaluations: 38\n",
      "         Gradient evaluations: 38\n",
      " 0.021082 : 15 passes : Doc2Vec(dbow,d100,n5,mc2,t4) 5.5s 0.4s\n",
      "Warning: Maximum number of iterations has been exceeded.\n",
      "         Current function value: 0.028678\n",
      "         Iterations: 35\n",
      "         Function evaluations: 38\n",
      "         Gradient evaluations: 38\n",
      " 0.007042 : 15 passes : Doc2Vec(dbow,d100,n5,mc2,t4)_inferred 5.5s 0.6s\n",
      "Warning: Maximum number of iterations has been exceeded."
     ]
    },
    {
     "name": "stderr",
     "output_type": "stream",
     "text": [
      "/home/will/anaconda/lib/python2.7/site-packages/statsmodels/base/model.py:466: ConvergenceWarning: Maximum Likelihood optimization failed to converge. Check mle_retvals\n",
      "  \"Check mle_retvals\", ConvergenceWarning)\n",
      "/home/will/anaconda/lib/python2.7/site-packages/statsmodels/base/model.py:466: ConvergenceWarning: Maximum Likelihood optimization failed to converge. Check mle_retvals\n",
      "  \"Check mle_retvals\", ConvergenceWarning)\n"
     ]
    },
    {
     "name": "stdout",
     "output_type": "stream",
     "text": [
      "\n",
      "         Current function value: 0.043993\n",
      "         Iterations: 35\n",
      "         Function evaluations: 42\n",
      "         Gradient evaluations: 42\n",
      " 0.011244 : 15 passes : Doc2Vec(dm/m,d100,n5,w10,mc2,t4) 8.5s 0.3s\n",
      "Warning: Maximum number of iterations has been exceeded.\n",
      "         Current function value: 0.043993\n",
      "         Iterations: 35\n",
      "         Function evaluations: 42\n",
      "         Gradient evaluations: 42\n",
      " 0.007042 : 15 passes : Doc2Vec(dm/m,d100,n5,w10,mc2,t4)_inferred 8.5s 0.6s\n",
      "completed pass 15 at alpha 0.008200\n",
      "Warning: Maximum number of iterations has been exceeded."
     ]
    },
    {
     "name": "stderr",
     "output_type": "stream",
     "text": [
      "/home/will/anaconda/lib/python2.7/site-packages/statsmodels/base/model.py:466: ConvergenceWarning: Maximum Likelihood optimization failed to converge. Check mle_retvals\n",
      "  \"Check mle_retvals\", ConvergenceWarning)\n",
      "/home/will/anaconda/lib/python2.7/site-packages/statsmodels/base/model.py:466: ConvergenceWarning: Maximum Likelihood optimization failed to converge. Check mle_retvals\n",
      "  \"Check mle_retvals\", ConvergenceWarning)\n"
     ]
    },
    {
     "name": "stdout",
     "output_type": "stream",
     "text": [
      "\n",
      "         Current function value: 0.079197\n",
      "         Iterations: 35\n",
      "         Function evaluations: 36\n",
      "         Gradient evaluations: 36\n",
      "*0.003514 : 16 passes : Doc2Vec(dm/c,d100,n5,w5,mc2,t4) 14.0s 0.2s\n",
      "Warning: Maximum number of iterations has been exceeded.\n",
      "         Current function value: 0.027826\n",
      "         Iterations: 35\n",
      "         Function evaluations: 38\n",
      "         Gradient evaluations: 38\n",
      " 0.021082 : 16 passes : Doc2Vec(dbow,d100,n5,mc2,t4) 5.6s 0.3s\n",
      "Warning: Maximum number of iterations has been exceeded."
     ]
    },
    {
     "name": "stderr",
     "output_type": "stream",
     "text": [
      "/home/will/anaconda/lib/python2.7/site-packages/statsmodels/base/model.py:466: ConvergenceWarning: Maximum Likelihood optimization failed to converge. Check mle_retvals\n",
      "  \"Check mle_retvals\", ConvergenceWarning)\n",
      "/home/will/anaconda/lib/python2.7/site-packages/statsmodels/base/model.py:466: ConvergenceWarning: Maximum Likelihood optimization failed to converge. Check mle_retvals\n",
      "  \"Check mle_retvals\", ConvergenceWarning)\n"
     ]
    },
    {
     "name": "stdout",
     "output_type": "stream",
     "text": [
      "\n",
      "         Current function value: 0.044545\n",
      "         Iterations: 35\n",
      "         Function evaluations: 41\n",
      "         Gradient evaluations: 41\n",
      " 0.011244 : 16 passes : Doc2Vec(dm/m,d100,n5,w10,mc2,t4) 8.3s 0.3s\n",
      "completed pass 16 at alpha 0.007000\n",
      "Warning: Maximum number of iterations has been exceeded.\n",
      "         Current function value: 0.079372\n",
      "         Iterations: 35\n",
      "         Function evaluations: 36\n",
      "         Gradient evaluations: 36\n",
      "*0.003514 : 17 passes : Doc2Vec(dm/c,d100,n5,w5,mc2,t4) 13.8s 0.3s\n",
      "Warning: Maximum number of iterations has been exceeded."
     ]
    },
    {
     "name": "stderr",
     "output_type": "stream",
     "text": [
      "/home/will/anaconda/lib/python2.7/site-packages/statsmodels/base/model.py:466: ConvergenceWarning: Maximum Likelihood optimization failed to converge. Check mle_retvals\n",
      "  \"Check mle_retvals\", ConvergenceWarning)\n",
      "/home/will/anaconda/lib/python2.7/site-packages/statsmodels/base/model.py:466: ConvergenceWarning: Maximum Likelihood optimization failed to converge. Check mle_retvals\n",
      "  \"Check mle_retvals\", ConvergenceWarning)\n"
     ]
    },
    {
     "name": "stdout",
     "output_type": "stream",
     "text": [
      "\n",
      "         Current function value: 0.029555\n",
      "         Iterations: 35\n",
      "         Function evaluations: 38\n",
      "         Gradient evaluations: 38\n",
      " 0.020379 : 17 passes : Doc2Vec(dbow,d100,n5,mc2,t4) 5.6s 0.3s\n",
      "Warning: Maximum number of iterations has been exceeded.\n",
      "         Current function value: 0.044636\n",
      "         Iterations: 35\n",
      "         Function evaluations: 45\n",
      "         Gradient evaluations: 45\n",
      " 0.011244 : 17 passes : Doc2Vec(dm/m,d100,n5,w10,mc2,t4) 8.3s 0.3s\n",
      "completed pass 17 at alpha 0.005800\n",
      "Warning: Maximum number of iterations has been exceeded."
     ]
    },
    {
     "name": "stderr",
     "output_type": "stream",
     "text": [
      "/home/will/anaconda/lib/python2.7/site-packages/statsmodels/base/model.py:466: ConvergenceWarning: Maximum Likelihood optimization failed to converge. Check mle_retvals\n",
      "  \"Check mle_retvals\", ConvergenceWarning)\n",
      "/home/will/anaconda/lib/python2.7/site-packages/statsmodels/base/model.py:466: ConvergenceWarning: Maximum Likelihood optimization failed to converge. Check mle_retvals\n",
      "  \"Check mle_retvals\", ConvergenceWarning)\n"
     ]
    },
    {
     "name": "stdout",
     "output_type": "stream",
     "text": [
      "\n",
      "         Current function value: 0.079206\n",
      "         Iterations: 35\n",
      "         Function evaluations: 36\n",
      "         Gradient evaluations: 36\n",
      "*0.003514 : 18 passes : Doc2Vec(dm/c,d100,n5,w5,mc2,t4) 14.5s 0.2s\n",
      "Warning: Maximum number of iterations has been exceeded.\n",
      "         Current function value: 0.026905\n",
      "         Iterations: 35\n",
      "         Function evaluations: 39\n",
      "         Gradient evaluations: 39\n",
      " 0.028110 : 18 passes : Doc2Vec(dbow,d100,n5,mc2,t4) 5.6s 0.4s\n",
      "Warning: Maximum number of iterations has been exceeded."
     ]
    },
    {
     "name": "stderr",
     "output_type": "stream",
     "text": [
      "/home/will/anaconda/lib/python2.7/site-packages/statsmodels/base/model.py:466: ConvergenceWarning: Maximum Likelihood optimization failed to converge. Check mle_retvals\n",
      "  \"Check mle_retvals\", ConvergenceWarning)\n",
      "/home/will/anaconda/lib/python2.7/site-packages/statsmodels/base/model.py:466: ConvergenceWarning: Maximum Likelihood optimization failed to converge. Check mle_retvals\n",
      "  \"Check mle_retvals\", ConvergenceWarning)\n"
     ]
    },
    {
     "name": "stdout",
     "output_type": "stream",
     "text": [
      "\n",
      "         Current function value: 0.044542\n",
      "         Iterations: 35\n",
      "         Function evaluations: 41\n",
      "         Gradient evaluations: 41\n",
      " 0.011244 : 18 passes : Doc2Vec(dm/m,d100,n5,w10,mc2,t4) 8.3s 0.3s\n",
      "completed pass 18 at alpha 0.004600\n",
      "Warning: Maximum number of iterations has been exceeded.\n",
      "         Current function value: 0.079226\n",
      "         Iterations: 35\n",
      "         Function evaluations: 36\n",
      "         Gradient evaluations: 36\n",
      "*0.003514 : 19 passes : Doc2Vec(dm/c,d100,n5,w5,mc2,t4) 14.3s 0.3s\n",
      "Warning: Maximum number of iterations has been exceeded."
     ]
    },
    {
     "name": "stderr",
     "output_type": "stream",
     "text": [
      "/home/will/anaconda/lib/python2.7/site-packages/statsmodels/base/model.py:466: ConvergenceWarning: Maximum Likelihood optimization failed to converge. Check mle_retvals\n",
      "  \"Check mle_retvals\", ConvergenceWarning)\n",
      "/home/will/anaconda/lib/python2.7/site-packages/statsmodels/base/model.py:466: ConvergenceWarning: Maximum Likelihood optimization failed to converge. Check mle_retvals\n",
      "  \"Check mle_retvals\", ConvergenceWarning)\n"
     ]
    },
    {
     "name": "stdout",
     "output_type": "stream",
     "text": [
      "\n",
      "         Current function value: 0.027406\n",
      "         Iterations: 35\n",
      "         Function evaluations: 39\n",
      "         Gradient evaluations: 39\n",
      " 0.028110 : 19 passes : Doc2Vec(dbow,d100,n5,mc2,t4) 5.6s 0.2s\n",
      "Warning: Maximum number of iterations has been exceeded.\n",
      "         Current function value: 0.044980\n",
      "         Iterations: 35\n",
      "         Function evaluations: 41\n",
      "         Gradient evaluations: 41\n",
      " 0.011244 : 19 passes : Doc2Vec(dm/m,d100,n5,w10,mc2,t4) 8.1s 0.2s\n",
      "completed pass 19 at alpha 0.003400\n",
      "Warning: Maximum number of iterations has been exceeded."
     ]
    },
    {
     "name": "stderr",
     "output_type": "stream",
     "text": [
      "/home/will/anaconda/lib/python2.7/site-packages/statsmodels/base/model.py:466: ConvergenceWarning: Maximum Likelihood optimization failed to converge. Check mle_retvals\n",
      "  \"Check mle_retvals\", ConvergenceWarning)\n",
      "/home/will/anaconda/lib/python2.7/site-packages/statsmodels/base/model.py:466: ConvergenceWarning: Maximum Likelihood optimization failed to converge. Check mle_retvals\n",
      "  \"Check mle_retvals\", ConvergenceWarning)\n"
     ]
    },
    {
     "name": "stdout",
     "output_type": "stream",
     "text": [
      "\n",
      "         Current function value: 0.079212\n",
      "         Iterations: 35\n",
      "         Function evaluations: 36\n",
      "         Gradient evaluations: 36\n",
      "*0.003514 : 20 passes : Doc2Vec(dm/c,d100,n5,w5,mc2,t4) 14.0s 0.3s\n",
      "Warning: Maximum number of iterations has been exceeded.\n",
      "         Current function value: 0.079212\n",
      "         Iterations: 35\n",
      "         Function evaluations: 36\n",
      "         Gradient evaluations: 36\n",
      " 0.007042 : 20 passes : Doc2Vec(dm/c,d100,n5,w5,mc2,t4)_inferred 14.0s 0.7s\n",
      "Warning: Maximum number of iterations has been exceeded."
     ]
    },
    {
     "name": "stderr",
     "output_type": "stream",
     "text": [
      "/home/will/anaconda/lib/python2.7/site-packages/statsmodels/base/model.py:466: ConvergenceWarning: Maximum Likelihood optimization failed to converge. Check mle_retvals\n",
      "  \"Check mle_retvals\", ConvergenceWarning)\n",
      "/home/will/anaconda/lib/python2.7/site-packages/statsmodels/base/model.py:466: ConvergenceWarning: Maximum Likelihood optimization failed to converge. Check mle_retvals\n",
      "  \"Check mle_retvals\", ConvergenceWarning)\n"
     ]
    },
    {
     "name": "stdout",
     "output_type": "stream",
     "text": [
      "\n",
      "         Current function value: 0.027718\n",
      "         Iterations: 35\n",
      "         Function evaluations: 39\n",
      "         Gradient evaluations: 39\n",
      " 0.026704 : 20 passes : Doc2Vec(dbow,d100,n5,mc2,t4) 5.6s 0.2s\n",
      "Warning: Maximum number of iterations has been exceeded.\n",
      "         Current function value: 0.027718\n",
      "         Iterations: 35\n",
      "         Function evaluations: 39\n",
      "         Gradient evaluations: 39\n",
      " 0.014085 : 20 passes : Doc2Vec(dbow,d100,n5,mc2,t4)_inferred 5.6s 0.4s\n",
      "Warning: Maximum number of iterations has been exceeded."
     ]
    },
    {
     "name": "stderr",
     "output_type": "stream",
     "text": [
      "/home/will/anaconda/lib/python2.7/site-packages/statsmodels/base/model.py:466: ConvergenceWarning: Maximum Likelihood optimization failed to converge. Check mle_retvals\n",
      "  \"Check mle_retvals\", ConvergenceWarning)\n",
      "/home/will/anaconda/lib/python2.7/site-packages/statsmodels/base/model.py:466: ConvergenceWarning: Maximum Likelihood optimization failed to converge. Check mle_retvals\n",
      "  \"Check mle_retvals\", ConvergenceWarning)\n"
     ]
    },
    {
     "name": "stdout",
     "output_type": "stream",
     "text": [
      "\n",
      "         Current function value: 0.044947\n",
      "         Iterations: 35\n",
      "         Function evaluations: 41\n",
      "         Gradient evaluations: 41\n",
      " 0.010541 : 20 passes : Doc2Vec(dm/m,d100,n5,w10,mc2,t4) 8.1s 0.2s\n",
      "Warning: Maximum number of iterations has been exceeded.\n",
      "         Current function value: 0.044947\n",
      "         Iterations: 35\n",
      "         Function evaluations: 41\n",
      "         Gradient evaluations: 41\n",
      "*0.000000 : 20 passes : Doc2Vec(dm/m,d100,n5,w10,mc2,t4)_inferred 8.1s 0.7s\n",
      "completed pass 20 at alpha 0.002200\n",
      "END 2016-09-26 15:02:32.271577\n"
     ]
    },
    {
     "name": "stderr",
     "output_type": "stream",
     "text": [
      "/home/will/anaconda/lib/python2.7/site-packages/statsmodels/base/model.py:466: ConvergenceWarning: Maximum Likelihood optimization failed to converge. Check mle_retvals\n",
      "  \"Check mle_retvals\", ConvergenceWarning)\n"
     ]
    }
   ],
   "source": [
    "from random import shuffle\n",
    "import datetime\n",
    "\n",
    "alpha, min_alpha, passes = (0.025, 0.001, 20)\n",
    "alpha_delta = (alpha - min_alpha) / passes\n",
    "\n",
    "print(\"START %s\" % datetime.datetime.now())\n",
    "\n",
    "for epoch in range(passes):\n",
    "    shuffle(doc_list)  # shuffling gets best results\n",
    "    \n",
    "    for name, train_model in models_by_name.items():\n",
    "        # train\n",
    "        duration = 'na'\n",
    "        train_model.alpha, train_model.min_alpha = alpha, alpha\n",
    "        with elapsed_timer() as elapsed:\n",
    "            train_model.train(doc_list)\n",
    "            duration = '%.1f' % elapsed()\n",
    "            \n",
    "        # evaluate\n",
    "        eval_duration = ''\n",
    "        with elapsed_timer() as eval_elapsed:\n",
    "            err, err_count, test_count, predictor = error_rate_for_model(train_model, train_docs, test_docs)\n",
    "        eval_duration = '%.1f' % eval_elapsed()\n",
    "        best_indicator = ' '\n",
    "        if err <= best_error[name]:\n",
    "            best_error[name] = err\n",
    "            best_indicator = '*' \n",
    "        print(\"%s%f : %i passes : %s %ss %ss\" % (best_indicator, err, epoch + 1, name, duration, eval_duration))\n",
    "\n",
    "        if ((epoch + 1) % 5) == 0 or epoch == 0:\n",
    "            eval_duration = ''\n",
    "            with elapsed_timer() as eval_elapsed:\n",
    "                infer_err, err_count, test_count, predictor = error_rate_for_model(train_model, train_docs, test_docs, infer=True)\n",
    "            eval_duration = '%.1f' % eval_elapsed()\n",
    "            best_indicator = ' '\n",
    "            if infer_err < best_error[name + '_inferred']:\n",
    "                best_error[name + '_inferred'] = infer_err\n",
    "                best_indicator = '*'\n",
    "            print(\"%s%f : %i passes : %s %ss %ss\" % (best_indicator, infer_err, epoch + 1, name + '_inferred', duration, eval_duration))\n",
    "\n",
    "    print('completed pass %i at alpha %f' % (epoch + 1, alpha))\n",
    "    alpha -= alpha_delta\n",
    "    \n",
    "print(\"END %s\" % str(datetime.datetime.now()))"
   ]
  },
  {
   "cell_type": "markdown",
   "metadata": {},
   "source": [
    "## Achieved Sentiment-Prediction Accuracy"
   ]
  },
  {
   "cell_type": "code",
   "execution_count": 40,
   "metadata": {
    "collapsed": false
   },
   "outputs": [
    {
     "name": "stdout",
     "output_type": "stream",
     "text": [
      "0.000000 Doc2Vec(dm/c,d100,n5,w5,mc2,t4)_inferred\n",
      "0.000000 Doc2Vec(dm/m,d100,n5,w10,mc2,t4)_inferred\n",
      "0.003514 Doc2Vec(dm/c,d100,n5,w5,mc2,t4)\n",
      "0.004919 Doc2Vec(dm/m,d100,n5,w10,mc2,t4)\n",
      "0.007042 Doc2Vec(dbow,d100,n5,mc2,t4)_inferred\n",
      "0.016163 Doc2Vec(dbow,d100,n5,mc2,t4)\n"
     ]
    }
   ],
   "source": [
    "# print best error rates achieved\n",
    "for rate, name in sorted((rate, name) for name, rate in best_error.items()):\n",
    "    print(\"%f %s\" % (rate, name))"
   ]
  },
  {
   "cell_type": "markdown",
   "metadata": {},
   "source": [
    "In my testing, unlike the paper's report, DBOW performs best. Concatenating vectors from different models only offers a small predictive improvement. The best results I've seen are still just under 10% error rate, still a ways from the paper's 7.42%.\n"
   ]
  },
  {
   "cell_type": "markdown",
   "metadata": {},
   "source": [
    "## Examining Results"
   ]
  },
  {
   "cell_type": "markdown",
   "metadata": {},
   "source": [
    "### Are inferred vectors close to the precalculated ones?"
   ]
  },
  {
   "cell_type": "code",
   "execution_count": 13,
   "metadata": {
    "collapsed": false
   },
   "outputs": [
    {
     "name": "stdout",
     "output_type": "stream",
     "text": [
      "for doc 25430...\n",
      "Doc2Vec(dm/c,d100,n5,w5,mc2,t8):\n",
      " [(25430, 0.6583491563796997), (27314, 0.4142411947250366), (16479, 0.40846431255340576)]\n",
      "Doc2Vec(dbow,d100,n5,mc2,t8):\n",
      " [(25430, 0.9325973987579346), (49281, 0.5766637921333313), (79679, 0.5634804964065552)]\n",
      "Doc2Vec(dm/m,d100,n5,w10,mc2,t8):\n",
      " [(25430, 0.7970066666603088), (97818, 0.6925815343856812), (230, 0.690807580947876)]\n"
     ]
    }
   ],
   "source": [
    "doc_id = np.random.randint(simple_models[0].docvecs.count)  # pick random doc; re-run cell for more examples\n",
    "print('for doc %d...' % doc_id)\n",
    "for model in simple_models:\n",
    "    inferred_docvec = model.infer_vector(alldocs[doc_id].words)\n",
    "    print('%s:\\n %s' % (model, model.docvecs.most_similar([inferred_docvec], topn=3)))"
   ]
  },
  {
   "cell_type": "markdown",
   "metadata": {},
   "source": [
    "(Yes, here the stored vector from 20 epochs of training is usually one of the closest to a freshly-inferred vector for the same words. Note the defaults for inference are very abbreviated – just 3 steps starting at a high alpha – and likely need tuning for other applications.)"
   ]
  },
  {
   "cell_type": "markdown",
   "metadata": {},
   "source": [
    "### Do close documents seem more related than distant ones?"
   ]
  },
  {
   "cell_type": "code",
   "execution_count": 43,
   "metadata": {
    "collapsed": false
   },
   "outputs": [
    {
     "name": "stdout",
     "output_type": "stream",
     "text": [
      "TARGET (3071): «Hello, i'm a 20 y/o sexually active female, and my partner was recently run for an STD panel, and he was diagnosed with an outbreak of ureaplasma urealyticum, which i read to be a normal comensel of the vagina. i was also run for STDs 2months ago, and the report was clean.i don\\'t have any symptoms .should i get tested again? do i need treatment, as ureaplasma urealyticum is a normal commensal of the vagina, can it cause anything in me, when i have a fairly good immune system?»\n",
      "\n",
      "SIMILAR/DISSIMILAR DOCS PER MODEL Doc2Vec(dm/c,d100,n5,w5,mc2,t4):\n",
      "\n",
      "MOST (4240, 0.551862895488739): «hi i have had random very light bleeeding on and off for last to days. i am not due for period for two weeks. i am on no birthcontrol as ttc. i also have a 1year old»\n",
      "\n",
      "MEDIAN (4316, -0.009853601455688477): «hi there just wondering with fibroids and a uterus that is enlarged 3 times the size could make me feel like im going through perimenopause? i have awful backpain,warm body temperatures at night with sweating and syptoms during the day with feeling chilly, been to see gynae and gp my hormone level tests seem to be fine, also I have been developing awful headaches and feeling jittery.»\n",
      "\n",
      "LEAST (3431, -0.5581847429275513): «I recently lost my virginity and while I was having sex with my guy I climaxed about 4 times.. Is that normal? Did I had multiple orgasms?.. Help!»\n",
      "\n"
     ]
    }
   ],
   "source": [
    "import random\n",
    "\n",
    "doc_id = np.random.randint(simple_models[0].docvecs.count)  # pick random doc, re-run cell for more examples\n",
    "model = random.choice(simple_models)  # and a random model\n",
    "sims = model.docvecs.most_similar(doc_id, topn=model.docvecs.count)  # get *all* similar documents\n",
    "print(u'TARGET (%d): «%s»\\n' % (doc_id, ' '.join(alldocs[doc_id].words)))\n",
    "print(u'SIMILAR/DISSIMILAR DOCS PER MODEL %s:\\n' % model)\n",
    "for label, index in [('MOST', 0), ('MEDIAN', len(sims)//2), ('LEAST', len(sims) - 1)]:\n",
    "    print(u'%s %s: «%s»\\n' % (label, sims[index], ' '.join(alldocs[sims[index][0]].words)))\n"
   ]
  },
  {
   "cell_type": "markdown",
   "metadata": {},
   "source": [
    "(Somewhat, in terms of reviewer tone, movie genre, etc... the MOST cosine-similar docs usually seem more like the TARGET than the MEDIAN or LEAST.)"
   ]
  },
  {
   "cell_type": "markdown",
   "metadata": {},
   "source": [
    "### Do the word vectors show useful similarities?"
   ]
  },
  {
   "cell_type": "code",
   "execution_count": 44,
   "metadata": {
    "collapsed": false
   },
   "outputs": [],
   "source": [
    "word_models = simple_models[:]"
   ]
  },
  {
   "cell_type": "code",
   "execution_count": 51,
   "metadata": {
    "collapsed": false
   },
   "outputs": [
    {
     "name": "stdout",
     "output_type": "stream",
     "text": [
      "most similar words for 'turned' (102 occurences)\n"
     ]
    },
    {
     "data": {
      "text/html": [
       "<table><tr><th>Doc2Vec(dm/c,d100,n5,w5,mc2,t4)</th><th>Doc2Vec(dbow,d100,n5,mc2,t4)</th><th>Doc2Vec(dm/m,d100,n5,w10,mc2,t4)</th></tr><tr><td>[(u'moved', 0.44929295778274536),<br>\n",
       "(u'shows', 0.4469910264015198),<br>\n",
       "(u'gone', 0.4420161843299866),<br>\n",
       "(u'poor', 0.4380697011947632),<br>\n",
       "(u'returned', 0.43781766295433044),<br>\n",
       "(u'stays', 0.4321470856666565),<br>\n",
       "(u'turns', 0.43158257007598877),<br>\n",
       "(u'gotten', 0.4310656785964966),<br>\n",
       "(u'tasted', 0.43086183071136475),<br>\n",
       "(u'yest', 0.428362637758255),<br>\n",
       "(u'depends', 0.42474836111068726),<br>\n",
       "(u\"didn't.\", 0.4231417179107666),<br>\n",
       "(u'intend', 0.42213356494903564),<br>\n",
       "(u'adds', 0.4152626097202301),<br>\n",
       "(u'got', 0.4135403633117676),<br>\n",
       "(u'grew', 0.408092200756073),<br>\n",
       "(u'spreads', 0.4066140651702881),<br>\n",
       "(u'was', 0.40580853819847107),<br>\n",
       "(u'(enough', 0.4030357599258423),<br>\n",
       "(u'hurted', 0.4008103311061859)]</td><td>[(u'fluttering', 0.36668860912323),<br>\n",
       "(u'tongue,', 0.3573368191719055),<br>\n",
       "(u'inside.', 0.3471986651420593),<br>\n",
       "(u'bruise', 0.34093177318573),<br>\n",
       "(u'horrible', 0.33784306049346924),<br>\n",
       "(u'this?', 0.3312210440635681),<br>\n",
       "(u'thin.', 0.3285936713218689),<br>\n",
       "(u'pelvic', 0.3244484066963196),<br>\n",
       "(u'partener', 0.3230714201927185),<br>\n",
       "(u'distinct', 0.31963855028152466),<br>\n",
       "(u'Hoping', 0.3180590569972992),<br>\n",
       "(u'bloodshot', 0.3178950846195221),<br>\n",
       "(u'attempted', 0.3154103755950928),<br>\n",
       "(u'orgasam.', 0.31210803985595703),<br>\n",
       "(u'experiencing:', 0.30775538086891174),<br>\n",
       "(u'city', 0.3042522072792053),<br>\n",
       "(u'shower?', 0.30192750692367554),<br>\n",
       "(u'noticeable.', 0.3007444143295288),<br>\n",
       "(u'suspects', 0.29737356305122375),<br>\n",
       "(u'food', 0.29411038756370544)]</td><td>[(u'came', 0.43062785267829895),<br>\n",
       "(u'turns', 0.40876054763793945),<br>\n",
       "(u'stayed', 0.40178734064102173),<br>\n",
       "(u'reached', 0.40010756254196167),<br>\n",
       "(u'comes', 0.3972766101360321),<br>\n",
       "(u'grows', 0.3926957845687866),<br>\n",
       "(u'got', 0.38521766662597656),<br>\n",
       "(u'ended', 0.3720528483390808),<br>\n",
       "(u'settles', 0.3671431541442871),<br>\n",
       "(u'appeared', 0.3639615774154663),<br>\n",
       "(u'rolls', 0.36344873905181885),<br>\n",
       "(u'fell', 0.3612420856952667),<br>\n",
       "(u'armpit,', 0.3517459034919739),<br>\n",
       "(u'seemed', 0.349328875541687),<br>\n",
       "(u'was', 0.34488916397094727),<br>\n",
       "(u'act', 0.34478825330734253),<br>\n",
       "(u'inside).', 0.3439972400665283),<br>\n",
       "(u'labia,', 0.3416295349597931),<br>\n",
       "(u'erosive', 0.34070563316345215),<br>\n",
       "(u'seems', 0.3406856060028076)]</td></tr></table>"
      ],
      "text/plain": [
       "<IPython.core.display.HTML object>"
      ]
     },
     "execution_count": 51,
     "metadata": {},
     "output_type": "execute_result"
    }
   ],
   "source": [
    "import random\n",
    "from IPython.display import HTML\n",
    "# pick a random word with a suitable number of occurences\n",
    "while True:\n",
    "    word = random.choice(word_models[0].index2word)\n",
    "    if word_models[0].vocab[word].count > 10:\n",
    "        break\n",
    "# or uncomment below line, to just pick a word from the relevant domain:\n",
    "#word = 'comedy/drama'\n",
    "similars_per_model = [str(model.most_similar(word, topn=20)).replace('), ','),<br>\\n') for model in word_models]\n",
    "similar_table = (\"<table><tr><th>\" +\n",
    "    \"</th><th>\".join([str(model) for model in word_models]) + \n",
    "    \"</th></tr><tr><td>\" +\n",
    "    \"</td><td>\".join(similars_per_model) +\n",
    "    \"</td></tr></table>\")\n",
    "print(\"most similar words for '%s' (%d occurences)\" % (word, simple_models[0].vocab[word].count))\n",
    "HTML(similar_table)"
   ]
  },
  {
   "cell_type": "markdown",
   "metadata": {},
   "source": [
    "Do the DBOW words look meaningless? That's because the gensim DBOW model doesn't train word vectors – they remain at their random initialized values – unless you ask with the `dbow_words=1` initialization parameter. Concurrent word-training slows DBOW mode significantly, and offers little improvement (and sometimes a little worsening) of the error rate on this IMDB sentiment-prediction task. \n",
    "\n",
    "Words from DM models tend to show meaningfully similar words when there are many examples in the training data (as with 'plot' or 'actor'). (All DM modes inherently involve word vector training concurrent with doc vector training.)"
   ]
  },
  {
   "cell_type": "markdown",
   "metadata": {},
   "source": [
    "### Are the word vectors from this dataset any good at analogies?"
   ]
  },
  {
   "cell_type": "code",
   "execution_count": 52,
   "metadata": {
    "collapsed": false
   },
   "outputs": [
    {
     "ename": "IOError",
     "evalue": "[Errno 2] No such file or directory: 'questions-words.txt'",
     "output_type": "error",
     "traceback": [
      "\u001b[1;31m---------------------------------------------------------------------------\u001b[0m",
      "\u001b[1;31mIOError\u001b[0m                                   Traceback (most recent call last)",
      "\u001b[1;32m<ipython-input-52-20b2c2b965f0>\u001b[0m in \u001b[0;36m<module>\u001b[1;34m()\u001b[0m\n\u001b[0;32m      4\u001b[0m \u001b[1;31m# note: this takes many minutes\u001b[0m\u001b[1;33m\u001b[0m\u001b[1;33m\u001b[0m\u001b[0m\n\u001b[0;32m      5\u001b[0m \u001b[1;32mfor\u001b[0m \u001b[0mmodel\u001b[0m \u001b[1;32min\u001b[0m \u001b[0mword_models\u001b[0m\u001b[1;33m:\u001b[0m\u001b[1;33m\u001b[0m\u001b[0m\n\u001b[1;32m----> 6\u001b[1;33m     \u001b[0msections\u001b[0m \u001b[1;33m=\u001b[0m \u001b[0mmodel\u001b[0m\u001b[1;33m.\u001b[0m\u001b[0maccuracy\u001b[0m\u001b[1;33m(\u001b[0m\u001b[1;34m'questions-words.txt'\u001b[0m\u001b[1;33m)\u001b[0m\u001b[1;33m\u001b[0m\u001b[0m\n\u001b[0m\u001b[0;32m      7\u001b[0m     \u001b[0mcorrect\u001b[0m\u001b[1;33m,\u001b[0m \u001b[0mincorrect\u001b[0m \u001b[1;33m=\u001b[0m \u001b[0mlen\u001b[0m\u001b[1;33m(\u001b[0m\u001b[0msections\u001b[0m\u001b[1;33m[\u001b[0m\u001b[1;33m-\u001b[0m\u001b[1;36m1\u001b[0m\u001b[1;33m]\u001b[0m\u001b[1;33m[\u001b[0m\u001b[1;34m'correct'\u001b[0m\u001b[1;33m]\u001b[0m\u001b[1;33m)\u001b[0m\u001b[1;33m,\u001b[0m \u001b[0mlen\u001b[0m\u001b[1;33m(\u001b[0m\u001b[0msections\u001b[0m\u001b[1;33m[\u001b[0m\u001b[1;33m-\u001b[0m\u001b[1;36m1\u001b[0m\u001b[1;33m]\u001b[0m\u001b[1;33m[\u001b[0m\u001b[1;34m'incorrect'\u001b[0m\u001b[1;33m]\u001b[0m\u001b[1;33m)\u001b[0m\u001b[1;33m\u001b[0m\u001b[0m\n\u001b[0;32m      8\u001b[0m     \u001b[1;32mprint\u001b[0m\u001b[1;33m(\u001b[0m\u001b[1;34m'%s: %0.2f%% correct (%d of %d)'\u001b[0m \u001b[1;33m%\u001b[0m \u001b[1;33m(\u001b[0m\u001b[0mmodel\u001b[0m\u001b[1;33m,\u001b[0m \u001b[0mfloat\u001b[0m\u001b[1;33m(\u001b[0m\u001b[0mcorrect\u001b[0m\u001b[1;33m*\u001b[0m\u001b[1;36m100\u001b[0m\u001b[1;33m)\u001b[0m\u001b[1;33m/\u001b[0m\u001b[1;33m(\u001b[0m\u001b[0mcorrect\u001b[0m\u001b[1;33m+\u001b[0m\u001b[0mincorrect\u001b[0m\u001b[1;33m)\u001b[0m\u001b[1;33m,\u001b[0m \u001b[0mcorrect\u001b[0m\u001b[1;33m,\u001b[0m \u001b[0mcorrect\u001b[0m\u001b[1;33m+\u001b[0m\u001b[0mincorrect\u001b[0m\u001b[1;33m)\u001b[0m\u001b[1;33m)\u001b[0m\u001b[1;33m\u001b[0m\u001b[0m\n",
      "\u001b[1;32m/home/will/anaconda/lib/python2.7/site-packages/gensim/models/word2vec.py\u001b[0m in \u001b[0;36maccuracy\u001b[1;34m(self, questions, restrict_vocab, most_similar)\u001b[0m\n\u001b[0;32m   1423\u001b[0m \u001b[1;33m\u001b[0m\u001b[0m\n\u001b[0;32m   1424\u001b[0m         \u001b[0msections\u001b[0m\u001b[1;33m,\u001b[0m \u001b[0msection\u001b[0m \u001b[1;33m=\u001b[0m \u001b[1;33m[\u001b[0m\u001b[1;33m]\u001b[0m\u001b[1;33m,\u001b[0m \u001b[0mNone\u001b[0m\u001b[1;33m\u001b[0m\u001b[0m\n\u001b[1;32m-> 1425\u001b[1;33m         \u001b[1;32mfor\u001b[0m \u001b[0mline_no\u001b[0m\u001b[1;33m,\u001b[0m \u001b[0mline\u001b[0m \u001b[1;32min\u001b[0m \u001b[0menumerate\u001b[0m\u001b[1;33m(\u001b[0m\u001b[0mutils\u001b[0m\u001b[1;33m.\u001b[0m\u001b[0msmart_open\u001b[0m\u001b[1;33m(\u001b[0m\u001b[0mquestions\u001b[0m\u001b[1;33m)\u001b[0m\u001b[1;33m)\u001b[0m\u001b[1;33m:\u001b[0m\u001b[1;33m\u001b[0m\u001b[0m\n\u001b[0m\u001b[0;32m   1426\u001b[0m             \u001b[1;31m# TODO: use level3 BLAS (=evaluate multiple questions at once), for speed\u001b[0m\u001b[1;33m\u001b[0m\u001b[1;33m\u001b[0m\u001b[0m\n\u001b[0;32m   1427\u001b[0m             \u001b[0mline\u001b[0m \u001b[1;33m=\u001b[0m \u001b[0mutils\u001b[0m\u001b[1;33m.\u001b[0m\u001b[0mto_unicode\u001b[0m\u001b[1;33m(\u001b[0m\u001b[0mline\u001b[0m\u001b[1;33m)\u001b[0m\u001b[1;33m\u001b[0m\u001b[0m\n",
      "\u001b[1;32m/home/will/anaconda/lib/python2.7/site-packages/smart_open/smart_open_lib.pyc\u001b[0m in \u001b[0;36msmart_open\u001b[1;34m(uri, mode, **kw)\u001b[0m\n\u001b[0;32m    125\u001b[0m             \u001b[1;31m# local files -- both read & write supported\u001b[0m\u001b[1;33m\u001b[0m\u001b[1;33m\u001b[0m\u001b[0m\n\u001b[0;32m    126\u001b[0m             \u001b[1;31m# compression, if any, is determined by the filename extension (.gz, .bz2)\u001b[0m\u001b[1;33m\u001b[0m\u001b[1;33m\u001b[0m\u001b[0m\n\u001b[1;32m--> 127\u001b[1;33m             \u001b[1;32mreturn\u001b[0m \u001b[0mfile_smart_open\u001b[0m\u001b[1;33m(\u001b[0m\u001b[0mparsed_uri\u001b[0m\u001b[1;33m.\u001b[0m\u001b[0muri_path\u001b[0m\u001b[1;33m,\u001b[0m \u001b[0mmode\u001b[0m\u001b[1;33m)\u001b[0m\u001b[1;33m\u001b[0m\u001b[0m\n\u001b[0m\u001b[0;32m    128\u001b[0m         \u001b[1;32melif\u001b[0m \u001b[0mparsed_uri\u001b[0m\u001b[1;33m.\u001b[0m\u001b[0mscheme\u001b[0m \u001b[1;32min\u001b[0m \u001b[1;33m(\u001b[0m\u001b[1;34m\"s3\"\u001b[0m\u001b[1;33m,\u001b[0m \u001b[1;34m\"s3n\"\u001b[0m\u001b[1;33m)\u001b[0m\u001b[1;33m:\u001b[0m\u001b[1;33m\u001b[0m\u001b[0m\n\u001b[0;32m    129\u001b[0m             \u001b[1;31m# Get an S3 host. It is required for sigv4 operations.\u001b[0m\u001b[1;33m\u001b[0m\u001b[1;33m\u001b[0m\u001b[0m\n",
      "\u001b[1;32m/home/will/anaconda/lib/python2.7/site-packages/smart_open/smart_open_lib.pyc\u001b[0m in \u001b[0;36mfile_smart_open\u001b[1;34m(fname, mode)\u001b[0m\n\u001b[0;32m    556\u001b[0m         \u001b[1;32mreturn\u001b[0m \u001b[0mmake_closing\u001b[0m\u001b[1;33m(\u001b[0m\u001b[0mGzipFile\u001b[0m\u001b[1;33m)\u001b[0m\u001b[1;33m(\u001b[0m\u001b[0mfname\u001b[0m\u001b[1;33m,\u001b[0m \u001b[0mmode\u001b[0m\u001b[1;33m)\u001b[0m\u001b[1;33m\u001b[0m\u001b[0m\n\u001b[0;32m    557\u001b[0m \u001b[1;33m\u001b[0m\u001b[0m\n\u001b[1;32m--> 558\u001b[1;33m     \u001b[1;32mreturn\u001b[0m \u001b[0mopen\u001b[0m\u001b[1;33m(\u001b[0m\u001b[0mfname\u001b[0m\u001b[1;33m,\u001b[0m \u001b[0mmode\u001b[0m\u001b[1;33m)\u001b[0m\u001b[1;33m\u001b[0m\u001b[0m\n\u001b[0m\u001b[0;32m    559\u001b[0m \u001b[1;33m\u001b[0m\u001b[0m\n\u001b[0;32m    560\u001b[0m \u001b[1;33m\u001b[0m\u001b[0m\n",
      "\u001b[1;31mIOError\u001b[0m: [Errno 2] No such file or directory: 'questions-words.txt'"
     ]
    }
   ],
   "source": [
    "# assuming something like\n",
    "# https://word2vec.googlecode.com/svn/trunk/questions-words.txt \n",
    "# is in local directory\n",
    "# note: this takes many minutes\n",
    "for model in word_models:\n",
    "    sections = model.accuracy('questions-words.txt')\n",
    "    correct, incorrect = len(sections[-1]['correct']), len(sections[-1]['incorrect'])\n",
    "    print('%s: %0.2f%% correct (%d of %d)' % (model, float(correct*100)/(correct+incorrect), correct, correct+incorrect))"
   ]
  },
  {
   "cell_type": "markdown",
   "metadata": {},
   "source": [
    "Even though this is a tiny, domain-specific dataset, it shows some meager capability on the general word analogies – at least for the DM/concat and DM/mean models which actually train word vectors. (The untrained random-initialized words of the DBOW model of course fail miserably.)"
   ]
  },
  {
   "cell_type": "markdown",
   "metadata": {},
   "source": [
    "## Slop"
   ]
  },
  {
   "cell_type": "code",
   "execution_count": null,
   "metadata": {
    "collapsed": false
   },
   "outputs": [],
   "source": [
    "This cell left intentionally erroneous. "
   ]
  },
  {
   "cell_type": "markdown",
   "metadata": {},
   "source": [
    "To mix the Google dataset (if locally available) into the word tests..."
   ]
  },
  {
   "cell_type": "code",
   "execution_count": null,
   "metadata": {
    "collapsed": false
   },
   "outputs": [],
   "source": [
    "from gensim.models import Word2Vec\n",
    "w2v_g100b = Word2Vec.load_word2vec_format('GoogleNews-vectors-negative300.bin.gz', binary=True)\n",
    "w2v_g100b.compact_name = 'w2v_g100b'\n",
    "word_models.append(w2v_g100b)"
   ]
  },
  {
   "cell_type": "markdown",
   "metadata": {},
   "source": [
    "To get copious logging output from above steps..."
   ]
  },
  {
   "cell_type": "code",
   "execution_count": null,
   "metadata": {
    "collapsed": false
   },
   "outputs": [],
   "source": [
    "import logging\n",
    "logging.basicConfig(format='%(asctime)s : %(levelname)s : %(message)s', level=logging.INFO)\n",
    "rootLogger = logging.getLogger()\n",
    "rootLogger.setLevel(logging.INFO)"
   ]
  },
  {
   "cell_type": "markdown",
   "metadata": {},
   "source": [
    "To auto-reload python code while developing..."
   ]
  },
  {
   "cell_type": "code",
   "execution_count": null,
   "metadata": {
    "collapsed": false
   },
   "outputs": [],
   "source": [
    "%load_ext autoreload\n",
    "%autoreload 2"
   ]
  }
 ],
 "metadata": {
  "kernelspec": {
   "display_name": "Python 2",
   "language": "python",
   "name": "python2"
  },
  "language_info": {
   "codemirror_mode": {
    "name": "ipython",
    "version": 2
   },
   "file_extension": ".py",
   "mimetype": "text/x-python",
   "name": "python",
   "nbconvert_exporter": "python",
   "pygments_lexer": "ipython2",
   "version": "2.7.12"
  }
 },
 "nbformat": 4,
 "nbformat_minor": 0
}
