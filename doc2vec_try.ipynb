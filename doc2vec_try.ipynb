{
 "cells": [
  {
   "cell_type": "markdown",
   "metadata": {},
   "source": [
    "# gensim doc2vec & IMDB sentiment dataset"
   ]
  },
  {
   "cell_type": "markdown",
   "metadata": {},
   "source": [
    "TODO: section on introduction & motivation\n",
    "\n",
    "TODO: prerequisites + dependencies (statsmodels, patsy, ?)"
   ]
  },
  {
   "cell_type": "markdown",
   "metadata": {},
   "source": [
    "## Load corpus"
   ]
  },
  {
   "cell_type": "markdown",
   "metadata": {},
   "source": [
    "Fetch and prep exactly as in Mikolov's go.sh shell script. (Note this cell tests for existence of required files, so steps won't repeat once the final summary file (`aclImdb/alldata-id.txt`) is available alongside this notebook.)"
   ]
  },
  {
   "cell_type": "code",
   "execution_count": 1,
   "metadata": {
    "collapsed": false
   },
   "outputs": [],
   "source": [
    "import pandas as pd\n",
    "import cloudpickle\n",
    "import numpy as np"
   ]
  },
  {
   "cell_type": "code",
   "execution_count": 18,
   "metadata": {
    "collapsed": false
   },
   "outputs": [],
   "source": [
    "df = cloudpickle.load(open(\"pickles/cleaned_forum_data.pkl\", \"rb\" ) )\n",
    "\n",
    "totest=20000\n",
    "\n",
    "asktxt = df['askertxt'].as_matrix()[:totest]\n",
    "doctxt = df['doctortxt'].as_matrix()[:totest]\n",
    "\n",
    "diag = cloudpickle.load(open(\"pickles/doctortext_labels.pkl\", \"rb\" ) )[:totest,:]\n",
    "y=np.asarray(diag.todense()).squeeze()\n",
    "y=y[:,y.sum(axis=0)>200]"
   ]
  },
  {
   "cell_type": "code",
   "execution_count": 19,
   "metadata": {
    "collapsed": false
   },
   "outputs": [
    {
     "data": {
      "text/plain": [
       "(20000, 15)"
      ]
     },
     "execution_count": 19,
     "metadata": {},
     "output_type": "execute_result"
    }
   ],
   "source": [
    "y.shape"
   ]
  },
  {
   "cell_type": "code",
   "execution_count": 20,
   "metadata": {
    "collapsed": false
   },
   "outputs": [],
   "source": [
    "## import gensim, string\n",
    "from gensim.models.doc2vec import LabeledSentence\n",
    "from collections import namedtuple\n",
    "import string\n",
    "\n",
    "alldocs = []  # will hold all docs in original order\n",
    "alltxts = []\n",
    "for line_no, line in enumerate(asktxt):\n",
    "#     words = my_normalize_nostem(line)\n",
    "    words = line.lower().translate(string.maketrans(string.punctuation, ' '*len(string.punctuation))).split()\n",
    "    tags = [line_no] # `tags = [tokens[0]]` would also work at extra memory cost\n",
    "    alldocs.append(LabeledSentence(words, tags))\n",
    "    alltxts.append(words)\n",
    "    \n",
    "# for line_no, line in enumerate(doctxt):\n",
    "# #     words = my_normalize_nostem(line)\n",
    "#     words = line.lower().translate(string.maketrans(string.punctuation, ' '*len(string.punctuation))).split()\n",
    "#     tags = [len(asktxt)+line_no] # `tags = [tokens[0]]` would also work at extra memory cost\n",
    "#     alldocs.append(LabeledSentence(words, tags))\n",
    "\n",
    "txt_list = np.array(alltxts)\n",
    "doc_list = alldocs[:]  # for reshuffling per pass"
   ]
  },
  {
   "cell_type": "markdown",
   "metadata": {},
   "source": [
    "## Set-up Doc2Vec Training & Evaluation Models"
   ]
  },
  {
   "cell_type": "markdown",
   "metadata": {},
   "source": [
    "Approximating experiment of Le & Mikolov [\"Distributed Representations of Sentences and Documents\"](http://cs.stanford.edu/~quocle/paragraph_vector.pdf), also with guidance from Mikolov's [example go.sh](https://groups.google.com/d/msg/word2vec-toolkit/Q49FIrNOQRo/J6KG8mUj45sJ):\n",
    "\n",
    "`./word2vec -train ../alldata-id.txt -output vectors.txt -cbow 0 -size 100 -window 10 -negative 5 -hs 0 -sample 1e-4 -threads 40 -binary 0 -iter 20 -min-count 1 -sentence-vectors 1`\n",
    "\n",
    "Parameter choices below vary:\n",
    "\n",
    "* 100-dimensional vectors, as the 400d vectors of the paper don't seem to offer much benefit on this task\n",
    "* similarly, frequent word subsampling seems to decrease sentiment-prediction accuracy, so it's left out\n",
    "* `cbow=0` means skip-gram which is equivalent to the paper's 'PV-DBOW' mode, matched in gensim with `dm=0`\n",
    "* added to that DBOW model are two DM models, one which averages context vectors (`dm_mean`) and one which concatenates them (`dm_concat`, resulting in a much larger, slower, more data-hungry model)\n",
    "* a `min_count=2` saves quite a bit of model memory, discarding only words that appear in a single doc (and are thus no more expressive than the unique-to-each doc vectors themselves)"
   ]
  },
  {
   "cell_type": "code",
   "execution_count": 21,
   "metadata": {
    "collapsed": false
   },
   "outputs": [
    {
     "name": "stdout",
     "output_type": "stream",
     "text": [
      "d2v-cbow\n",
      "d2v-sg-mean-100\n",
      "Training vectorizer d2v-cbow\n",
      "CPU times: user 55.5 s, sys: 2.16 s, total: 57.7 s\n",
      "Wall time: 26.3 s\n",
      "Training vectorizer d2v-sg-mean-100\n",
      "CPU times: user 1min 40s, sys: 3.49 s, total: 1min 44s\n",
      "Wall time: 46.9 s\n",
      "Training vectorizer tfidf\n",
      "CPU times: user 3.67 s, sys: 92 ms, total: 3.76 s\n",
      "Wall time: 6.07 s\n"
     ]
    }
   ],
   "source": [
    "from gensim.models import Doc2Vec\n",
    "import gensim.models.doc2vec\n",
    "from collections import OrderedDict\n",
    "import multiprocessing\n",
    "\n",
    "cores = multiprocessing.cpu_count()\n",
    "assert gensim.models.doc2vec.FAST_VERSION > -1, \"this will be painfully slow otherwise\"\n",
    "\n",
    "from sklearn.feature_extraction.text import TfidfVectorizer\n",
    "from sklearn.feature_extraction.text import CountVectorizer\n",
    "\n",
    "\n",
    "d2v_vectorizers = [\n",
    "    # PV-DM w/concatenation - window=5 (both sides) approximates paper's 10-word total window size\n",
    "#     ('d2v-sg-concat-100', Doc2Vec(dm=1, dm_concat=1, size=100, window=5, negative=5, hs=0, min_count=2, workers=cores)),\n",
    "    # PV-DM w/concatenation - window=5 (both sides) approximates paper's 10-word total window size\n",
    "#     ('d2v-sg-concat-200', Doc2Vec(dm=1, dm_concat=1, size=200, window=5, negative=5, hs=0, min_count=2, workers=cores)),\n",
    "    # PV-DBOW \n",
    "    ('d2v-cbow', Doc2Vec(dm=0, size=100, negative=5, hs=0, min_count=2, workers=cores)),\n",
    "    # PV-DM w/average\n",
    "    ('d2v-sg-mean-100', Doc2Vec(dm=1, dm_mean=1, size=100, window=10, negative=5, hs=0, min_count=2, workers=cores)),\n",
    "    # PV-DM w/average\n",
    "#     ('d2v-sg-mean-200', Doc2Vec(dm=1, dm_mean=1, size=200, window=10, negative=5, hs=0, min_count=2, workers=cores)),\n",
    "]\n",
    "\n",
    "# speed setup by sharing results of 1st model's vocabulary scan\n",
    "d2v_vectorizers[0][1].build_vocab(alldocs)  # PV-DM/concat requires one special NULL word so it serves as template\n",
    "print(d2v_vectorizers[0][0])\n",
    "for name,vec in d2v_vectorizers[1:]:\n",
    "    vec.reset_from(d2v_vectorizers[0][1])\n",
    "    print(name)\n",
    "\n",
    "vec_represent = {}\n",
    "    \n",
    "for name,vec in d2v_vectorizers:\n",
    "    print('Training vectorizer %s' % name)\n",
    "\n",
    "    # train\n",
    "    vec.min_alpha=vec.alpha\n",
    "    %time vec.train(doc_list)\n",
    "    vec_represent[name]=[vec.infer_vector(doc.words) for doc in doc_list]\n",
    "\n",
    "\n",
    "plain_vectorizers = [\n",
    "    ('tfidf',TfidfVectorizer(analyzer=lambda x: x, stop_words='english', ngram_range=(1,3), max_df=0.4, max_features=8000, min_df=0.01),),\n",
    "#     ('bagofwords',CountVectorizer(analyzer=lambda x: x, stop_words='english', max_df=0.4, max_features=8000, min_df=0.01))\n",
    "]\n",
    "\n",
    "for name_vec,vec in plain_vectorizers:\n",
    "    print('Training vectorizer %s' % name_vec)\n",
    "    %time vec.fit(txt_list)\n",
    "    vec_represent[name_vec]=vec.transform(txt_list)"
   ]
  },
  {
   "cell_type": "markdown",
   "metadata": {},
   "source": [
    "# save/load checkpoint"
   ]
  },
  {
   "cell_type": "code",
   "execution_count": 21,
   "metadata": {
    "collapsed": true
   },
   "outputs": [],
   "source": [
    "# with open(\"d2v_vectorizers.pkl\", 'wb') as handle:\n",
    "#     cloudpickle.dump(d2v_vectorizers, handle)\n",
    "# with open(\"plain_vectorizers.pkl\", 'wb') as handle:\n",
    "#     cloudpickle.dump(plain_vectorizers, handle)\n",
    "# with open(\"vector_representations.pkl\", 'wb') as handle:\n",
    "#     cloudpickle.dump(vec_represent, handle)"
   ]
  },
  {
   "cell_type": "code",
   "execution_count": 6,
   "metadata": {
    "collapsed": false
   },
   "outputs": [],
   "source": [
    "# d2v_vectorizers=cloudpickle.load(open(\"d2v_vectorizers.pkl\", \"rb\" ) )\n",
    "# plain_vectorizers=cloudpickle.load(open(\"plain_vectorizers.pkl\", \"rb\" ) )\n",
    "# vec_represent=cloudpickle.load(open(\"vector_representations.pkl\", \"rb\" ) )"
   ]
  },
  {
   "cell_type": "markdown",
   "metadata": {},
   "source": [
    "## Bulk Training"
   ]
  },
  {
   "cell_type": "markdown",
   "metadata": {},
   "source": [
    "Using explicit multiple-pass, alpha-reduction approach as sketched in [gensim doc2vec blog post](http://radimrehurek.com/2014/12/doc2vec-tutorial/) – with added shuffling of corpus on each pass.\n",
    "\n",
    "Note that vector training is occurring on *all* documents of the dataset, which includes all TRAIN/TEST/DEV docs.\n",
    "\n",
    "Evaluation of each model's sentiment-predictive power is repeated after each pass, as an error rate (lower is better), to see the rates-of-relative-improvement. The base numbers reuse the TRAIN and TEST vectors stored in the models for the logistic regression, while the _inferred_ results use newly-inferred TEST vectors. \n",
    "\n",
    "(On a 4-core 2.6Ghz Intel Core i7, these 20 passes training and evaluating 3 main models takes about an hour.)"
   ]
  },
  {
   "cell_type": "code",
   "execution_count": null,
   "metadata": {
    "collapsed": true
   },
   "outputs": [],
   "source": [
    "from sklearn.multiclass import OneVsRestClassifier\n",
    "from sklearn.ensemble import ExtraTreesClassifier\n",
    "from sklearn.ensemble import BaggingClassifier\n",
    "from sklearn.multiclass import OneVsRestClassifier\n",
    "from sklearn.linear_model import LogisticRegression\n",
    "from sklearn.svm import SVC\n",
    "from sklearn.metrics import accuracy_score\n",
    "from sklearn.cross_validation import cross_val_score\n",
    "from sklearn.cross_validation import StratifiedShuffleSplit\n",
    "\n",
    "# start with the classics - naive bayes of the multinomial and bernoulli varieties\n",
    "# with either pure counts or tfidf features\n",
    "# SVM - which is supposed to be more or less state of the art \n",
    "# http://www.cs.cornell.edu/people/tj/publications/joachims_98a.pdf\n",
    "\n",
    "# use this when you have multi-labels\n",
    "# svc = OneVsRestClassifier(SVC(kernel=\"linear\"))\n",
    "\n",
    "n_estimators = 10\n",
    "svc = OneVsRestClassifier(BaggingClassifier(SVC(kernel='linear'), max_samples=1.0 / n_estimators, n_estimators=n_estimators))\n",
    "logreg = OneVsRestClassifier(LogisticRegression())\n",
    "etree = ExtraTreesClassifier(n_estimators=10)\n",
    "\n",
    "#need to add k nearest neighbors\n",
    "all_models = [\n",
    "    (\"logistic\", logreg),\n",
    "#     (\"svc\", svc),\n",
    "    (\"etree\", etree)\n",
    "]"
   ]
  },
  {
   "cell_type": "code",
   "execution_count": null,
   "metadata": {
    "collapsed": false
   },
   "outputs": [
    {
     "name": "stdout",
     "output_type": "stream",
     "text": [
      "START 2016-10-04 11:23:17.002729\n",
      "Using vectorizer tfidf\n",
      "Training model logistic\n",
      "CPU times: user 1min 59s, sys: 640 ms, total: 2min\n",
      "Wall time: 2min 27s\n",
      "CPU times: user 3.48 s, sys: 16 ms, total: 3.5 s"
     ]
    }
   ],
   "source": [
    "import datetime\n",
    "from sklearn.base import clone\n",
    "\n",
    "\n",
    "print(\"START %s\" % datetime.datetime.now())\n",
    "\n",
    "scores=[]\n",
    "for name_vec, rep in vec_represent.items():    \n",
    "    print('Using vectorizer %s' % name_vec)\n",
    "    X = np.array(rep) if isinstance(rep,list) else np.array(rep.todense())\n",
    "    for name_mod, model0 in all_models:\n",
    "        model = clone(model0)\n",
    "        print('Training model %s' % name_mod)\n",
    "        build_score=[]#cross_val_score(model,X,y)\n",
    "        for train,test in StratifiedShuffleSplit(y, n_iter=5, test_size=0.25):\n",
    "            X_train, X_test = X[train], X[test]\n",
    "            y_train, y_test = y[train], y[test]\n",
    "            %time model.fit(X_train, y_train)\n",
    "            score = %time accuracy_score(model.predict(X_test), y_test)\n",
    "            build_score.append(score)\n",
    "        build_score=np.array(build_score)\n",
    "        del model\n",
    "        scores.append((\"vec=\"+name_vec+\", model=\"+name_mod, build_score.mean(),build_score.std()))\n",
    "        \n",
    "        \n",
    "        \n",
    "print(\"END %s\" % str(datetime.datetime.now()))"
   ]
  },
  {
   "cell_type": "markdown",
   "metadata": {},
   "source": [
    "## Achieved Sentiment-Prediction Accuracy"
   ]
  },
  {
   "cell_type": "code",
   "execution_count": 13,
   "metadata": {
    "collapsed": false
   },
   "outputs": [
    {
     "name": "stdout",
     "output_type": "stream",
     "text": [
      "model                                    score     std\n",
      "-------------------------------------  -------  ------\n",
      "vec=d2v-sg-mean-100, model=etree        1.0000  0.0000\n",
      "vec=d2v-cbow, model=etree               1.0000  0.0000\n",
      "vec=d2v-sg-concat-100, model=etree      1.0000  0.0000\n",
      "vec=tfidf, model=etree                  0.9991  0.0001\n",
      "vec=tfidf, model=logistic               0.7950  0.0019\n",
      "vec=d2v-cbow, model=logistic            0.7508  0.0019\n",
      "vec=d2v-sg-mean-100, model=logistic     0.7278  0.0015\n",
      "vec=d2v-sg-concat-100, model=logistic   0.7211  0.0019\n"
     ]
    },
    {
     "data": {
      "text/plain": [
       "(array([0, 1, 2, 3, 4, 5, 6, 7]), <a list of 8 Text xticklabel objects>)"
      ]
     },
     "execution_count": 13,
     "metadata": {},
     "output_type": "execute_result"
    },
    {
     "data": {
      "image/png": "[encoded data removed]",
      "text/plain": [
       "<matplotlib.figure.Figure at 0x7efb955b9ed0>"
      ]
     },
     "metadata": {},
     "output_type": "display_data"
    }
   ],
   "source": [
    "# print best error rates achieved\n",
    "from tabulate import tabulate\n",
    "import matplotlib.pyplot as plt\n",
    "import seaborn as sns\n",
    "%matplotlib inline\n",
    "\n",
    "scores = sorted(scores, key=lambda (a,x,b): -x)\n",
    "\n",
    "print tabulate(scores, floatfmt=\".4f\", headers=(\"model\", 'score','std'))\n",
    "\n",
    "# plt.figure(figsize=(15, 6))\n",
    "sns.barplot(x=[name for name,a,b in scores], y=[score for a, score,b in scores])\n",
    "plt.xticks(rotation=90)"
   ]
  },
  {
   "cell_type": "markdown",
   "metadata": {},
   "source": [
    "### Finding the important features for each disease_label"
   ]
  },
  {
   "cell_type": "code",
   "execution_count": 14,
   "metadata": {
    "collapsed": false
   },
   "outputs": [
    {
     "data": {
      "image/png": "[encoded data removed]",
      "text/plain": [
       "<matplotlib.figure.Figure at 0x7efb9baf6850>"
      ]
     },
     "metadata": {},
     "output_type": "display_data"
    }
   ],
   "source": [
    "X = np.array(vec_represent['d2v-cbow'])\n",
    "forest = clone(etree)\n",
    "\n",
    "forest.fit(X, y)\n",
    "importances = forest.feature_importances_\n",
    "# std = np.std([tree.feature_importances_ for tree in forest.estimators_],\n",
    "#              axis=0)\n",
    "indices = np.argsort(importances)[::-1]\n",
    "\n",
    "# Print the feature ranking\n",
    "# print(\"Feature ranking:\")\n",
    "\n",
    "# for f in range(X.shape[1]):\n",
    "#     print(\"%d. feature %d (%f)\" % (f + 1, indices[f], importances[indices[f]]))\n",
    "\n",
    "# Plot the feature importances of the forest\n",
    "plt.figure()\n",
    "plt.title(\"Feature importances\")\n",
    "plt.bar(range(X.shape[1]), importances[indices],\n",
    "       color=\"r\", align=\"center\")\n",
    "plt.xticks(range(X.shape[1]), indices)\n",
    "plt.xlim([-1, X.shape[1]])\n",
    "plt.show()"
   ]
  },
  {
   "cell_type": "markdown",
   "metadata": {},
   "source": [
    "(Somewhat, in terms of reviewer tone, movie genre, etc... the MOST cosine-similar docs usually seem more like the TARGET than the MEDIAN or LEAST.)"
   ]
  },
  {
   "cell_type": "markdown",
   "metadata": {},
   "source": [
    "### TODO: vary the dataset size and see how the accuracy improves?"
   ]
  },
  {
   "cell_type": "code",
   "execution_count": 120,
   "metadata": {
    "collapsed": false
   },
   "outputs": [
    {
     "name": "stdout",
     "output_type": "stream",
     "text": [
      "most similar words for 'ovulations' (59 occurences)\n"
     ]
    },
    {
     "data": {
      "text/html": [
       "<table><tr><th>Doc2Vec(dm/c,d100,n5,w5,mc2,t4)</th><th>Doc2Vec(dbow,d100,n5,mc2,t4)</th><th>Doc2Vec(dm/m,d100,n5,w10,mc2,t4)</th></tr><tr><td>[('menstruations', 0.5418837070465088),<br>\n",
       "('partners', 0.5205096006393433),<br>\n",
       "('ovulation', 0.514448881149292),<br>\n",
       "('failures', 0.4933128356933594),<br>\n",
       "('cycles', 0.4877683222293854),<br>\n",
       "('headacks', 0.4839607775211334),<br>\n",
       "('miscarriages', 0.4822285771369934),<br>\n",
       "('ejaculation', 0.47940289974212646),<br>\n",
       "('hypodensities', 0.4678962826728821),<br>\n",
       "('utis', 0.4677923321723938),<br>\n",
       "('gestations', 0.4645574688911438),<br>\n",
       "('hospitalizations', 0.4627258777618408),<br>\n",
       "('ageing', 0.4553208649158478),<br>\n",
       "('epts', 0.4543471336364746),<br>\n",
       "('pregnacies', 0.45407208800315857),<br>\n",
       "('deliveries', 0.44855940341949463),<br>\n",
       "('orgasims', 0.44456303119659424),<br>\n",
       "('fertilization', 0.4433467984199524),<br>\n",
       "('hyperandrogenism', 0.4425516426563263),<br>\n",
       "('mris', 0.44202157855033875)]</td><td>[('h', 0.42999568581581116),<br>\n",
       "('img288', 0.3869835138320923),<br>\n",
       "('schistosoma', 0.3724989891052246),<br>\n",
       "('aniti', 0.3607182502746582),<br>\n",
       "('bfor', 0.35129716992378235),<br>\n",
       "('scope', 0.3445971608161926),<br>\n",
       "('membranous', 0.3445863425731659),<br>\n",
       "('swole', 0.3431397080421448),<br>\n",
       "('rail', 0.3425341844558716),<br>\n",
       "('plump', 0.3358010947704315),<br>\n",
       "('pilss', 0.3317587375640869),<br>\n",
       "('represent', 0.3310645818710327),<br>\n",
       "('reccommended', 0.32871949672698975),<br>\n",
       "('pal', 0.3271971344947815),<br>\n",
       "('dyndns', 0.326257586479187),<br>\n",
       "('seizures', 0.32475045323371887),<br>\n",
       "('wheat', 0.3244967460632324),<br>\n",
       "('messege', 0.320811927318573),<br>\n",
       "('uncertainty', 0.3203224837779999),<br>\n",
       "('emotions', 0.3202061951160431)]</td><td>[('numbered', 0.447348952293396),<br>\n",
       "('dysmenorrhea', 0.4230629503726959),<br>\n",
       "('intervention', 0.4111103415489197),<br>\n",
       "('menstruations', 0.3920370936393738),<br>\n",
       "('specifying', 0.3900192677974701),<br>\n",
       "('benzydamine', 0.3861333131790161),<br>\n",
       "('hypodensities', 0.3749895691871643),<br>\n",
       "('dimensions', 0.36975038051605225),<br>\n",
       "('hookups', 0.3591601848602295),<br>\n",
       "('diplopia', 0.3562808632850647),<br>\n",
       "('periodic', 0.352350115776062),<br>\n",
       "('laryngopharyngeal', 0.3507871925830841),<br>\n",
       "('consent', 0.3494877219200134),<br>\n",
       "('simptoms', 0.3455832004547119),<br>\n",
       "('observation', 0.34256434440612793),<br>\n",
       "('rifampicin', 0.3422098755836487),<br>\n",
       "('uncooked', 0.34216052293777466),<br>\n",
       "('examining', 0.3410031199455261),<br>\n",
       "('generations', 0.3403622508049011),<br>\n",
       "('egges', 0.339042603969574)]</td></tr></table>"
      ],
      "text/plain": [
       "<IPython.core.display.HTML object>"
      ]
     },
     "execution_count": 120,
     "metadata": {},
     "output_type": "execute_result"
    }
   ],
   "source": [
    "def benchmark(model, X, y, n):\n",
    "    test_size = 1 - (n / float(len(y)))\n",
    "    scores = []\n",
    "    for train, test in StratifiedShuffleSplit(y, n_iter=5, test_size=test_size):\n",
    "        X_train, X_test = X[train], X[test]\n",
    "        y_train, y_test = y[train], y[test]\n",
    "        scores.append(accuracy_score(model.fit(X_train, y_train).predict(X_test), y_test))\n",
    "    return np.mean(scores)\n",
    "\n",
    "train_sizes = [10, 40, 160, 640, 3200, 6400]\n",
    "table = []\n",
    "for name, model in all_models:\n",
    "    for n in train_sizes:\n",
    "        table.append({'model': name, \n",
    "                      'accuracy': benchmark(model, X, y, n), \n",
    "                      'train_size': n})\n",
    "df = pd.DataFrame(table)\n",
    "\n",
    "\n",
    "plt.figure(figsize=(15, 6))\n",
    "fig = sns.pointplot(x='train_size', y='accuracy', hue='model', \n",
    "                    data=df[df.model.map(lambda x: x in [\"mult_nb\", \"svc_tfidf\", \"w2v_tfidf\", \n",
    "                                                         \"glove_small_tfidf\", \"glove_big_tfidf\", \n",
    "                                                        ])])\n",
    "sns.set_context(\"notebook\", font_scale=1.5)\n",
    "fig.set(ylabel=\"accuracy\")\n",
    "fig.set(xlabel=\"labeled training examples\")\n",
    "fig.set(title=\"R8 benchmark\")\n",
    "fig.set(ylabel=\"accuracy\")"
   ]
  }
 ],
 "metadata": {
  "kernelspec": {
   "display_name": "Python 2",
   "language": "python",
   "name": "python2"
  },
  "language_info": {
   "codemirror_mode": {
    "name": "ipython",
    "version": 2
   },
   "file_extension": ".py",
   "mimetype": "text/x-python",
   "name": "python",
   "nbconvert_exporter": "python",
   "pygments_lexer": "ipython2",
   "version": "2.7.12"
  }
 },
 "nbformat": 4,
 "nbformat_minor": 0
}
