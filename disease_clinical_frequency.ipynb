{
 "cells": [
  {
   "cell_type": "code",
   "execution_count": 34,
   "metadata": {
    "collapsed": true
   },
   "outputs": [],
   "source": [
    "import pandas as pd\n",
    "import re\n",
    "import seaborn as sns\n",
    "import glob\n",
    "import cloudpickle\n",
    "from matplotlib import pyplot as plt\n",
    "%matplotlib inline"
   ]
  },
  {
   "cell_type": "code",
   "execution_count": 2,
   "metadata": {
    "collapsed": false
   },
   "outputs": [],
   "source": [
    "allFiles = glob.glob(\"nndss/*.csv\")\n",
    "frame = pd.DataFrame()\n",
    "list_ = []\n",
    "for file_ in allFiles:\n",
    "    df = pd.read_csv(file_,index_col=None, header=0)\n",
    "    df.columns = [col.strip() for col in df.columns]\n",
    "    df=df.loc[(df['Reporting Area']=='UNITED STATES') & (df['MMWR Week']==37),:]\n",
    "    c=[col for col in df.columns if \"Cum 2015\"in col and not \"flag\" in col]\n",
    "    v=df[c].values[0]\n",
    "    df_to=pd.DataFrame({'Disease': [col.split(',')[0].split('(')[0].split('\\xc2')[0] for col in c], 'Total cases reported  2015' :v})\n",
    "    list_.append(df_to)"
   ]
  },
  {
   "cell_type": "code",
   "execution_count": 6,
   "metadata": {
    "collapsed": true
   },
   "outputs": [],
   "source": [
    "df_infreq=pd.read_csv(\"NNDSS_-_Table_I._infrequently_reported_notifiable_diseases.csv\",index_col=None, header=0)\n",
    "list_.append(df_infreq[['Disease','Total cases reported  2015']].dropna())\n",
    "df_reports = pd.concat(list_)\n",
    "df_reports.columns=['Disease','Count']"
   ]
  },
  {
   "cell_type": "code",
   "execution_count": 32,
   "metadata": {
    "collapsed": false
   },
   "outputs": [],
   "source": [
    "# pd_dis=cloudpickle.load(open(\"condition_statistics.pkl\", \"rb\" ) )\n",
    "pd_dis['us_freq']=0\n",
    "for (index,row) in df_reports.iterrows():\n",
    "    diag = pd_dis.loc[[re.search(r'\\b'+word+r'\\b', row['Disease'].lower())>0 for word in d_list],0].tolist()\n",
    "    for w in diag:\n",
    "        pd_dis.loc[pd_dis[0]==w,'us_freq']=pd_dis.loc[pd_dis[0]==w,'us_freq']+row['Count']\n"
   ]
  },
  {
   "cell_type": "code",
   "execution_count": 35,
   "metadata": {
    "collapsed": false
   },
   "outputs": [],
   "source": [
    "with open(\"condition_statistics.pkl\", 'wb') as handle:\n",
    "    cloudpickle.dump(pd_dis, handle)"
   ]
  },
  {
   "cell_type": "code",
   "execution_count": 31,
   "metadata": {
    "collapsed": false
   },
   "outputs": [
    {
     "data": {
      "text/plain": [
       "(3428, 2)"
      ]
     },
     "execution_count": 31,
     "metadata": {},
     "output_type": "execute_result"
    }
   ],
   "source": [
    "df_reports.shape"
   ]
  },
  {
   "cell_type": "code",
   "execution_count": 69,
   "metadata": {
    "collapsed": false
   },
   "outputs": [],
   "source": [
    "condition='chlamydia'\n",
    "cond_stat=pd_dis"
   ]
  },
  {
   "cell_type": "code",
   "execution_count": 75,
   "metadata": {
    "collapsed": false
   },
   "outputs": [
    {
     "data": {
      "text/plain": [
       "41"
      ]
     },
     "execution_count": 75,
     "metadata": {},
     "output_type": "execute_result"
    }
   ],
   "source": [
    "pl=(cond_stat['us_freq']>0).sum()\n",
    "pl"
   ]
  },
  {
   "cell_type": "code",
   "execution_count": null,
   "metadata": {
    "collapsed": true
   },
   "outputs": [],
   "source": []
  }
 ],
 "metadata": {
  "kernelspec": {
   "display_name": "Python 2",
   "language": "python",
   "name": "python2"
  },
  "language_info": {
   "codemirror_mode": {
    "name": "ipython",
    "version": 2
   },
   "file_extension": ".py",
   "mimetype": "text/x-python",
   "name": "python",
   "nbconvert_exporter": "python",
   "pygments_lexer": "ipython2",
   "version": "2.7.12"
  }
 },
 "nbformat": 4,
 "nbformat_minor": 0
}
