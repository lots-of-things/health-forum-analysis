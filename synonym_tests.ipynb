{
 "cells": [
  {
   "cell_type": "code",
   "execution_count": 35,
   "metadata": {
    "collapsed": false
   },
   "outputs": [],
   "source": [
    "from nltk import ngrams\n",
    "sentence = 'this is a foo bar sentences and i want to ngramize it'\n",
    "\n",
    "totest=[item for sublist in [[\" \".join(grams) for grams in ngrams(sentence.split(), n)] for n in (1,2,3)] for item in sublist]\n",
    "\n"
   ]
  },
  {
   "cell_type": "code",
   "execution_count": 53,
   "metadata": {
    "collapsed": false
   },
   "outputs": [
    {
     "data": {
      "text/plain": [
       "('foo bar sentences', 86)"
      ]
     },
     "execution_count": 53,
     "metadata": {},
     "output_type": "execute_result"
    }
   ],
   "source": [
    "from fuzzywuzzy import process\n",
    "process.extractOne(\"fo ar\", totest)"
   ]
  },
  {
   "cell_type": "code",
   "execution_count": 85,
   "metadata": {
    "collapsed": false
   },
   "outputs": [],
   "source": [
    "import pandas as pd\n",
    "diseases = pd.read_csv(\"disease_list.csv\",index_col=0, header=0)\n",
    "diseases = diseases['name'].str.strip().str.replace(' +',' ').str.lower()\n",
    "d_list = diseases.loc[:373].tolist()\n",
    "\n",
    "diseases = pd.read_csv(\"disease_list_cdc.csv\",index_col=None, header=0)\n",
    "diseases = diseases['name'].str.strip().str.replace(' +',' ').str.lower()\n",
    "d_list=d_list+diseases.tolist()\n",
    "d_list=sorted(list(set(d_list)))\n",
    "d_list.remove('hiv/aids')\n",
    "d_list=[a for a in d_list if 'vaccination' not in a]"
   ]
  },
  {
   "cell_type": "code",
   "execution_count": 100,
   "metadata": {
    "collapsed": false
   },
   "outputs": [],
   "source": [
    "synonyms={}\n",
    "official=[d_list.pop()]\n",
    "for j,s in enumerate(d_list):\n",
    "    match = process.extractOne(s, official)\n",
    "    if(match[1]>=90):\n",
    "        if(len(s)<len(match[0])):\n",
    "            official.append(s)\n",
    "            synonyms[match[0]].append(match[0])\n",
    "            synonyms[s]=synonyms[match[0]]\n",
    "            official.remove(match[0])\n",
    "            del synonyms[match[0]]\n",
    "        else:\n",
    "            synonyms[match[0]].append(s)\n",
    "    else:\n",
    "        official.append(s)\n",
    "        synonyms[s]=[]"
   ]
  },
  {
   "cell_type": "code",
   "execution_count": 101,
   "metadata": {
    "collapsed": false
   },
   "outputs": [
    {
     "data": {
      "text/plain": [
       "{'absence seizure': [],\n",
       " 'acanthamoeba infection': [],\n",
       " 'acanthamoeba keratitis': [],\n",
       " 'acanthosis nigricans': [],\n",
       " 'ace': [],\n",
       " 'achalasia': [],\n",
       " 'achilles tendinitis': [],\n",
       " 'achilles tendon rupture': [],\n",
       " 'acinetobacter infection': [],\n",
       " 'acl injury': [],\n",
       " 'acne': [],\n",
       " 'acoustic neuroma': [],\n",
       " 'acquired immunodeficiency syndrome': ['acquired immune deficiency syndrome'],\n",
       " 'acromegaly': [],\n",
       " 'actinic keratosis': [],\n",
       " 'acute coronary syndrome': [],\n",
       " 'acute kidney failure': [],\n",
       " 'acute liver failure': [],\n",
       " 'acute lymphocytic leukemia': [],\n",
       " 'acute myelogenous leukemia': [],\n",
       " 'acute sinusitis': [],\n",
       " \"addison's disease\": [],\n",
       " 'adenomyosis': [],\n",
       " 'adenovirus infection': ['arenavirus infection'],\n",
       " 'adhd': [],\n",
       " 'adjustment disorders': [],\n",
       " 'adnexal tumors': [],\n",
       " 'adrenal cancer': [],\n",
       " 'adrenoleukodystrophy': [],\n",
       " 'adult attention-deficit/hyperactivity disorder': [],\n",
       " \"adult still's disease\": [],\n",
       " 'adverse childhood experiences': [],\n",
       " 'african trypanosomiasis': ['american trypanosomiasis'],\n",
       " 'age spots': [],\n",
       " 'agoraphobia': [],\n",
       " 'agricultural safety': [],\n",
       " 'ahf': [],\n",
       " 'aids': [],\n",
       " 'airplane ear': [],\n",
       " 'albinism': [],\n",
       " 'alcohol intolerance': [],\n",
       " 'alcohol poisoning': [],\n",
       " 'alcohol use disorder': [],\n",
       " 'alcoholic hepatitis': [],\n",
       " 'alkhurma hemorrhagic fever': [],\n",
       " 'allergies': [],\n",
       " 'als': [],\n",
       " \"alzheimer's disease\": [],\n",
       " 'ambiguous genitalia': [],\n",
       " 'ameloblastoma': [],\n",
       " 'amenorrhea': [],\n",
       " 'amnesia': [],\n",
       " 'amniotic fluid embolism': [],\n",
       " 'ampullary cancer': [],\n",
       " 'amyloidosis': [],\n",
       " 'amyotrophic lateral sclerosis': [],\n",
       " 'anal cancer': [],\n",
       " 'anal fissure': [],\n",
       " 'anal fistula': [],\n",
       " 'anal itching': [],\n",
       " 'anaphylaxis': [],\n",
       " 'anemia': ['aplastic anemia'],\n",
       " 'aneurysms': [],\n",
       " 'angelman syndrome': [],\n",
       " 'angina': [],\n",
       " 'angiostrongylus infection': [],\n",
       " 'anhidrosis': [],\n",
       " 'animal-related diseases': [],\n",
       " 'anisakiasis': [],\n",
       " 'anisakis infection': [],\n",
       " 'ankylosing spondylitis': [],\n",
       " 'anorexia nervosa': [],\n",
       " 'anorgasmia': [],\n",
       " 'anterior prolapse': [],\n",
       " 'anthrax': [],\n",
       " 'antibiotic and antimicrobial resistance': [],\n",
       " 'antibiotic-associated diarrhea': [],\n",
       " 'antiphospholipid syndrome': [],\n",
       " 'antisocial personality disorder': [],\n",
       " 'anxiety': [],\n",
       " 'aortic aneurysm': ['abdominal aortic aneurysm'],\n",
       " 'aortic dissection': [],\n",
       " 'aortic valve disease': [],\n",
       " 'aortic valve regurgitation': [],\n",
       " 'aortic valve stenosis': [],\n",
       " 'aphasia': [],\n",
       " 'appendicitis': [],\n",
       " 'appropriate antibiotic use': [],\n",
       " 'ards': [],\n",
       " 'arteriosclerosis / atherosclerosis': [],\n",
       " 'arteriovenous fistula': [],\n",
       " 'arteriovenous malformation': [],\n",
       " 'arthritis': [],\n",
       " 'asbestosis': [],\n",
       " 'ascariasis': []}"
      ]
     },
     "execution_count": 101,
     "metadata": {},
     "output_type": "execute_result"
    }
   ],
   "source": [
    "synonyms"
   ]
  },
  {
   "cell_type": "code",
   "execution_count": null,
   "metadata": {
    "collapsed": true
   },
   "outputs": [],
   "source": []
  }
 ],
 "metadata": {
  "kernelspec": {
   "display_name": "Python 2",
   "language": "python",
   "name": "python2"
  },
  "language_info": {
   "codemirror_mode": {
    "name": "ipython",
    "version": 2
   },
   "file_extension": ".py",
   "mimetype": "text/x-python",
   "name": "python",
   "nbconvert_exporter": "python",
   "pygments_lexer": "ipython2",
   "version": "2.7.12"
  }
 },
 "nbformat": 4,
 "nbformat_minor": 0
}
