{
 "cells": [
  {
   "cell_type": "code",
   "execution_count": 1,
   "metadata": {
    "collapsed": true
   },
   "outputs": [],
   "source": [
    "import pandas as pd\n",
    "import re\n",
    "import seaborn as sns\n",
    "import glob\n",
    "import cloudpickle\n",
    "from matplotlib import pyplot as plt\n",
    "%matplotlib inline"
   ]
  },
  {
   "cell_type": "code",
   "execution_count": 2,
   "metadata": {
    "collapsed": false
   },
   "outputs": [],
   "source": [
    "df_reports = pd.read_csv(\"diseasedata/wiki_list.csv\",index_col=None, header=0)\n",
    "df_reports=df_reports[['name','ref','views']]\n",
    "df_reports.columns=['Disease','Ref','Count']\n",
    "df_reports=df_reports.dropna()"
   ]
  },
  {
   "cell_type": "code",
   "execution_count": 3,
   "metadata": {
    "collapsed": false
   },
   "outputs": [],
   "source": [
    "import cloudpickle\n",
    "disease_lookup = cloudpickle.load(open(\"disease_lookup.pkl\", \"rb\" ) )\n",
    "disease_list = cloudpickle.load(open(\"disease_list_stats.pkl\", \"rb\" ) )"
   ]
  },
  {
   "cell_type": "code",
   "execution_count": 4,
   "metadata": {
    "collapsed": false
   },
   "outputs": [],
   "source": [
    "for dis in disease_list:\n",
    "    dis['wiki_ref_freq']=0"
   ]
  },
  {
   "cell_type": "code",
   "execution_count": 5,
   "metadata": {
    "collapsed": false
   },
   "outputs": [
    {
     "name": "stdout",
     "output_type": "stream",
     "text": [
      "0\n",
      "1000\n",
      "2000\n",
      "3000\n",
      "4000\n"
     ]
    }
   ],
   "source": [
    "from nltk import ngrams\n",
    "\n",
    "def get_toks(txt,ngram_length):\n",
    "    return [item for sublist in \\\n",
    "             [[\" \".join(grams) for grams in ngrams(txt.split(), n)] \\\n",
    "             for n in range(ngram_length)] \\\n",
    "             for item in sublist]\n",
    "\n",
    "def get_dislist_simple(diseases,text):\n",
    "    choptext=dict([[a,0] for a in get_toks(text,4)])\n",
    "    return [k for k in diseases if k in choptext]\n",
    "\n",
    "for i,repo in enumerate(df_reports['Disease'].values):\n",
    "    if(i%1000==0):\n",
    "        print i\n",
    "    txt = df_reports.loc[df_reports['Disease']==repo,'Disease'].values[0].lower()\n",
    "    cnt = df_reports.loc[df_reports['Disease']==repo,'Count'].values[0]\n",
    "    wiki= df_reports.loc[df_reports['Disease']==repo,'Ref'].values[0]\n",
    "    alldiags = get_dislist_simple(disease_lookup.keys(),txt)\n",
    "    for k in set([disease_lookup[x] for x in alldiags]):\n",
    "        disease_list[k]['wiki_freq']=disease_list[k]['wiki_freq']+cnt\n",
    "        if(disease_list[k]['wiki_ref_freq']<cnt):\n",
    "            disease_list[k]['wiki_ref_freq']=cnt\n",
    "            disease_list[k]['wiki_ref']=wiki"
   ]
  },
  {
   "cell_type": "code",
   "execution_count": 6,
   "metadata": {
    "collapsed": true
   },
   "outputs": [],
   "source": [
    "with open(\"disease_list_stats.pkl\", 'wb') as handle:\n",
    "    cloudpickle.dump(disease_list, handle)"
   ]
  },
  {
   "cell_type": "code",
   "execution_count": null,
   "metadata": {
    "collapsed": false
   },
   "outputs": [],
   "source": [
    "df_reports['Disease']"
   ]
  }
 ],
 "metadata": {
  "kernelspec": {
   "display_name": "Python 2",
   "language": "python",
   "name": "python2"
  },
  "language_info": {
   "codemirror_mode": {
    "name": "ipython",
    "version": 2
   },
   "file_extension": ".py",
   "mimetype": "text/x-python",
   "name": "python",
   "nbconvert_exporter": "python",
   "pygments_lexer": "ipython2",
   "version": "2.7.12"
  }
 },
 "nbformat": 4,
 "nbformat_minor": 0
}
