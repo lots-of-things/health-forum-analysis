{
 "cells": [
  {
   "cell_type": "code",
   "execution_count": 1,
   "metadata": {
    "collapsed": false
   },
   "outputs": [],
   "source": [
    "from fuzzywuzzy import process\n",
    "import pandas as pd\n",
    "import re"
   ]
  },
  {
   "cell_type": "code",
   "execution_count": 3,
   "metadata": {
    "collapsed": false
   },
   "outputs": [
    {
     "name": "stdout",
     "output_type": "stream",
     "text": [
      "0\n",
      "1000\n"
     ]
    }
   ],
   "source": [
    "df_dis = pd.read_csv(\"diseasedata/disease_list.csv\",index_col=0, header=0)\n",
    "diseases = df_dis['name'].str.strip().str.replace(' +',' ').str.lower()\n",
    "urls = df_dis['ref'].apply(lambda x: \"http://www.mayoclinic.org/diseases-conditions\"+x)\n",
    "d_list = diseases.loc[:373].tolist()\n",
    "u_list = urls.loc[:373].tolist()\n",
    "\n",
    "df_dis = pd.read_csv(\"diseasedata/disease_list_cdc.csv\",index_col=None, header=0)\n",
    "diseases = df_dis['name'].str.strip().str.replace(' +',' ').str.lower()\n",
    "urls = df_dis['ref']\n",
    "d_list = d_list+diseases.tolist()\n",
    "u_list = u_list+urls.tolist()\n",
    "\n",
    "uniquer=[]\n",
    "lookup={}\n",
    "disease_list=[]\n",
    "to_syn = [(re.sub('see also ','',a),b) for (a,b) in zip(d_list,u_list) if \\\n",
    "          (('vaccination' not in a) and \\\n",
    "           ('vaccines' not in a) and \\\n",
    "           ('-' not in a) and \\\n",
    "           ('zika virus infection and pregnancy' not in a) and \\\n",
    "           ('cdc vision and mission' not in a) and \\\n",
    "           ('health disparities' not in a) and \\\n",
    "           ('health history' not in a) and \\\n",
    "           ('biopsy' not in a) and \\\n",
    "           ('ra' != a))]\n",
    "\n",
    "\n",
    "\n",
    "for i,c in enumerate(to_syn):\n",
    "    if(i%1000==0):\n",
    "        print i\n",
    "    if(c[0] not in uniquer):\n",
    "        uniquer.append(c[0])\n",
    "        match = process.extractOne(c[0], lookup.keys())\n",
    "        if(match and match[1]>=88):\n",
    "            spot=lookup[match[0]]\n",
    "            disease_list[spot][2].append(c[0])\n",
    "            lookup[c[0]]=spot\n",
    "        else:\n",
    "            lookup[c[0]]=len(disease_list)\n",
    "            disease_list.append(c+([c[0]],))\n",
    "\n"
   ]
  },
  {
   "cell_type": "code",
   "execution_count": null,
   "metadata": {
    "collapsed": false
   },
   "outputs": [],
   "source": [
    "#sorted([(c[0],len(c[2]),c[2]) for c in disease_list],key=lambda x: x[1],reverse=True)[:25]"
   ]
  },
  {
   "cell_type": "code",
   "execution_count": 4,
   "metadata": {
    "collapsed": false
   },
   "outputs": [],
   "source": [
    "import cloudpickle\n",
    "with open(\"pickles/disease_list.pkl\", 'wb') as handle:\n",
    "    cloudpickle.dump(disease_list, handle)\n",
    "with open(\"pickles/disease_lookup.pkl\", 'wb') as handle:\n",
    "    cloudpickle.dump(lookup, handle)"
   ]
  },
  {
   "cell_type": "code",
   "execution_count": null,
   "metadata": {
    "collapsed": true
   },
   "outputs": [],
   "source": []
  }
 ],
 "metadata": {
  "kernelspec": {
   "display_name": "Python 2",
   "language": "python",
   "name": "python2"
  },
  "language_info": {
   "codemirror_mode": {
    "name": "ipython",
    "version": 2
   },
   "file_extension": ".py",
   "mimetype": "text/x-python",
   "name": "python",
   "nbconvert_exporter": "python",
   "pygments_lexer": "ipython2",
   "version": "2.7.12"
  }
 },
 "nbformat": 4,
 "nbformat_minor": 0
}
