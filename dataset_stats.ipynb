{
 "cells": [
  {
   "cell_type": "code",
   "execution_count": 1,
   "metadata": {
    "collapsed": false
   },
   "outputs": [],
   "source": [
    "import pandas as pd\n",
    "import re\n",
    "import seaborn as sns\n",
    "from matplotlib import pyplot as plt\n",
    "%matplotlib inline\n",
    "import readability\n"
   ]
  },
  {
   "cell_type": "code",
   "execution_count": 2,
   "metadata": {
    "collapsed": true
   },
   "outputs": [],
   "source": [
    "list_=[]\n",
    "df = pd.read_csv('forumdata/doctorslounge_data.csv', index_col=None, header=0)\n",
    "list_.append(df)\n",
    "df = pd.read_csv('forumdata/ehealthforum_data_0.csv', index_col=None, header=0)\n",
    "list_.append(df)\n",
    "df = pd.read_csv('forumdata/ehealthforum_data_1.csv', index_col=None, header=0)\n",
    "list_.append(df)\n",
    "df = pd.read_csv('forumdata/ehealthforum_data_2.csv', index_col=None, header=0)\n",
    "list_.append(df)\n",
    "df = pd.read_csv('forumdata/ehealthforum_data_3.csv', index_col=None, header=0)\n",
    "list_.append(df)\n",
    "df = pd.read_csv('forumdata/ehealthforum_data_4.csv', index_col=None, header=0)\n",
    "list_.append(df)\n",
    "df = pd.read_csv('forumdata/ehealthforum_data_5.csv', index_col=None, header=0)\n",
    "list_.append(df)\n",
    "df = pd.read_csv('forumdata/webmd_data_0.csv', index_col=None, header=0)\n",
    "list_.append(df)\n",
    "df = pd.read_csv('forumdata/webmd_data_1.csv', index_col=None, header=0)\n",
    "list_.append(df)\n",
    "df = pd.read_csv('forumdata/webmd_data_2.csv', index_col=None, header=0)\n",
    "list_.append(df)\n",
    "df = pd.read_csv('forumdata/scarleteen_data.csv', index_col=None, header=0)\n",
    "list_.append(df)"
   ]
  },
  {
   "cell_type": "code",
   "execution_count": 3,
   "metadata": {
    "collapsed": false
   },
   "outputs": [],
   "source": [
    "df=pd.concat(list_,ignore_index=True)\n",
    "df=df.drop([df.columns[0],'response_time'],1)\n",
    "df=df.drop_duplicates()"
   ]
  },
  {
   "cell_type": "code",
   "execution_count": 4,
   "metadata": {
    "collapsed": false
   },
   "outputs": [
    {
     "name": "stdout",
     "output_type": "stream",
     "text": [
      "Forum dataset consists of 145255 posts across 63846 conversations\n"
     ]
    }
   ],
   "source": [
    "posts=df.shape[0]\n",
    "convos=df['post'].unique().shape[0]\n",
    "print \"Forum dataset consists of %s posts across %s conversations\" % (posts,convos)"
   ]
  },
  {
   "cell_type": "code",
   "execution_count": 7,
   "metadata": {
    "collapsed": false
   },
   "outputs": [
    {
     "data": {
      "text/html": [
       "<div>\n",
       "<table border=\"1\" class=\"dataframe\">\n",
       "  <thead>\n",
       "    <tr style=\"text-align: right;\">\n",
       "      <th></th>\n",
       "      <th>post</th>\n",
       "      <th>response</th>\n",
       "      <th>subject</th>\n",
       "      <th>user_name</th>\n",
       "      <th>user_profile</th>\n",
       "    </tr>\n",
       "    <tr>\n",
       "      <th>response_type</th>\n",
       "      <th></th>\n",
       "      <th></th>\n",
       "      <th></th>\n",
       "      <th></th>\n",
       "      <th></th>\n",
       "    </tr>\n",
       "  </thead>\n",
       "  <tbody>\n",
       "    <tr>\n",
       "      <th>asker</th>\n",
       "      <td>63846</td>\n",
       "      <td>63846</td>\n",
       "      <td>63846</td>\n",
       "      <td>63846</td>\n",
       "      <td>63846</td>\n",
       "    </tr>\n",
       "    <tr>\n",
       "      <th>doctor</th>\n",
       "      <td>50699</td>\n",
       "      <td>50699</td>\n",
       "      <td>50699</td>\n",
       "      <td>50699</td>\n",
       "      <td>50699</td>\n",
       "    </tr>\n",
       "    <tr>\n",
       "      <th>other</th>\n",
       "      <td>30404</td>\n",
       "      <td>30404</td>\n",
       "      <td>30404</td>\n",
       "      <td>30397</td>\n",
       "      <td>30404</td>\n",
       "    </tr>\n",
       "    <tr>\n",
       "      <th>staff</th>\n",
       "      <td>306</td>\n",
       "      <td>306</td>\n",
       "      <td>306</td>\n",
       "      <td>306</td>\n",
       "      <td>306</td>\n",
       "    </tr>\n",
       "  </tbody>\n",
       "</table>\n",
       "</div>"
      ],
      "text/plain": [
       "                post  response  subject  user_name  user_profile\n",
       "response_type                                                   \n",
       "asker          63846     63846    63846      63846         63846\n",
       "doctor         50699     50699    50699      50699         50699\n",
       "other          30404     30404    30404      30397         30404\n",
       "staff            306       306      306        306           306"
      ]
     },
     "execution_count": 7,
     "metadata": {},
     "output_type": "execute_result"
    }
   ],
   "source": [
    "df.groupby('response_type').count()"
   ]
  },
  {
   "cell_type": "code",
   "execution_count": 32,
   "metadata": {
    "collapsed": false
   },
   "outputs": [
    {
     "name": "stdout",
     "output_type": "stream",
     "text": [
      "0.133172696293 labeled by subject \n"
     ]
    }
   ],
   "source": [
    "labeled = 1-df.groupby('subject')['response'].count()[['nevermind','stds']].sum()/float(len(df))\n",
    "print \"%s labeled by subject \" % labeled"
   ]
  },
  {
   "cell_type": "code",
   "execution_count": null,
   "metadata": {
    "collapsed": true
   },
   "outputs": [],
   "source": []
  }
 ],
 "metadata": {
  "kernelspec": {
   "display_name": "Python 2",
   "language": "python",
   "name": "python2"
  },
  "language_info": {
   "codemirror_mode": {
    "name": "ipython",
    "version": 2
   },
   "file_extension": ".py",
   "mimetype": "text/x-python",
   "name": "python",
   "nbconvert_exporter": "python",
   "pygments_lexer": "ipython2",
   "version": "2.7.12"
  }
 },
 "nbformat": 4,
 "nbformat_minor": 0
}
