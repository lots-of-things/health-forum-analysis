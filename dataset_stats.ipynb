{
 "cells": [
  {
   "cell_type": "code",
   "execution_count": 1,
   "metadata": {
    "collapsed": false
   },
   "outputs": [],
   "source": [
    "import pandas as pd\n",
    "import re\n",
    "import seaborn as sns\n",
    "from matplotlib import pyplot as plt\n",
    "%matplotlib inline\n",
    "import readability\n",
    "import numpy as np"
   ]
  },
  {
   "cell_type": "code",
   "execution_count": 3,
   "metadata": {
    "collapsed": false
   },
   "outputs": [],
   "source": [
    "import cloudpickle\n",
    "disease_lookup = cloudpickle.load(open(\"disease_lookup.pkl\", \"rb\" ) )\n",
    "disease_list = cloudpickle.load(open(\"disease_list.pkl\", \"rb\" ) )\n",
    "df = cloudpickle.load(open(\"cleaned_forum_data.pkl\", \"rb\" ) )"
   ]
  },
  {
   "cell_type": "code",
   "execution_count": 4,
   "metadata": {
    "collapsed": false
   },
   "outputs": [
    {
     "name": "stdout",
     "output_type": "stream",
     "text": [
      "Forum dataset consists of 149183 posts across 63846 conversations\n"
     ]
    }
   ],
   "source": [
    "posts=df.shape[0]\n",
    "convos=df['post'].unique().shape[0]\n",
    "print \"Forum dataset consists of %s posts across %s conversations\" % (posts,convos)"
   ]
  },
  {
   "cell_type": "code",
   "execution_count": 5,
   "metadata": {
    "collapsed": false
   },
   "outputs": [
    {
     "data": {
      "text/html": [
       "<div>\n",
       "<table border=\"1\" class=\"dataframe\">\n",
       "  <thead>\n",
       "    <tr style=\"text-align: right;\">\n",
       "      <th></th>\n",
       "      <th>Unnamed: 0</th>\n",
       "      <th>post</th>\n",
       "      <th>response</th>\n",
       "      <th>response_time</th>\n",
       "      <th>subject</th>\n",
       "      <th>user_name</th>\n",
       "      <th>user_profile</th>\n",
       "    </tr>\n",
       "    <tr>\n",
       "      <th>response_type</th>\n",
       "      <th></th>\n",
       "      <th></th>\n",
       "      <th></th>\n",
       "      <th></th>\n",
       "      <th></th>\n",
       "      <th></th>\n",
       "      <th></th>\n",
       "    </tr>\n",
       "  </thead>\n",
       "  <tbody>\n",
       "    <tr>\n",
       "      <th>asker</th>\n",
       "      <td>65787</td>\n",
       "      <td>65787</td>\n",
       "      <td>65787</td>\n",
       "      <td>65787</td>\n",
       "      <td>65787</td>\n",
       "      <td>65787</td>\n",
       "      <td>65787</td>\n",
       "    </tr>\n",
       "    <tr>\n",
       "      <th>doctor</th>\n",
       "      <td>52642</td>\n",
       "      <td>52642</td>\n",
       "      <td>52642</td>\n",
       "      <td>52642</td>\n",
       "      <td>52642</td>\n",
       "      <td>52642</td>\n",
       "      <td>52642</td>\n",
       "    </tr>\n",
       "    <tr>\n",
       "      <th>other</th>\n",
       "      <td>30448</td>\n",
       "      <td>30448</td>\n",
       "      <td>30448</td>\n",
       "      <td>30441</td>\n",
       "      <td>30448</td>\n",
       "      <td>30441</td>\n",
       "      <td>30448</td>\n",
       "    </tr>\n",
       "    <tr>\n",
       "      <th>staff</th>\n",
       "      <td>306</td>\n",
       "      <td>306</td>\n",
       "      <td>306</td>\n",
       "      <td>306</td>\n",
       "      <td>306</td>\n",
       "      <td>306</td>\n",
       "      <td>306</td>\n",
       "    </tr>\n",
       "  </tbody>\n",
       "</table>\n",
       "</div>"
      ],
      "text/plain": [
       "               Unnamed: 0   post  response  response_time  subject  user_name  \\\n",
       "response_type                                                                   \n",
       "asker               65787  65787     65787          65787    65787      65787   \n",
       "doctor              52642  52642     52642          52642    52642      52642   \n",
       "other               30448  30448     30448          30441    30448      30441   \n",
       "staff                 306    306       306            306      306        306   \n",
       "\n",
       "               user_profile  \n",
       "response_type                \n",
       "asker                 65787  \n",
       "doctor                52642  \n",
       "other                 30448  \n",
       "staff                   306  "
      ]
     },
     "execution_count": 5,
     "metadata": {},
     "output_type": "execute_result"
    }
   ],
   "source": [
    "df.groupby('response_type').count()['post']"
   ]
  },
  {
   "cell_type": "code",
   "execution_count": null,
   "metadata": {
    "collapsed": true
   },
   "outputs": [],
   "source": [
    "sns.distplot(df_crop['askergrd'],400)\n",
    "sns.distplot(df_crop['doctorgrd'],100)\n",
    "plt.xlim(0, 50)\n",
    "plt.xlabel('Flesch Kincaid Grade Level')"
   ]
  },
  {
   "cell_type": "code",
   "execution_count": null,
   "metadata": {
    "collapsed": true
   },
   "outputs": [],
   "source": [
    "g = sns.jointplot(x='askergrd', y='doctorgrd', data=df_crop, kind=\"kde\", color=\"m\")\n",
    "g.plot_joint(plt.scatter, c=\"k\", s=30, linewidth=1, marker=\".\")\n",
    "g.ax_joint.collections[0].set_alpha(0)"
   ]
  },
  {
   "cell_type": "code",
   "execution_count": 43,
   "metadata": {
    "collapsed": false
   },
   "outputs": [
    {
     "name": "stdout",
     "output_type": "stream",
     "text": [
      "0.129719874248 labeled by subject \n"
     ]
    }
   ],
   "source": [
    "labeled = 1-df.groupby('subject')['response'].count()[['nevermind','stds']].sum()/float(len(df))\n",
    "print \"%s labeled by subject \" % labeled"
   ]
  },
  {
   "cell_type": "code",
   "execution_count": 5,
   "metadata": {
    "collapsed": true
   },
   "outputs": [],
   "source": [
    "df=df.loc[df['response_time']!='ignored',:]\n",
    "df=df.loc[df['response_time']!='ignore',:]\n",
    "df['response_time']=df['response_time'].str.replace('replied ','').str.strip()\n",
    "df['response_time']=pd.to_datetime(df['response_time'])"
   ]
  },
  {
   "cell_type": "code",
   "execution_count": 6,
   "metadata": {
    "collapsed": false
   },
   "outputs": [
    {
     "name": "stdout",
     "output_type": "stream",
     "text": [
      "0\n",
      "1000\n",
      "2000\n",
      "3000\n",
      "4000\n",
      "5000\n",
      "6000\n",
      "7000\n",
      "8000\n",
      "9000\n",
      "10000\n",
      "11000\n",
      "12000\n",
      "13000\n",
      "14000\n",
      "15000\n",
      "16000\n",
      "17000\n",
      "18000\n",
      "19000\n",
      "20000\n",
      "21000\n",
      "22000\n",
      "23000\n",
      "24000\n",
      "25000\n",
      "26000\n",
      "27000\n",
      "28000\n",
      "29000\n",
      "30000\n",
      "31000\n",
      "32000\n",
      "33000\n",
      "34000\n",
      "35000\n",
      "36000\n",
      "37000\n",
      "38000\n",
      "39000\n",
      "40000\n",
      "41000\n",
      "42000\n"
     ]
    }
   ],
   "source": [
    "#just lists to turn into a new dataframe (this is quicker than append)\n",
    "# sure I could figure out a groupby post then sortby response_type\n",
    "\n",
    "timing=[]\n",
    "\n",
    "for i,post in enumerate(df['post'].unique()):\n",
    "    if(i%1000==0):\n",
    "        print i\n",
    "    tm_ask = df.loc[(df['post']==post) & (df['response_type']=='asker'),'response_time'].values\n",
    "    tm_doc = df.loc[(df['post']==post) & (df['response_type']=='doctor'),'response_time'].values\n",
    "    if(len(tm_ask)>0 and len(tm_doc)>0):\n",
    "        x=(tm_doc[0]-tm_ask[0])\n",
    "        days = x.astype('timedelta64[D]')\n",
    "        timing.append(days / np.timedelta64(1, 'D'))\n",
    "delays=np.array(timing)"
   ]
  },
  {
   "cell_type": "code",
   "execution_count": 7,
   "metadata": {
    "collapsed": false
   },
   "outputs": [
    {
     "name": "stdout",
     "output_type": "stream",
     "text": [
      "The mean time for a doctor response on the health forums was 4.51026295087 days.\n"
     ]
    }
   ],
   "source": [
    "print \"The mean time for a doctor response on the health forums was %s days.\" % delays.mean()"
   ]
  },
  {
   "cell_type": "code",
   "execution_count": 26,
   "metadata": {
    "collapsed": false
   },
   "outputs": [
    {
     "data": {
      "text/plain": [
       "(0, 50)"
      ]
     },
     "execution_count": 26,
     "metadata": {},
     "output_type": "execute_result"
    },
    {
     "data": {
      "image/png": "[encoded data removed]",
      "text/plain": [
       "<matplotlib.figure.Figure at 0x7efbaf7ee990>"
      ]
     },
     "metadata": {},
     "output_type": "display_data"
    }
   ],
   "source": [
    "sns.distplot(delays[ (delays<50)],50,kde_kws={'bw':1})\n",
    "plt.xlabel('Response time (days)')\n",
    "plt.xlim([0,50])"
   ]
  },
  {
   "cell_type": "code",
   "execution_count": null,
   "metadata": {
    "collapsed": true
   },
   "outputs": [],
   "source": []
  }
 ],
 "metadata": {
  "kernelspec": {
   "display_name": "Python 2",
   "language": "python",
   "name": "python2"
  },
  "language_info": {
   "codemirror_mode": {
    "name": "ipython",
    "version": 2
   },
   "file_extension": ".py",
   "mimetype": "text/x-python",
   "name": "python",
   "nbconvert_exporter": "python",
   "pygments_lexer": "ipython2",
   "version": "2.7.12"
  }
 },
 "nbformat": 4,
 "nbformat_minor": 0
}
