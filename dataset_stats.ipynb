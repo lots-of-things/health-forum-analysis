{
 "cells": [
  {
   "cell_type": "code",
   "execution_count": 4,
   "metadata": {
    "collapsed": false
   },
   "outputs": [],
   "source": [
    "import pandas as pd\n",
    "import re\n",
    "import seaborn as sns\n",
    "from matplotlib import pyplot as plt\n",
    "%matplotlib inline\n",
    "import numpy as np\n",
    "import cloudpickle"
   ]
  },
  {
   "cell_type": "markdown",
   "metadata": {},
   "source": [
    "# Reading level distributions"
   ]
  },
  {
   "cell_type": "code",
   "execution_count": 5,
   "metadata": {
    "collapsed": false
   },
   "outputs": [],
   "source": [
    "disease_list = cloudpickle.load(open(\"pickles/disease_list.pkl\", \"rb\" ) )\n",
    "forum_db = cloudpickle.load(open(\"pickles/cleaned_forum_data.pkl\", \"rb\" ) )"
   ]
  },
  {
   "cell_type": "code",
   "execution_count": 3,
   "metadata": {
    "collapsed": false
   },
   "outputs": [
    {
     "data": {
      "text/plain": [
       "<matplotlib.text.Text at 0x7efbbc302450>"
      ]
     },
     "execution_count": 3,
     "metadata": {},
     "output_type": "execute_result"
    },
    {
     "data": {
      "image/png": "[encoded data removed]",
      "text/plain": [
       "<matplotlib.figure.Figure at 0x7efbb9945850>"
      ]
     },
     "metadata": {},
     "output_type": "display_data"
    }
   ],
   "source": [
    "sns.distplot(forum_db['askergrd'],400)\n",
    "sns.distplot(forum_db['doctorgrd'],100)\n",
    "plt.xlim(0, 50)\n",
    "plt.xlabel('Flesch Kincaid Grade Level')\n",
    "plt.ylabel('Frequency')"
   ]
  },
  {
   "cell_type": "code",
   "execution_count": 5,
   "metadata": {
    "collapsed": true
   },
   "outputs": [
    {
     "ename": "KeyboardInterrupt",
     "evalue": "",
     "output_type": "error",
     "traceback": [
      "\u001b[1;31m---------------------------------------------------------------------------\u001b[0m",
      "\u001b[1;31mKeyboardInterrupt\u001b[0m                         Traceback (most recent call last)",
      "\u001b[1;32m<ipython-input-5-160bbb2a272a>\u001b[0m in \u001b[0;36m<module>\u001b[1;34m()\u001b[0m\n\u001b[1;32m----> 1\u001b[1;33m \u001b[0mg\u001b[0m \u001b[1;33m=\u001b[0m \u001b[0msns\u001b[0m\u001b[1;33m.\u001b[0m\u001b[0mjointplot\u001b[0m\u001b[1;33m(\u001b[0m\u001b[0mx\u001b[0m\u001b[1;33m=\u001b[0m\u001b[1;34m'askergrd'\u001b[0m\u001b[1;33m,\u001b[0m \u001b[0my\u001b[0m\u001b[1;33m=\u001b[0m\u001b[1;34m'doctorgrd'\u001b[0m\u001b[1;33m,\u001b[0m \u001b[0mdata\u001b[0m\u001b[1;33m=\u001b[0m\u001b[0mforum_db\u001b[0m\u001b[1;33m,\u001b[0m \u001b[0mkind\u001b[0m\u001b[1;33m=\u001b[0m\u001b[1;34m\"kde\"\u001b[0m\u001b[1;33m,\u001b[0m \u001b[0mcolor\u001b[0m\u001b[1;33m=\u001b[0m\u001b[1;34m\"m\"\u001b[0m\u001b[1;33m)\u001b[0m\u001b[1;33m\u001b[0m\u001b[0m\n\u001b[0m\u001b[0;32m      2\u001b[0m \u001b[0mg\u001b[0m\u001b[1;33m.\u001b[0m\u001b[0mplot_joint\u001b[0m\u001b[1;33m(\u001b[0m\u001b[0mplt\u001b[0m\u001b[1;33m.\u001b[0m\u001b[0mscatter\u001b[0m\u001b[1;33m,\u001b[0m \u001b[0mc\u001b[0m\u001b[1;33m=\u001b[0m\u001b[1;34m\"k\"\u001b[0m\u001b[1;33m,\u001b[0m \u001b[0ms\u001b[0m\u001b[1;33m=\u001b[0m\u001b[1;36m30\u001b[0m\u001b[1;33m,\u001b[0m \u001b[0mlinewidth\u001b[0m\u001b[1;33m=\u001b[0m\u001b[1;36m1\u001b[0m\u001b[1;33m,\u001b[0m \u001b[0mmarker\u001b[0m\u001b[1;33m=\u001b[0m\u001b[1;34m\".\"\u001b[0m\u001b[1;33m)\u001b[0m\u001b[1;33m\u001b[0m\u001b[0m\n\u001b[0;32m      3\u001b[0m \u001b[0mg\u001b[0m\u001b[1;33m.\u001b[0m\u001b[0max_joint\u001b[0m\u001b[1;33m.\u001b[0m\u001b[0mcollections\u001b[0m\u001b[1;33m[\u001b[0m\u001b[1;36m0\u001b[0m\u001b[1;33m]\u001b[0m\u001b[1;33m.\u001b[0m\u001b[0mset_alpha\u001b[0m\u001b[1;33m(\u001b[0m\u001b[1;36m0\u001b[0m\u001b[1;33m)\u001b[0m\u001b[1;33m\u001b[0m\u001b[0m\n",
      "\u001b[1;32m/home/will/anaconda/lib/python2.7/site-packages/seaborn/distributions.pyc\u001b[0m in \u001b[0;36mjointplot\u001b[1;34m(x, y, data, kind, stat_func, color, size, ratio, space, dropna, xlim, ylim, joint_kws, marginal_kws, annot_kws, **kwargs)\u001b[0m\n\u001b[0;32m    826\u001b[0m         \u001b[0mjoint_kws\u001b[0m\u001b[1;33m.\u001b[0m\u001b[0msetdefault\u001b[0m\u001b[1;33m(\u001b[0m\u001b[1;34m\"shade\"\u001b[0m\u001b[1;33m,\u001b[0m \u001b[0mTrue\u001b[0m\u001b[1;33m)\u001b[0m\u001b[1;33m\u001b[0m\u001b[0m\n\u001b[0;32m    827\u001b[0m         \u001b[0mjoint_kws\u001b[0m\u001b[1;33m.\u001b[0m\u001b[0msetdefault\u001b[0m\u001b[1;33m(\u001b[0m\u001b[1;34m\"cmap\"\u001b[0m\u001b[1;33m,\u001b[0m \u001b[0mcmap\u001b[0m\u001b[1;33m)\u001b[0m\u001b[1;33m\u001b[0m\u001b[0m\n\u001b[1;32m--> 828\u001b[1;33m         \u001b[0mgrid\u001b[0m\u001b[1;33m.\u001b[0m\u001b[0mplot_joint\u001b[0m\u001b[1;33m(\u001b[0m\u001b[0mkdeplot\u001b[0m\u001b[1;33m,\u001b[0m \u001b[1;33m**\u001b[0m\u001b[0mjoint_kws\u001b[0m\u001b[1;33m)\u001b[0m\u001b[1;33m\u001b[0m\u001b[0m\n\u001b[0m\u001b[0;32m    829\u001b[0m \u001b[1;33m\u001b[0m\u001b[0m\n\u001b[0;32m    830\u001b[0m         \u001b[0mmarginal_kws\u001b[0m\u001b[1;33m.\u001b[0m\u001b[0msetdefault\u001b[0m\u001b[1;33m(\u001b[0m\u001b[1;34m\"shade\"\u001b[0m\u001b[1;33m,\u001b[0m \u001b[0mTrue\u001b[0m\u001b[1;33m)\u001b[0m\u001b[1;33m\u001b[0m\u001b[0m\n",
      "\u001b[1;32m/home/will/anaconda/lib/python2.7/site-packages/seaborn/axisgrid.pyc\u001b[0m in \u001b[0;36mplot_joint\u001b[1;34m(self, func, **kwargs)\u001b[0m\n\u001b[0;32m   1725\u001b[0m         \"\"\"\n\u001b[0;32m   1726\u001b[0m         \u001b[0mplt\u001b[0m\u001b[1;33m.\u001b[0m\u001b[0msca\u001b[0m\u001b[1;33m(\u001b[0m\u001b[0mself\u001b[0m\u001b[1;33m.\u001b[0m\u001b[0max_joint\u001b[0m\u001b[1;33m)\u001b[0m\u001b[1;33m\u001b[0m\u001b[0m\n\u001b[1;32m-> 1727\u001b[1;33m         \u001b[0mfunc\u001b[0m\u001b[1;33m(\u001b[0m\u001b[0mself\u001b[0m\u001b[1;33m.\u001b[0m\u001b[0mx\u001b[0m\u001b[1;33m,\u001b[0m \u001b[0mself\u001b[0m\u001b[1;33m.\u001b[0m\u001b[0my\u001b[0m\u001b[1;33m,\u001b[0m \u001b[1;33m**\u001b[0m\u001b[0mkwargs\u001b[0m\u001b[1;33m)\u001b[0m\u001b[1;33m\u001b[0m\u001b[0m\n\u001b[0m\u001b[0;32m   1728\u001b[0m \u001b[1;33m\u001b[0m\u001b[0m\n\u001b[0;32m   1729\u001b[0m         \u001b[1;32mreturn\u001b[0m \u001b[0mself\u001b[0m\u001b[1;33m\u001b[0m\u001b[0m\n",
      "\u001b[1;32m/home/will/anaconda/lib/python2.7/site-packages/seaborn/distributions.pyc\u001b[0m in \u001b[0;36mkdeplot\u001b[1;34m(data, data2, shade, vertical, kernel, bw, gridsize, cut, clip, legend, cumulative, shade_lowest, ax, **kwargs)\u001b[0m\n\u001b[0;32m    598\u001b[0m         ax = _bivariate_kdeplot(x, y, shade, shade_lowest,\n\u001b[0;32m    599\u001b[0m                                 \u001b[0mkernel\u001b[0m\u001b[1;33m,\u001b[0m \u001b[0mbw\u001b[0m\u001b[1;33m,\u001b[0m \u001b[0mgridsize\u001b[0m\u001b[1;33m,\u001b[0m \u001b[0mcut\u001b[0m\u001b[1;33m,\u001b[0m \u001b[0mclip\u001b[0m\u001b[1;33m,\u001b[0m \u001b[0mlegend\u001b[0m\u001b[1;33m,\u001b[0m\u001b[1;33m\u001b[0m\u001b[0m\n\u001b[1;32m--> 600\u001b[1;33m                                 ax, **kwargs)\n\u001b[0m\u001b[0;32m    601\u001b[0m     \u001b[1;32melse\u001b[0m\u001b[1;33m:\u001b[0m\u001b[1;33m\u001b[0m\u001b[0m\n\u001b[0;32m    602\u001b[0m         ax = _univariate_kdeplot(data, shade, vertical, kernel, bw,\n",
      "\u001b[1;32m/home/will/anaconda/lib/python2.7/site-packages/seaborn/distributions.pyc\u001b[0m in \u001b[0;36m_bivariate_kdeplot\u001b[1;34m(x, y, filled, fill_lowest, kernel, bw, gridsize, cut, clip, axlabel, ax, **kwargs)\u001b[0m\n\u001b[0;32m    364\u001b[0m     \u001b[1;31m# Calculate the KDE\u001b[0m\u001b[1;33m\u001b[0m\u001b[1;33m\u001b[0m\u001b[0m\n\u001b[0;32m    365\u001b[0m     \u001b[1;32mif\u001b[0m \u001b[0m_has_statsmodels\u001b[0m\u001b[1;33m:\u001b[0m\u001b[1;33m\u001b[0m\u001b[0m\n\u001b[1;32m--> 366\u001b[1;33m         \u001b[0mxx\u001b[0m\u001b[1;33m,\u001b[0m \u001b[0myy\u001b[0m\u001b[1;33m,\u001b[0m \u001b[0mz\u001b[0m \u001b[1;33m=\u001b[0m \u001b[0m_statsmodels_bivariate_kde\u001b[0m\u001b[1;33m(\u001b[0m\u001b[0mx\u001b[0m\u001b[1;33m,\u001b[0m \u001b[0my\u001b[0m\u001b[1;33m,\u001b[0m \u001b[0mbw\u001b[0m\u001b[1;33m,\u001b[0m \u001b[0mgridsize\u001b[0m\u001b[1;33m,\u001b[0m \u001b[0mcut\u001b[0m\u001b[1;33m,\u001b[0m \u001b[0mclip\u001b[0m\u001b[1;33m)\u001b[0m\u001b[1;33m\u001b[0m\u001b[0m\n\u001b[0m\u001b[0;32m    367\u001b[0m     \u001b[1;32melse\u001b[0m\u001b[1;33m:\u001b[0m\u001b[1;33m\u001b[0m\u001b[0m\n\u001b[0;32m    368\u001b[0m         \u001b[0mxx\u001b[0m\u001b[1;33m,\u001b[0m \u001b[0myy\u001b[0m\u001b[1;33m,\u001b[0m \u001b[0mz\u001b[0m \u001b[1;33m=\u001b[0m \u001b[0m_scipy_bivariate_kde\u001b[0m\u001b[1;33m(\u001b[0m\u001b[0mx\u001b[0m\u001b[1;33m,\u001b[0m \u001b[0my\u001b[0m\u001b[1;33m,\u001b[0m \u001b[0mbw\u001b[0m\u001b[1;33m,\u001b[0m \u001b[0mgridsize\u001b[0m\u001b[1;33m,\u001b[0m \u001b[0mcut\u001b[0m\u001b[1;33m,\u001b[0m \u001b[0mclip\u001b[0m\u001b[1;33m)\u001b[0m\u001b[1;33m\u001b[0m\u001b[0m\n",
      "\u001b[1;32m/home/will/anaconda/lib/python2.7/site-packages/seaborn/distributions.pyc\u001b[0m in \u001b[0;36m_statsmodels_bivariate_kde\u001b[1;34m(x, y, bw, gridsize, cut, clip)\u001b[0m\n\u001b[0;32m    414\u001b[0m     \u001b[0my_support\u001b[0m \u001b[1;33m=\u001b[0m \u001b[0m_kde_support\u001b[0m\u001b[1;33m(\u001b[0m\u001b[0my\u001b[0m\u001b[1;33m,\u001b[0m \u001b[0mkde\u001b[0m\u001b[1;33m.\u001b[0m\u001b[0mbw\u001b[0m\u001b[1;33m[\u001b[0m\u001b[1;36m1\u001b[0m\u001b[1;33m]\u001b[0m\u001b[1;33m,\u001b[0m \u001b[0mgridsize\u001b[0m\u001b[1;33m,\u001b[0m \u001b[0mcut\u001b[0m\u001b[1;33m,\u001b[0m \u001b[0mclip\u001b[0m\u001b[1;33m[\u001b[0m\u001b[1;36m1\u001b[0m\u001b[1;33m]\u001b[0m\u001b[1;33m)\u001b[0m\u001b[1;33m\u001b[0m\u001b[0m\n\u001b[0;32m    415\u001b[0m     \u001b[0mxx\u001b[0m\u001b[1;33m,\u001b[0m \u001b[0myy\u001b[0m \u001b[1;33m=\u001b[0m \u001b[0mnp\u001b[0m\u001b[1;33m.\u001b[0m\u001b[0mmeshgrid\u001b[0m\u001b[1;33m(\u001b[0m\u001b[0mx_support\u001b[0m\u001b[1;33m,\u001b[0m \u001b[0my_support\u001b[0m\u001b[1;33m)\u001b[0m\u001b[1;33m\u001b[0m\u001b[0m\n\u001b[1;32m--> 416\u001b[1;33m     \u001b[0mz\u001b[0m \u001b[1;33m=\u001b[0m \u001b[0mkde\u001b[0m\u001b[1;33m.\u001b[0m\u001b[0mpdf\u001b[0m\u001b[1;33m(\u001b[0m\u001b[1;33m[\u001b[0m\u001b[0mxx\u001b[0m\u001b[1;33m.\u001b[0m\u001b[0mravel\u001b[0m\u001b[1;33m(\u001b[0m\u001b[1;33m)\u001b[0m\u001b[1;33m,\u001b[0m \u001b[0myy\u001b[0m\u001b[1;33m.\u001b[0m\u001b[0mravel\u001b[0m\u001b[1;33m(\u001b[0m\u001b[1;33m)\u001b[0m\u001b[1;33m]\u001b[0m\u001b[1;33m)\u001b[0m\u001b[1;33m.\u001b[0m\u001b[0mreshape\u001b[0m\u001b[1;33m(\u001b[0m\u001b[0mxx\u001b[0m\u001b[1;33m.\u001b[0m\u001b[0mshape\u001b[0m\u001b[1;33m)\u001b[0m\u001b[1;33m\u001b[0m\u001b[0m\n\u001b[0m\u001b[0;32m    417\u001b[0m     \u001b[1;32mreturn\u001b[0m \u001b[0mxx\u001b[0m\u001b[1;33m,\u001b[0m \u001b[0myy\u001b[0m\u001b[1;33m,\u001b[0m \u001b[0mz\u001b[0m\u001b[1;33m\u001b[0m\u001b[0m\n\u001b[0;32m    418\u001b[0m \u001b[1;33m\u001b[0m\u001b[0m\n",
      "\u001b[1;32m/home/will/anaconda/lib/python2.7/site-packages/statsmodels/nonparametric/kernel_density.pyc\u001b[0m in \u001b[0;36mpdf\u001b[1;34m(self, data_predict)\u001b[0m\n\u001b[0;32m    194\u001b[0m             pdf_est.append(gpke(self.bw, data=self.data,\n\u001b[0;32m    195\u001b[0m                                 \u001b[0mdata_predict\u001b[0m\u001b[1;33m=\u001b[0m\u001b[0mdata_predict\u001b[0m\u001b[1;33m[\u001b[0m\u001b[0mi\u001b[0m\u001b[1;33m,\u001b[0m \u001b[1;33m:\u001b[0m\u001b[1;33m]\u001b[0m\u001b[1;33m,\u001b[0m\u001b[1;33m\u001b[0m\u001b[0m\n\u001b[1;32m--> 196\u001b[1;33m                                 var_type=self.var_type) / self.nobs)\n\u001b[0m\u001b[0;32m    197\u001b[0m \u001b[1;33m\u001b[0m\u001b[0m\n\u001b[0;32m    198\u001b[0m         \u001b[0mpdf_est\u001b[0m \u001b[1;33m=\u001b[0m \u001b[0mnp\u001b[0m\u001b[1;33m.\u001b[0m\u001b[0msqueeze\u001b[0m\u001b[1;33m(\u001b[0m\u001b[0mpdf_est\u001b[0m\u001b[1;33m)\u001b[0m\u001b[1;33m\u001b[0m\u001b[0m\n",
      "\u001b[1;32m/home/will/anaconda/lib/python2.7/site-packages/statsmodels/nonparametric/_kernel_base.pyc\u001b[0m in \u001b[0;36mgpke\u001b[1;34m(bw, data, data_predict, var_type, ckertype, okertype, ukertype, tosum)\u001b[0m\n\u001b[0;32m    509\u001b[0m     \u001b[1;32mfor\u001b[0m \u001b[0mii\u001b[0m\u001b[1;33m,\u001b[0m \u001b[0mvtype\u001b[0m \u001b[1;32min\u001b[0m \u001b[0menumerate\u001b[0m\u001b[1;33m(\u001b[0m\u001b[0mvar_type\u001b[0m\u001b[1;33m)\u001b[0m\u001b[1;33m:\u001b[0m\u001b[1;33m\u001b[0m\u001b[0m\n\u001b[0;32m    510\u001b[0m         \u001b[0mfunc\u001b[0m \u001b[1;33m=\u001b[0m \u001b[0mkernel_func\u001b[0m\u001b[1;33m[\u001b[0m\u001b[0mkertypes\u001b[0m\u001b[1;33m[\u001b[0m\u001b[0mvtype\u001b[0m\u001b[1;33m]\u001b[0m\u001b[1;33m]\u001b[0m\u001b[1;33m\u001b[0m\u001b[0m\n\u001b[1;32m--> 511\u001b[1;33m         \u001b[0mKval\u001b[0m\u001b[1;33m[\u001b[0m\u001b[1;33m:\u001b[0m\u001b[1;33m,\u001b[0m \u001b[0mii\u001b[0m\u001b[1;33m]\u001b[0m \u001b[1;33m=\u001b[0m \u001b[0mfunc\u001b[0m\u001b[1;33m(\u001b[0m\u001b[0mbw\u001b[0m\u001b[1;33m[\u001b[0m\u001b[0mii\u001b[0m\u001b[1;33m]\u001b[0m\u001b[1;33m,\u001b[0m \u001b[0mdata\u001b[0m\u001b[1;33m[\u001b[0m\u001b[1;33m:\u001b[0m\u001b[1;33m,\u001b[0m \u001b[0mii\u001b[0m\u001b[1;33m]\u001b[0m\u001b[1;33m,\u001b[0m \u001b[0mdata_predict\u001b[0m\u001b[1;33m[\u001b[0m\u001b[0mii\u001b[0m\u001b[1;33m]\u001b[0m\u001b[1;33m)\u001b[0m\u001b[1;33m\u001b[0m\u001b[0m\n\u001b[0m\u001b[0;32m    512\u001b[0m \u001b[1;33m\u001b[0m\u001b[0m\n\u001b[0;32m    513\u001b[0m     \u001b[0miscontinuous\u001b[0m \u001b[1;33m=\u001b[0m \u001b[0mnp\u001b[0m\u001b[1;33m.\u001b[0m\u001b[0marray\u001b[0m\u001b[1;33m(\u001b[0m\u001b[1;33m[\u001b[0m\u001b[0mc\u001b[0m \u001b[1;33m==\u001b[0m \u001b[1;34m'c'\u001b[0m \u001b[1;32mfor\u001b[0m \u001b[0mc\u001b[0m \u001b[1;32min\u001b[0m \u001b[0mvar_type\u001b[0m\u001b[1;33m]\u001b[0m\u001b[1;33m)\u001b[0m\u001b[1;33m\u001b[0m\u001b[0m\n",
      "\u001b[1;32m/home/will/anaconda/lib/python2.7/site-packages/statsmodels/nonparametric/kernels.pyc\u001b[0m in \u001b[0;36mgaussian\u001b[1;34m(h, Xi, x)\u001b[0m\n\u001b[0;32m    125\u001b[0m \u001b[1;33m\u001b[0m\u001b[0m\n\u001b[0;32m    126\u001b[0m     \"\"\"\n\u001b[1;32m--> 127\u001b[1;33m     \u001b[1;32mreturn\u001b[0m \u001b[1;33m(\u001b[0m\u001b[1;36m1.\u001b[0m \u001b[1;33m/\u001b[0m \u001b[0mnp\u001b[0m\u001b[1;33m.\u001b[0m\u001b[0msqrt\u001b[0m\u001b[1;33m(\u001b[0m\u001b[1;36m2\u001b[0m \u001b[1;33m*\u001b[0m \u001b[0mnp\u001b[0m\u001b[1;33m.\u001b[0m\u001b[0mpi\u001b[0m\u001b[1;33m)\u001b[0m\u001b[1;33m)\u001b[0m \u001b[1;33m*\u001b[0m \u001b[0mnp\u001b[0m\u001b[1;33m.\u001b[0m\u001b[0mexp\u001b[0m\u001b[1;33m(\u001b[0m\u001b[1;33m-\u001b[0m\u001b[1;33m(\u001b[0m\u001b[0mXi\u001b[0m \u001b[1;33m-\u001b[0m \u001b[0mx\u001b[0m\u001b[1;33m)\u001b[0m\u001b[1;33m**\u001b[0m\u001b[1;36m2\u001b[0m \u001b[1;33m/\u001b[0m \u001b[1;33m(\u001b[0m\u001b[0mh\u001b[0m\u001b[1;33m**\u001b[0m\u001b[1;36m2\u001b[0m \u001b[1;33m*\u001b[0m \u001b[1;36m2.\u001b[0m\u001b[1;33m)\u001b[0m\u001b[1;33m)\u001b[0m\u001b[1;33m\u001b[0m\u001b[0m\n\u001b[0m\u001b[0;32m    128\u001b[0m \u001b[1;33m\u001b[0m\u001b[0m\n\u001b[0;32m    129\u001b[0m \u001b[1;33m\u001b[0m\u001b[0m\n",
      "\u001b[1;31mKeyboardInterrupt\u001b[0m: "
     ]
    },
    {
     "data": {
      "image/png": "[encoded data removed]",
      "text/plain": [
       "<matplotlib.figure.Figure at 0x7efbba513390>"
      ]
     },
     "metadata": {},
     "output_type": "display_data"
    }
   ],
   "source": [
    "g = sns.jointplot(x='askergrd', y='doctorgrd', data=forum_db, kind=\"kde\", color=\"m\")\n",
    "g.plot_joint(plt.scatter, c=\"k\", s=30, linewidth=1, marker=\".\")\n",
    "g.ax_joint.collections[0].set_alpha(0)"
   ]
  },
  {
   "cell_type": "markdown",
   "metadata": {},
   "source": [
    "# Most frequently mentioned conditions"
   ]
  },
  {
   "cell_type": "code",
   "execution_count": 3,
   "metadata": {
    "collapsed": false
   },
   "outputs": [],
   "source": [
    "disease_db = cloudpickle.load(open(\"pickles/disease_db.pkl\", \"rb\" ) )"
   ]
  },
  {
   "cell_type": "code",
   "execution_count": 5,
   "metadata": {
    "collapsed": false
   },
   "outputs": [
    {
     "data": {
      "text/plain": [
       "(array([0, 1, 2, 3, 4, 5, 6, 7, 8, 9]), <a list of 10 Text xticklabel objects>)"
      ]
     },
     "execution_count": 5,
     "metadata": {},
     "output_type": "execute_result"
    },
    {
     "data": {
      "image/png": "[encoded data removed]",
      "text/plain": [
       "<matplotlib.figure.Figure at 0x7fee915c8310>"
      ]
     },
     "metadata": {},
     "output_type": "display_data"
    }
   ],
   "source": [
    "counts = [(a['name'],a['forum_freq']) for a in sorted(disease_db, key=lambda x: -x['forum_freq'])]\n",
    "\n",
    "sns.barplot(x=[name for name,_ in counts][1:11], y=[count/len(forum_db) for _,count in counts][1:11])\n",
    "plt.xticks(rotation=90)"
   ]
  },
  {
   "cell_type": "code",
   "execution_count": 11,
   "metadata": {
    "collapsed": false
   },
   "outputs": [
    {
     "data": {
      "text/plain": [
       "72"
      ]
     },
     "execution_count": 11,
     "metadata": {},
     "output_type": "execute_result"
    }
   ],
   "source": [
    "len(xv)"
   ]
  },
  {
   "cell_type": "code",
   "execution_count": 13,
   "metadata": {
    "collapsed": false
   },
   "outputs": [
    {
     "data": {
      "text/plain": [
       "(array([0, 1, 2, 3, 4, 5, 6, 7, 8, 9]), <a list of 10 Text xticklabel objects>)"
      ]
     },
     "execution_count": 13,
     "metadata": {},
     "output_type": "execute_result"
    },
    {
     "data": {
      "image/png": "[encoded data removed]",
      "text/plain": [
       "<matplotlib.figure.Figure at 0x7fecccd8f0d0>"
      ]
     },
     "metadata": {},
     "output_type": "display_data"
    }
   ],
   "source": [
    "counts = [(a['name'],a['doctor_freq']) for a in sorted(disease_db, key=lambda x: -x['doctor_freq'])]\n",
    "\n",
    "xv = [name for name,_ in counts]\n",
    "yv = [count for _,count in counts]\n",
    "sns.barplot(x=xv[1:6]+xv[-30:-25], y=yv[1:6]+yv[-30:-25])\n",
    "plt.xticks(rotation=90)"
   ]
  },
  {
   "cell_type": "code",
   "execution_count": 21,
   "metadata": {
    "collapsed": false
   },
   "outputs": [
    {
     "name": "stdout",
     "output_type": "stream",
     "text": [
      "most frequent doctor    most frequent user    most frequent clinical    most frequent wiki\n",
      "----------------------  --------------------  ------------------------  --------------------\n",
      "pregnancy               pregnancy             chlamydia                 pneumonia\n",
      "mucus                   genital herpes        gonorrhea                 cancer\n",
      "anxiety                 aids                  syphilis                  tinea\n",
      "anemia                  anxiety               flu                       psoriasis\n",
      "infertility             cancer                gerd                      scabies\n",
      "aids                    mucus                 acne                      syphilis\n",
      "cancer                  outbreaks             aids                      arthritis\n",
      "pid                     chlamydia             adenomyosis               chlamydia\n",
      "diabetes                yeast infection       cancer                    pregnancy\n",
      "back pain               back pain             allergies                 flu\n"
     ]
    }
   ],
   "source": [
    "from tabulate import tabulate\n",
    "topdoc = [a['name'] for a in sorted(disease_db, key=lambda x: -x['doctor_freq'])]\n",
    "topfor = [a['name'] for a in sorted(disease_db, key=lambda x: -x['forum_freq'])]\n",
    "topclin = [a['name'] for a in sorted(disease_db, key=lambda x: -x['clin_freq'])]\n",
    "topwiki = [a['name'] for a in sorted(disease_db, key=lambda x: -x['wiki_freq'])]\n",
    "topshow=10\n",
    "print tabulate(zip(topdoc[:topshow],topfor[:topshow],topclin[:topshow],topwiki[:topshow]),headers=('most frequent doctor','most frequent user','most frequent clinical','most frequent wiki'))"
   ]
  },
  {
   "cell_type": "markdown",
   "metadata": {},
   "source": [
    "# Lag time time between question and answer"
   ]
  },
  {
   "cell_type": "code",
   "execution_count": 5,
   "metadata": {
    "collapsed": true
   },
   "outputs": [],
   "source": [
    "list_=[]\n",
    "df = pd.read_csv('forumdata/doctorslounge_data.csv', index_col=None, header=0)\n",
    "list_.append(df)\n",
    "df = pd.read_csv('forumdata/ehealthforum_data_0.csv', index_col=None, header=0)\n",
    "list_.append(df)\n",
    "df = pd.read_csv('forumdata/ehealthforum_data_1.csv', index_col=None, header=0)\n",
    "list_.append(df)\n",
    "df = pd.read_csv('forumdata/ehealthforum_data_2.csv', index_col=None, header=0)\n",
    "list_.append(df)\n",
    "df = pd.read_csv('forumdata/ehealthforum_data_3.csv', index_col=None, header=0)\n",
    "list_.append(df)\n",
    "df = pd.read_csv('forumdata/ehealthforum_data_4.csv', index_col=None, header=0)\n",
    "list_.append(df)\n",
    "df = pd.read_csv('forumdata/ehealthforum_data_5.csv', index_col=None, header=0)\n",
    "list_.append(df)\n",
    "df = pd.read_csv('forumdata/webmd_data_0.csv', index_col=None, header=0)\n",
    "list_.append(df)\n",
    "df = pd.read_csv('forumdata/webmd_data_1.csv', index_col=None, header=0)\n",
    "list_.append(df)\n",
    "df = pd.read_csv('forumdata/webmd_data_2.csv', index_col=None, header=0)\n",
    "list_.append(df)\n",
    "df = pd.read_csv('forumdata/scarleteen_data.csv', index_col=None, header=0)\n",
    "list_.append(df)\n",
    "\n",
    "df=pd.concat(list_,ignore_index=True)\n",
    "df=df.drop([df.columns[0]],1)\n",
    "df=df.drop_duplicates()"
   ]
  },
  {
   "cell_type": "code",
   "execution_count": 6,
   "metadata": {
    "collapsed": true
   },
   "outputs": [
    {
     "name": "stdout",
     "output_type": "stream",
     "text": [
      "0\n",
      "1000\n",
      "2000\n",
      "3000\n",
      "4000\n",
      "5000\n",
      "6000\n",
      "7000\n",
      "8000\n",
      "9000\n",
      "10000\n",
      "11000\n",
      "12000\n",
      "13000\n",
      "14000\n",
      "15000\n",
      "16000\n",
      "17000\n",
      "18000\n",
      "19000\n",
      "20000\n",
      "21000\n",
      "22000\n",
      "23000\n",
      "24000\n",
      "25000\n",
      "26000\n",
      "27000\n",
      "28000\n",
      "29000\n",
      "30000\n",
      "31000\n",
      "32000\n",
      "33000\n",
      "34000\n",
      "35000\n",
      "36000\n",
      "37000\n",
      "38000\n",
      "39000\n",
      "40000\n",
      "41000\n",
      "42000\n"
     ]
    }
   ],
   "source": [
    "#just lists to turn into a new dataframe (this is quicker than append)\n",
    "# sure I could figure out a groupby post then sortby response_type\n",
    "\n",
    "df=df.loc[df['response_time']!='ignored',:]\n",
    "df=df.loc[df['response_time']!='ignore',:]\n",
    "df['response_time']=df['response_time'].str.replace('replied ','').str.strip()\n",
    "df['response_time']=pd.to_datetime(df['response_time'])\n",
    "\n",
    "timing=[]\n",
    "\n",
    "for i,post in enumerate(df['post'].unique()):\n",
    "    if(i%1000==0):\n",
    "        print i\n",
    "    tm_ask = df.loc[(df['post']==post) & (df['response_type']=='asker'),'response_time'].values\n",
    "    tm_doc = df.loc[(df['post']==post) & (df['response_type']=='doctor'),'response_time'].values\n",
    "    if(len(tm_ask)>0 and len(tm_doc)>0):\n",
    "        x=(tm_doc[0]-tm_ask[0])\n",
    "        days = x.astype('timedelta64[D]')\n",
    "        timing.append(days / np.timedelta64(1, 'D'))\n",
    "delays=np.array(timing)"
   ]
  },
  {
   "cell_type": "code",
   "execution_count": 7,
   "metadata": {
    "collapsed": false
   },
   "outputs": [
    {
     "name": "stdout",
     "output_type": "stream",
     "text": [
      "The mean time for a doctor response on the health forums was 4.51026295087 days.\n"
     ]
    }
   ],
   "source": [
    "print \"The mean time for a doctor response on the health forums was %s days.\" % delays.mean()"
   ]
  },
  {
   "cell_type": "code",
   "execution_count": 26,
   "metadata": {
    "collapsed": false
   },
   "outputs": [
    {
     "data": {
      "text/plain": [
       "(0, 50)"
      ]
     },
     "execution_count": 26,
     "metadata": {},
     "output_type": "execute_result"
    },
    {
     "data": {
      "image/png": "[encoded data removed]",
      "text/plain": [
       "<matplotlib.figure.Figure at 0x7efbaf7ee990>"
      ]
     },
     "metadata": {},
     "output_type": "display_data"
    }
   ],
   "source": [
    "sns.distplot(delays[ (delays<50)],50,kde_kws={'bw':1})\n",
    "plt.xlabel('Response time (days)')\n",
    "plt.xlim([0,50])"
   ]
  },
  {
   "cell_type": "markdown",
   "metadata": {
    "collapsed": true
   },
   "source": [
    "# some bad answers"
   ]
  },
  {
   "cell_type": "code",
   "execution_count": 19,
   "metadata": {
    "collapsed": false
   },
   "outputs": [
    {
     "data": {
      "text/html": [
       "<div>\n",
       "<table border=\"1\" class=\"dataframe\">\n",
       "  <thead>\n",
       "    <tr style=\"text-align: right;\">\n",
       "      <th></th>\n",
       "      <th>doctortxt</th>\n",
       "      <th>doctorgrd</th>\n",
       "    </tr>\n",
       "  </thead>\n",
       "  <tbody>\n",
       "    <tr>\n",
       "      <th>22860</th>\n",
       "      <td>Hello, Welcome to the ehealthforum and I am r...</td>\n",
       "      <td>7.2592</td>\n",
       "    </tr>\n",
       "    <tr>\n",
       "      <th>29150</th>\n",
       "      <td>Hi, and thanks for your query on eHealth foru...</td>\n",
       "      <td>7.2595</td>\n",
       "    </tr>\n",
       "    <tr>\n",
       "      <th>4625</th>\n",
       "      <td>Dear Jhall4, It sounds like you could have an ...</td>\n",
       "      <td>7.2599</td>\n",
       "    </tr>\n",
       "    <tr>\n",
       "      <th>13381</th>\n",
       "      <td>Welcome to e health forum. In your case, exce...</td>\n",
       "      <td>7.2604</td>\n",
       "    </tr>\n",
       "    <tr>\n",
       "      <th>47381</th>\n",
       "      <td>Hi, and thanks for your medical question on e...</td>\n",
       "      <td>7.2611</td>\n",
       "    </tr>\n",
       "    <tr>\n",
       "      <th>38132</th>\n",
       "      <td>Hi, Welcome to the ehealthforum. I am glad to...</td>\n",
       "      <td>7.2618</td>\n",
       "    </tr>\n",
       "    <tr>\n",
       "      <th>2954</th>\n",
       "      <td>Hi yeah4me07, In some women after taking birth...</td>\n",
       "      <td>7.2620</td>\n",
       "    </tr>\n",
       "    <tr>\n",
       "      <th>1162</th>\n",
       "      <td>Hello,I'm sorry I can't answer this. I see no ...</td>\n",
       "      <td>7.2620</td>\n",
       "    </tr>\n",
       "    <tr>\n",
       "      <th>6169</th>\n",
       "      <td>The only way to abolish your fear or nervousne...</td>\n",
       "      <td>7.2620</td>\n",
       "    </tr>\n",
       "    <tr>\n",
       "      <th>36699</th>\n",
       "      <td>Hi, Welcome to the ehealthforum. I am glad to...</td>\n",
       "      <td>7.2620</td>\n",
       "    </tr>\n",
       "    <tr>\n",
       "      <th>10124</th>\n",
       "      <td>Hi, Welcome to ehealthforum, If she has got h...</td>\n",
       "      <td>7.2620</td>\n",
       "    </tr>\n",
       "    <tr>\n",
       "      <th>20686</th>\n",
       "      <td>If you have had your periods , although with ...</td>\n",
       "      <td>7.2620</td>\n",
       "    </tr>\n",
       "    <tr>\n",
       "      <th>51853</th>\n",
       "      <td>Hi, Welcome to the forum. I am really glad to...</td>\n",
       "      <td>7.2634</td>\n",
       "    </tr>\n",
       "    <tr>\n",
       "      <th>26120</th>\n",
       "      <td>Hi, Welcome to the ehealthforum and I am glad...</td>\n",
       "      <td>7.2634</td>\n",
       "    </tr>\n",
       "    <tr>\n",
       "      <th>20750</th>\n",
       "      <td>Thank you for asking at Ehealth forum! I read...</td>\n",
       "      <td>7.2634</td>\n",
       "    </tr>\n",
       "    <tr>\n",
       "      <th>26858</th>\n",
       "      <td>Hi, Welcome to the ehealthforum and I am real...</td>\n",
       "      <td>7.2647</td>\n",
       "    </tr>\n",
       "    <tr>\n",
       "      <th>36404</th>\n",
       "      <td>Hi, Welcome to ehealthforum. The Implanon ins...</td>\n",
       "      <td>7.2647</td>\n",
       "    </tr>\n",
       "    <tr>\n",
       "      <th>32126</th>\n",
       "      <td>Thank you for asking! Bleeding for more than ...</td>\n",
       "      <td>7.2650</td>\n",
       "    </tr>\n",
       "    <tr>\n",
       "      <th>17500</th>\n",
       "      <td>Welcome to e health forum. For your informati...</td>\n",
       "      <td>7.2650</td>\n",
       "    </tr>\n",
       "    <tr>\n",
       "      <th>14449</th>\n",
       "      <td>Thank you for asking at ehealthforum! I read ...</td>\n",
       "      <td>7.2653</td>\n",
       "    </tr>\n",
       "    <tr>\n",
       "      <th>5098</th>\n",
       "      <td>I am not aware of any treatment to help what y...</td>\n",
       "      <td>7.2655</td>\n",
       "    </tr>\n",
       "    <tr>\n",
       "      <th>26376</th>\n",
       "      <td>Hi, Welcome to the ehealthforum. I am glad to...</td>\n",
       "      <td>7.2655</td>\n",
       "    </tr>\n",
       "    <tr>\n",
       "      <th>29963</th>\n",
       "      <td>Hi, Welcome to ehealthforum. The bleeding tha...</td>\n",
       "      <td>7.2655</td>\n",
       "    </tr>\n",
       "    <tr>\n",
       "      <th>36512</th>\n",
       "      <td>Hi, Welcome to ehealthforum. If you are takin...</td>\n",
       "      <td>7.2655</td>\n",
       "    </tr>\n",
       "    <tr>\n",
       "      <th>35146</th>\n",
       "      <td>Hi, Welcome to ehealthforum. If you had the v...</td>\n",
       "      <td>7.2663</td>\n",
       "    </tr>\n",
       "    <tr>\n",
       "      <th>1025</th>\n",
       "      <td>Hello, Don't worry - occasional clots like thi...</td>\n",
       "      <td>7.2663</td>\n",
       "    </tr>\n",
       "    <tr>\n",
       "      <th>4235</th>\n",
       "      <td>Your rash sounds a little like shingles, espec...</td>\n",
       "      <td>7.2664</td>\n",
       "    </tr>\n",
       "    <tr>\n",
       "      <th>18416</th>\n",
       "      <td>Hello and thank you for posting your health q...</td>\n",
       "      <td>7.2668</td>\n",
       "    </tr>\n",
       "    <tr>\n",
       "      <th>27820</th>\n",
       "      <td>Hi, and thanks for your query on eHealth foru...</td>\n",
       "      <td>7.2674</td>\n",
       "    </tr>\n",
       "    <tr>\n",
       "      <th>36645</th>\n",
       "      <td>Hello, Thanks for joining me on ehealthforum....</td>\n",
       "      <td>7.2676</td>\n",
       "    </tr>\n",
       "    <tr>\n",
       "      <th>...</th>\n",
       "      <td>...</td>\n",
       "      <td>...</td>\n",
       "    </tr>\n",
       "    <tr>\n",
       "      <th>19825</th>\n",
       "      <td>According to the data you provided (sore bell...</td>\n",
       "      <td>8.5531</td>\n",
       "    </tr>\n",
       "    <tr>\n",
       "      <th>14957</th>\n",
       "      <td>Hello and thank you for posting your medical ...</td>\n",
       "      <td>8.5533</td>\n",
       "    </tr>\n",
       "    <tr>\n",
       "      <th>37077</th>\n",
       "      <td>Welcome to e health forum. It is difficult to...</td>\n",
       "      <td>8.5533</td>\n",
       "    </tr>\n",
       "    <tr>\n",
       "      <th>13810</th>\n",
       "      <td>Thank you for asking! The black patch in the ...</td>\n",
       "      <td>8.5533</td>\n",
       "    </tr>\n",
       "    <tr>\n",
       "      <th>43211</th>\n",
       "      <td>Hello and thank you for posting your medical ...</td>\n",
       "      <td>8.5533</td>\n",
       "    </tr>\n",
       "    <tr>\n",
       "      <th>48417</th>\n",
       "      <td>Hello, Welcome to this forum. A change in tex...</td>\n",
       "      <td>8.5533</td>\n",
       "    </tr>\n",
       "    <tr>\n",
       "      <th>14761</th>\n",
       "      <td>Welcome to e health forum. The description of...</td>\n",
       "      <td>8.5533</td>\n",
       "    </tr>\n",
       "    <tr>\n",
       "      <th>5168</th>\n",
       "      <td>Hello, Normal results for semen analysis: -Sem...</td>\n",
       "      <td>8.5533</td>\n",
       "    </tr>\n",
       "    <tr>\n",
       "      <th>39797</th>\n",
       "      <td>Hi, Welcome to the ehealthforum and I am glad...</td>\n",
       "      <td>8.5535</td>\n",
       "    </tr>\n",
       "    <tr>\n",
       "      <th>38194</th>\n",
       "      <td>Hello and welcome to eHealth forum! Well, ovu...</td>\n",
       "      <td>8.5554</td>\n",
       "    </tr>\n",
       "    <tr>\n",
       "      <th>82</th>\n",
       "      <td>Hello,You are entitled to receive the results ...</td>\n",
       "      <td>8.5554</td>\n",
       "    </tr>\n",
       "    <tr>\n",
       "      <th>23251</th>\n",
       "      <td>Hello, Welcome to the ehealthforum and I am r...</td>\n",
       "      <td>8.5557</td>\n",
       "    </tr>\n",
       "    <tr>\n",
       "      <th>22123</th>\n",
       "      <td>Hello, Your concern is regarding the status o...</td>\n",
       "      <td>8.5557</td>\n",
       "    </tr>\n",
       "    <tr>\n",
       "      <th>19179</th>\n",
       "      <td>Hello and welcome to eHealth forum! Since the...</td>\n",
       "      <td>8.5567</td>\n",
       "    </tr>\n",
       "    <tr>\n",
       "      <th>4045</th>\n",
       "      <td>Accutane is very close in structure to vitamin...</td>\n",
       "      <td>8.5567</td>\n",
       "    </tr>\n",
       "    <tr>\n",
       "      <th>35561</th>\n",
       "      <td>Hi, Welcome to ehealthforum, The spotting tha...</td>\n",
       "      <td>8.5575</td>\n",
       "    </tr>\n",
       "    <tr>\n",
       "      <th>19933</th>\n",
       "      <td>Hello and thank you for posting your medical ...</td>\n",
       "      <td>8.5585</td>\n",
       "    </tr>\n",
       "    <tr>\n",
       "      <th>20099</th>\n",
       "      <td>Hi, Welcome to the ehealthforum and I am real...</td>\n",
       "      <td>8.5585</td>\n",
       "    </tr>\n",
       "    <tr>\n",
       "      <th>28868</th>\n",
       "      <td>Hi, and thanks for your medical question on e...</td>\n",
       "      <td>8.5585</td>\n",
       "    </tr>\n",
       "    <tr>\n",
       "      <th>5678</th>\n",
       "      <td>Hello,The EPTs are quite reliable but some wom...</td>\n",
       "      <td>8.5586</td>\n",
       "    </tr>\n",
       "    <tr>\n",
       "      <th>17864</th>\n",
       "      <td>Hello and welcome to e health forum. In case ...</td>\n",
       "      <td>8.5590</td>\n",
       "    </tr>\n",
       "    <tr>\n",
       "      <th>21750</th>\n",
       "      <td>Hello, Welcome to the ehealthforum and I am r...</td>\n",
       "      <td>8.5594</td>\n",
       "    </tr>\n",
       "    <tr>\n",
       "      <th>37991</th>\n",
       "      <td>Hello and welcome to e health forum. Side eff...</td>\n",
       "      <td>8.5594</td>\n",
       "    </tr>\n",
       "    <tr>\n",
       "      <th>25666</th>\n",
       "      <td>Hi, Welcome to ehealthforum. Coming off the d...</td>\n",
       "      <td>8.5600</td>\n",
       "    </tr>\n",
       "    <tr>\n",
       "      <th>51715</th>\n",
       "      <td>Hi, Welcome to ehealthforum. If you are havin...</td>\n",
       "      <td>8.5600</td>\n",
       "    </tr>\n",
       "    <tr>\n",
       "      <th>19413</th>\n",
       "      <td>Welcome to e health forum. It is possible tha...</td>\n",
       "      <td>8.5600</td>\n",
       "    </tr>\n",
       "    <tr>\n",
       "      <th>50833</th>\n",
       "      <td>Hello Rachel, Welcome to ehealthforum. The bl...</td>\n",
       "      <td>8.5600</td>\n",
       "    </tr>\n",
       "    <tr>\n",
       "      <th>21730</th>\n",
       "      <td>Hi, Welcome to the forum and I am really glad...</td>\n",
       "      <td>8.5600</td>\n",
       "    </tr>\n",
       "    <tr>\n",
       "      <th>13111</th>\n",
       "      <td>If the pain is only on one side, then you mig...</td>\n",
       "      <td>8.5600</td>\n",
       "    </tr>\n",
       "    <tr>\n",
       "      <th>45243</th>\n",
       "      <td>Hi! Thanks for your query on eHealth Forum! B...</td>\n",
       "      <td>8.5606</td>\n",
       "    </tr>\n",
       "  </tbody>\n",
       "</table>\n",
       "<p>5510 rows × 2 columns</p>\n",
       "</div>"
      ],
      "text/plain": [
       "                                               doctortxt  doctorgrd\n",
       "22860   Hello, Welcome to the ehealthforum and I am r...     7.2592\n",
       "29150   Hi, and thanks for your query on eHealth foru...     7.2595\n",
       "4625   Dear Jhall4, It sounds like you could have an ...     7.2599\n",
       "13381   Welcome to e health forum. In your case, exce...     7.2604\n",
       "47381   Hi, and thanks for your medical question on e...     7.2611\n",
       "38132   Hi, Welcome to the ehealthforum. I am glad to...     7.2618\n",
       "2954   Hi yeah4me07, In some women after taking birth...     7.2620\n",
       "1162   Hello,I'm sorry I can't answer this. I see no ...     7.2620\n",
       "6169   The only way to abolish your fear or nervousne...     7.2620\n",
       "36699   Hi, Welcome to the ehealthforum. I am glad to...     7.2620\n",
       "10124   Hi, Welcome to ehealthforum, If she has got h...     7.2620\n",
       "20686   If you have had your periods , although with ...     7.2620\n",
       "51853   Hi, Welcome to the forum. I am really glad to...     7.2634\n",
       "26120   Hi, Welcome to the ehealthforum and I am glad...     7.2634\n",
       "20750   Thank you for asking at Ehealth forum! I read...     7.2634\n",
       "26858   Hi, Welcome to the ehealthforum and I am real...     7.2647\n",
       "36404   Hi, Welcome to ehealthforum. The Implanon ins...     7.2647\n",
       "32126   Thank you for asking! Bleeding for more than ...     7.2650\n",
       "17500   Welcome to e health forum. For your informati...     7.2650\n",
       "14449   Thank you for asking at ehealthforum! I read ...     7.2653\n",
       "5098   I am not aware of any treatment to help what y...     7.2655\n",
       "26376   Hi, Welcome to the ehealthforum. I am glad to...     7.2655\n",
       "29963   Hi, Welcome to ehealthforum. The bleeding tha...     7.2655\n",
       "36512   Hi, Welcome to ehealthforum. If you are takin...     7.2655\n",
       "35146   Hi, Welcome to ehealthforum. If you had the v...     7.2663\n",
       "1025   Hello, Don't worry - occasional clots like thi...     7.2663\n",
       "4235   Your rash sounds a little like shingles, espec...     7.2664\n",
       "18416   Hello and thank you for posting your health q...     7.2668\n",
       "27820   Hi, and thanks for your query on eHealth foru...     7.2674\n",
       "36645   Hello, Thanks for joining me on ehealthforum....     7.2676\n",
       "...                                                  ...        ...\n",
       "19825   According to the data you provided (sore bell...     8.5531\n",
       "14957   Hello and thank you for posting your medical ...     8.5533\n",
       "37077   Welcome to e health forum. It is difficult to...     8.5533\n",
       "13810   Thank you for asking! The black patch in the ...     8.5533\n",
       "43211   Hello and thank you for posting your medical ...     8.5533\n",
       "48417   Hello, Welcome to this forum. A change in tex...     8.5533\n",
       "14761   Welcome to e health forum. The description of...     8.5533\n",
       "5168   Hello, Normal results for semen analysis: -Sem...     8.5533\n",
       "39797   Hi, Welcome to the ehealthforum and I am glad...     8.5535\n",
       "38194   Hello and welcome to eHealth forum! Well, ovu...     8.5554\n",
       "82     Hello,You are entitled to receive the results ...     8.5554\n",
       "23251   Hello, Welcome to the ehealthforum and I am r...     8.5557\n",
       "22123   Hello, Your concern is regarding the status o...     8.5557\n",
       "19179   Hello and welcome to eHealth forum! Since the...     8.5567\n",
       "4045   Accutane is very close in structure to vitamin...     8.5567\n",
       "35561   Hi, Welcome to ehealthforum, The spotting tha...     8.5575\n",
       "19933   Hello and thank you for posting your medical ...     8.5585\n",
       "20099   Hi, Welcome to the ehealthforum and I am real...     8.5585\n",
       "28868   Hi, and thanks for your medical question on e...     8.5585\n",
       "5678   Hello,The EPTs are quite reliable but some wom...     8.5586\n",
       "17864   Hello and welcome to e health forum. In case ...     8.5590\n",
       "21750   Hello, Welcome to the ehealthforum and I am r...     8.5594\n",
       "37991   Hello and welcome to e health forum. Side eff...     8.5594\n",
       "25666   Hi, Welcome to ehealthforum. Coming off the d...     8.5600\n",
       "51715   Hi, Welcome to ehealthforum. If you are havin...     8.5600\n",
       "19413   Welcome to e health forum. It is possible tha...     8.5600\n",
       "50833   Hello Rachel, Welcome to ehealthforum. The bl...     8.5600\n",
       "21730   Hi, Welcome to the forum and I am really glad...     8.5600\n",
       "13111   If the pain is only on one side, then you mig...     8.5600\n",
       "45243   Hi! Thanks for your query on eHealth Forum! B...     8.5606\n",
       "\n",
       "[5510 rows x 2 columns]"
      ]
     },
     "execution_count": 19,
     "metadata": {},
     "output_type": "execute_result"
    }
   ],
   "source": [
    "forum_db.sort_values('doctorgrd')[['doctortxt','doctorgrd']][20000:25510]"
   ]
  },
  {
   "cell_type": "code",
   "execution_count": 21,
   "metadata": {
    "collapsed": false
   },
   "outputs": [
    {
     "data": {
      "text/plain": [
       "'after having intercoarse while cleaning up I noticed steam coming from my vaginia Is this normal or what does it mean when this happens'"
      ]
     },
     "execution_count": 21,
     "metadata": {},
     "output_type": "execute_result"
    }
   ],
   "source": [
    "forum_db.loc[1162,'askertxt']"
   ]
  },
  {
   "cell_type": "code",
   "execution_count": 22,
   "metadata": {
    "collapsed": false
   },
   "outputs": [
    {
     "data": {
      "text/plain": [
       "\"Hello,I'm sorry I can't answer this. I see no reason for something like this to occur; I can only guess it is some body heat escaping but it is not something I have encountered before. If it continues to bother you, discuss it with a health care provider. Best wishes\""
      ]
     },
     "execution_count": 22,
     "metadata": {},
     "output_type": "execute_result"
    }
   ],
   "source": [
    "forum_db.loc[1162,'doctortxt']"
   ]
  },
  {
   "cell_type": "code",
   "execution_count": 23,
   "metadata": {
    "collapsed": false
   },
   "outputs": [
    {
     "data": {
      "text/plain": [
       "'http://www.doctorslounge.com/forums/viewtopic.php?f=73&t=23501&sid=f1b1695ee6571db608ff06ca513fa82c'"
      ]
     },
     "execution_count": 23,
     "metadata": {},
     "output_type": "execute_result"
    }
   ],
   "source": [
    "forum_db.loc[1162,'post']"
   ]
  },
  {
   "cell_type": "code",
   "execution_count": null,
   "metadata": {
    "collapsed": true
   },
   "outputs": [],
   "source": []
  }
 ],
 "metadata": {
  "kernelspec": {
   "display_name": "Python 2",
   "language": "python",
   "name": "python2"
  },
  "language_info": {
   "codemirror_mode": {
    "name": "ipython",
    "version": 2
   },
   "file_extension": ".py",
   "mimetype": "text/x-python",
   "name": "python",
   "nbconvert_exporter": "python",
   "pygments_lexer": "ipython2",
   "version": "2.7.12"
  }
 },
 "nbformat": 4,
 "nbformat_minor": 0
}
